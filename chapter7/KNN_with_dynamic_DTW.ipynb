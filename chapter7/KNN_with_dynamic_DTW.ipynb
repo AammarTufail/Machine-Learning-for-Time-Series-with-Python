{
 "cells": [
  {
   "cell_type": "markdown",
   "metadata": {},
   "source": [
    "[![Open In Colab](https://colab.research.google.com/assets/colab-badge.svg)](https://colab.research.google.com/github/googlecolab/colabtools/blob/master/notebooks/colab-github-demo.ipynb)"
   ]
  },
  {
   "cell_type": "code",
   "execution_count": 1,
   "metadata": {
    "colab": {
     "base_uri": "https://localhost:8080/"
    },
    "id": "r1kjFHY6xlbo",
    "outputId": "4b3f00df-2b21-4b3f-809f-7df77ada4790"
   },
   "outputs": [
    {
     "name": "stdout",
     "output_type": "stream",
     "text": [
      "Requirement already satisfied: tsfresh in /usr/local/lib/python3.7/dist-packages (0.18.0)\n",
      "Requirement already satisfied: tqdm>=4.10.0 in /usr/local/lib/python3.7/dist-packages (from tsfresh) (4.62.0)\n",
      "Requirement already satisfied: requests>=2.9.1 in /usr/local/lib/python3.7/dist-packages (from tsfresh) (2.23.0)\n",
      "Requirement already satisfied: stumpy>=1.7.2 in /usr/local/lib/python3.7/dist-packages (from tsfresh) (1.9.2)\n",
      "Requirement already satisfied: dask[dataframe]>=2.9.0 in /usr/local/lib/python3.7/dist-packages (from tsfresh) (2.12.0)\n",
      "Requirement already satisfied: numpy>=1.15.1 in /usr/local/lib/python3.7/dist-packages (from tsfresh) (1.19.5)\n",
      "Requirement already satisfied: scikit-learn>=0.22.0 in /usr/local/lib/python3.7/dist-packages (from tsfresh) (0.22.2.post1)\n",
      "Requirement already satisfied: scipy>=1.2.0 in /usr/local/lib/python3.7/dist-packages (from tsfresh) (1.7.1)\n",
      "Requirement already satisfied: patsy>=0.4.1 in /usr/local/lib/python3.7/dist-packages (from tsfresh) (0.5.1)\n",
      "Requirement already satisfied: distributed>=2.11.0 in /usr/local/lib/python3.7/dist-packages (from tsfresh) (2.30.1)\n",
      "Requirement already satisfied: statsmodels>=0.9.0 in /usr/local/lib/python3.7/dist-packages (from tsfresh) (0.10.2)\n",
      "Requirement already satisfied: matrixprofile>=1.1.10<2.0.0 in /usr/local/lib/python3.7/dist-packages (from tsfresh) (1.1.10)\n",
      "Requirement already satisfied: pandas>=0.25.0 in /usr/local/lib/python3.7/dist-packages (from tsfresh) (1.1.5)\n",
      "Requirement already satisfied: toolz>=0.7.3 in /usr/local/lib/python3.7/dist-packages (from dask[dataframe]>=2.9.0->tsfresh) (0.11.1)\n",
      "Requirement already satisfied: fsspec>=0.6.0 in /usr/local/lib/python3.7/dist-packages (from dask[dataframe]>=2.9.0->tsfresh) (2021.7.0)\n",
      "Requirement already satisfied: partd>=0.3.10 in /usr/local/lib/python3.7/dist-packages (from dask[dataframe]>=2.9.0->tsfresh) (1.2.0)\n",
      "Requirement already satisfied: setuptools in /usr/local/lib/python3.7/dist-packages (from distributed>=2.11.0->tsfresh) (57.4.0)\n",
      "Requirement already satisfied: sortedcontainers!=2.0.0,!=2.0.1 in /usr/local/lib/python3.7/dist-packages (from distributed>=2.11.0->tsfresh) (2.4.0)\n",
      "Requirement already satisfied: tblib>=1.6.0 in /usr/local/lib/python3.7/dist-packages (from distributed>=2.11.0->tsfresh) (1.7.0)\n",
      "Requirement already satisfied: psutil>=5.0 in /usr/local/lib/python3.7/dist-packages (from distributed>=2.11.0->tsfresh) (5.4.8)\n",
      "Requirement already satisfied: pyyaml in /usr/local/lib/python3.7/dist-packages (from distributed>=2.11.0->tsfresh) (3.13)\n",
      "Requirement already satisfied: zict>=0.1.3 in /usr/local/lib/python3.7/dist-packages (from distributed>=2.11.0->tsfresh) (2.0.0)\n",
      "Requirement already satisfied: tornado>=5 in /usr/local/lib/python3.7/dist-packages (from distributed>=2.11.0->tsfresh) (5.1.1)\n",
      "Requirement already satisfied: click>=6.6 in /usr/local/lib/python3.7/dist-packages (from distributed>=2.11.0->tsfresh) (7.1.2)\n",
      "Requirement already satisfied: cloudpickle>=1.5.0 in /usr/local/lib/python3.7/dist-packages (from distributed>=2.11.0->tsfresh) (1.6.0)\n",
      "Requirement already satisfied: msgpack>=0.6.0 in /usr/local/lib/python3.7/dist-packages (from distributed>=2.11.0->tsfresh) (1.0.2)\n",
      "Requirement already satisfied: protobuf==3.11.2 in /usr/local/lib/python3.7/dist-packages (from matrixprofile>=1.1.10<2.0.0->tsfresh) (3.11.2)\n",
      "Requirement already satisfied: matplotlib>=3.0.3 in /usr/local/lib/python3.7/dist-packages (from matrixprofile>=1.1.10<2.0.0->tsfresh) (3.2.2)\n",
      "Requirement already satisfied: six>=1.9 in /usr/local/lib/python3.7/dist-packages (from protobuf==3.11.2->matrixprofile>=1.1.10<2.0.0->tsfresh) (1.15.0)\n",
      "Requirement already satisfied: pyparsing!=2.0.4,!=2.1.2,!=2.1.6,>=2.0.1 in /usr/local/lib/python3.7/dist-packages (from matplotlib>=3.0.3->matrixprofile>=1.1.10<2.0.0->tsfresh) (2.4.7)\n",
      "Requirement already satisfied: python-dateutil>=2.1 in /usr/local/lib/python3.7/dist-packages (from matplotlib>=3.0.3->matrixprofile>=1.1.10<2.0.0->tsfresh) (2.8.2)\n",
      "Requirement already satisfied: cycler>=0.10 in /usr/local/lib/python3.7/dist-packages (from matplotlib>=3.0.3->matrixprofile>=1.1.10<2.0.0->tsfresh) (0.10.0)\n",
      "Requirement already satisfied: kiwisolver>=1.0.1 in /usr/local/lib/python3.7/dist-packages (from matplotlib>=3.0.3->matrixprofile>=1.1.10<2.0.0->tsfresh) (1.3.1)\n",
      "Requirement already satisfied: pytz>=2017.2 in /usr/local/lib/python3.7/dist-packages (from pandas>=0.25.0->tsfresh) (2018.9)\n",
      "Requirement already satisfied: locket in /usr/local/lib/python3.7/dist-packages (from partd>=0.3.10->dask[dataframe]>=2.9.0->tsfresh) (0.2.1)\n",
      "Requirement already satisfied: urllib3!=1.25.0,!=1.25.1,<1.26,>=1.21.1 in /usr/local/lib/python3.7/dist-packages (from requests>=2.9.1->tsfresh) (1.24.3)\n",
      "Requirement already satisfied: idna<3,>=2.5 in /usr/local/lib/python3.7/dist-packages (from requests>=2.9.1->tsfresh) (2.10)\n",
      "Requirement already satisfied: certifi>=2017.4.17 in /usr/local/lib/python3.7/dist-packages (from requests>=2.9.1->tsfresh) (2021.5.30)\n",
      "Requirement already satisfied: chardet<4,>=3.0.2 in /usr/local/lib/python3.7/dist-packages (from requests>=2.9.1->tsfresh) (3.0.4)\n",
      "Requirement already satisfied: joblib>=0.11 in /usr/local/lib/python3.7/dist-packages (from scikit-learn>=0.22.0->tsfresh) (1.0.1)\n",
      "Requirement already satisfied: numba>=0.48 in /usr/local/lib/python3.7/dist-packages (from stumpy>=1.7.2->tsfresh) (0.51.2)\n",
      "Requirement already satisfied: llvmlite<0.35,>=0.34.0.dev0 in /usr/local/lib/python3.7/dist-packages (from numba>=0.48->stumpy>=1.7.2->tsfresh) (0.34.0)\n",
      "Requirement already satisfied: heapdict in /usr/local/lib/python3.7/dist-packages (from zict>=0.1.3->distributed>=2.11.0->tsfresh) (1.0.1)\n"
     ]
    }
   ],
   "source": [
    "pip install tsfresh"
   ]
  },
  {
   "cell_type": "code",
   "execution_count": 2,
   "metadata": {
    "colab": {
     "base_uri": "https://localhost:8080/"
    },
    "id": "Pg0UkW57-VlF",
    "outputId": "8275dc45-501c-40cd-ec9e-19d7d42935ad"
   },
   "outputs": [
    {
     "name": "stdout",
     "output_type": "stream",
     "text": [
      "Requirement already satisfied: tslearn in /usr/local/lib/python3.7/dist-packages (0.5.2)\n",
      "Requirement already satisfied: numba in /usr/local/lib/python3.7/dist-packages (from tslearn) (0.51.2)\n",
      "Requirement already satisfied: scipy in /usr/local/lib/python3.7/dist-packages (from tslearn) (1.7.1)\n",
      "Requirement already satisfied: joblib in /usr/local/lib/python3.7/dist-packages (from tslearn) (1.0.1)\n",
      "Requirement already satisfied: scikit-learn in /usr/local/lib/python3.7/dist-packages (from tslearn) (0.22.2.post1)\n",
      "Requirement already satisfied: numpy in /usr/local/lib/python3.7/dist-packages (from tslearn) (1.19.5)\n",
      "Requirement already satisfied: Cython in /usr/local/lib/python3.7/dist-packages (from tslearn) (0.29.24)\n",
      "Requirement already satisfied: setuptools in /usr/local/lib/python3.7/dist-packages (from numba->tslearn) (57.4.0)\n",
      "Requirement already satisfied: llvmlite<0.35,>=0.34.0.dev0 in /usr/local/lib/python3.7/dist-packages (from numba->tslearn) (0.34.0)\n"
     ]
    }
   ],
   "source": [
    "pip install tslearn"
   ]
  },
  {
   "cell_type": "code",
   "execution_count": 3,
   "metadata": {
    "id": "5VtsgQxuzMUt"
   },
   "outputs": [],
   "source": [
    "import pandas as pd\n",
    "import matplotlib.pyplot as plt\n",
    "\n",
    "plt.style.use('seaborn-whitegrid')\n",
    "plt.rcParams[\"font.family\"] = \"Times New Roman\"\n",
    "plt.rcParams[\"font.size\"] = \"17\""
   ]
  },
  {
   "cell_type": "code",
   "execution_count": 4,
   "metadata": {
    "colab": {
     "base_uri": "https://localhost:8080/"
    },
    "id": "iPQPBG849jB2",
    "outputId": "13f96036-b472-4445-d0ca-75d02a48016a"
   },
   "outputs": [
    {
     "name": "stderr",
     "output_type": "stream",
     "text": [
      "/usr/local/lib/python3.7/dist-packages/statsmodels/tools/_testing.py:19: FutureWarning: pandas.util.testing is deprecated. Use the functions in the public API at pandas.testing instead.\n",
      "  import pandas.util.testing as tm\n"
     ]
    }
   ],
   "source": [
    "from tsfresh.examples import load_robot_execution_failures\n",
    "from tsfresh.examples.robot_execution_failures import download_robot_execution_failures\n",
    "\n",
    "download_robot_execution_failures()\n",
    "df_ts, y = load_robot_execution_failures()"
   ]
  },
  {
   "cell_type": "code",
   "execution_count": 5,
   "metadata": {
    "colab": {
     "base_uri": "https://localhost:8080/"
    },
    "id": "UOHxdjmAWKZc",
    "outputId": "67d575b7-d649-40ab-8edd-2d0c7950a6a2"
   },
   "outputs": [
    {
     "name": "stderr",
     "output_type": "stream",
     "text": [
      "Feature Extraction: 100%|██████████| 5/5 [00:39<00:00,  7.99s/it]\n",
      "/usr/local/lib/python3.7/dist-packages/tsfresh/utilities/dataframe_functions.py:172: RuntimeWarning: The columns ['F_x__partial_autocorrelation__lag_7'\n",
      " 'F_x__partial_autocorrelation__lag_8'\n",
      " 'F_x__partial_autocorrelation__lag_9' ...\n",
      " 'T_z__matrix_profile__feature_\"median\"__threshold_0.98'\n",
      " 'T_z__matrix_profile__feature_\"25\"__threshold_0.98'\n",
      " 'T_z__matrix_profile__feature_\"75\"__threshold_0.98'] did not have any finite values. Filling with zeros.\n",
      "  df.iloc[:, np.where(is_col_non_finite)[0]].columns.values), RuntimeWarning)\n"
     ]
    }
   ],
   "source": [
    "from tsfresh import extract_features\n",
    "from tsfresh import select_features\n",
    "from tsfresh.utilities.dataframe_functions import impute\n",
    "\n",
    "extracted_features = impute(extract_features(df_ts, column_id=\"id\", column_sort=\"time\"))\n",
    "features_filtered = select_features(extracted_features, y)"
   ]
  },
  {
   "cell_type": "code",
   "execution_count": 7,
   "metadata": {
    "colab": {
     "base_uri": "https://localhost:8080/"
    },
    "id": "7D0JxrCpQL6x",
    "outputId": "b75b4054-afab-4f55-8c61-9a6c7a7f0d8d"
   },
   "outputs": [
    {
     "name": "stderr",
     "output_type": "stream",
     "text": [
      "Feature Extraction: 100%|██████████| 5/5 [00:02<00:00,  2.34it/s]\n",
      "/usr/local/lib/python3.7/dist-packages/tsfresh/utilities/dataframe_functions.py:172: RuntimeWarning: The columns ['F_x__partial_autocorrelation__lag_7'\n",
      " 'F_x__partial_autocorrelation__lag_8'\n",
      " 'F_x__partial_autocorrelation__lag_9' ...\n",
      " 'T_z__matrix_profile__feature_\"median\"__threshold_0.98'\n",
      " 'T_z__matrix_profile__feature_\"25\"__threshold_0.98'\n",
      " 'T_z__matrix_profile__feature_\"75\"__threshold_0.98'] did not have any finite values. Filling with zeros.\n",
      "  df.iloc[:, np.where(is_col_non_finite)[0]].columns.values), RuntimeWarning)\n"
     ]
    },
    {
     "data": {
      "text/plain": [
       "RelevantFeatureAugmenter(chunksize=None, column_id='id', column_kind=None,\n",
       "                         column_sort='time', column_value=None,\n",
       "                         default_fc_parameters=None, disable_progressbar=False,\n",
       "                         fdr_level=0.05, filter_only_tsfresh_features=True,\n",
       "                         hypotheses_independent=False,\n",
       "                         kind_to_fc_parameters=None, ml_task='auto',\n",
       "                         multiclass=False, multiclass_p_values='min', n_jobs=1,\n",
       "                         n_significant=1,...\n",
       "                         test_for_binary_target_real_feature='mann',\n",
       "                         test_for_real_target_binary_feature='mann',\n",
       "                         test_for_real_target_real_feature='kendall',\n",
       "                         timeseries_container=    id  time  F_x  F_y  F_z  T_x  T_y  T_z\n",
       "0    1     0   -1   -1   63   -3   -1    0\n",
       "1    1     1    0    0   62   -3   -1    0\n",
       "2    1     2   -1   -1   61   -3    0    0\n",
       "3    1     3   -1   -1   63   -2   -1    0\n",
       "4    1     4   -1   -1   63   -3   -1    0\n",
       "..  ..   ...  ...  ...  ...  ...  ...  ...\n",
       "59   4    14   -1    1   63   -8   -2    0\n",
       "60   5     0    0   -2   65   -4   -2    0\n",
       "61   5     1   -1   -2   56   -5   -3    0\n",
       "62   5     2    0    0   58   -9   -1    0\n",
       "63   5     3   -1   -1   56   -5   -3    0\n",
       "\n",
       "[64 rows x 8 columns])"
      ]
     },
     "execution_count": 7,
     "metadata": {},
     "output_type": "execute_result"
    }
   ],
   "source": [
    "from tsfresh.transformers import RelevantFeatureAugmenter\n",
    "import pandas as pd\n",
    "\n",
    "X = pd.DataFrame(index=y.index)\n",
    "TRAINING_SIZE = (len(X) // 10) * 8\n",
    "augmenter = RelevantFeatureAugmenter(column_id='id', column_sort='time')\n",
    "augmenter.set_timeseries_container(df_ts[:TRAINING_SIZE])\n",
    "augmenter.fit(X[:TRAINING_SIZE], y[:TRAINING_SIZE])\n",
    "X_transformed = augmenter.transform(X)"
   ]
  },
  {
   "cell_type": "code",
   "execution_count": 9,
   "metadata": {
    "colab": {
     "base_uri": "https://localhost:8080/"
    },
    "id": "jzaRzQc63Iiv",
    "outputId": "384b8608-39d3-4b52-8e23-4baefd4c05cc"
   },
   "outputs": [
    {
     "data": {
      "text/plain": [
       "GridSearchCV(cv=TimeSeriesSplit(max_train_size=None, n_splits=2),\n",
       "             error_score=nan,\n",
       "             estimator=KNeighborsTimeSeriesClassifier(metric='dtw',\n",
       "                                                      metric_params=None,\n",
       "                                                      n_jobs=None,\n",
       "                                                      n_neighbors=5, verbose=0,\n",
       "                                                      weights='uniform'),\n",
       "             iid='deprecated', n_jobs=None,\n",
       "             param_grid={'metric': ['dtw'], 'n_neighbors': [1, 2, 3]},\n",
       "             pre_dispatch='2*n_jobs', refit=True, return_train_score=False,\n",
       "             scoring=None, verbose=0)"
      ]
     },
     "execution_count": 9,
     "metadata": {},
     "output_type": "execute_result"
    }
   ],
   "source": [
    "from sklearn.model_selection import TimeSeriesSplit, GridSearchCV\n",
    "from tslearn.neighbors import KNeighborsTimeSeriesClassifier\n",
    "\n",
    "knn = KNeighborsTimeSeriesClassifier()\n",
    "param_search = {\n",
    "    'metric' : ['dtw'],  # ctw', 'dtw', \"softdtw\"], # TSLEARN_VALID_METRICS}\n",
    "    'n_neighbors': [1, 2, 3]\n",
    "}\n",
    "#  'param_grid': {'metric': ['ctw', 'dtw', 'gak', 'sax', 'softdtw', 'lcss']},\n",
    "tscv = TimeSeriesSplit(n_splits=2)\n",
    "\n",
    "gsearch = GridSearchCV(\n",
    "    estimator=knn,\n",
    "    cv=tscv,\n",
    "    param_grid=param_search\n",
    ")\n",
    "gsearch.fit(\n",
    "    features_filtered,\n",
    "    y\n",
    ")"
   ]
  },
  {
   "cell_type": "code",
   "execution_count": 10,
   "metadata": {
    "id": "j7XePgIYK1WQ"
   },
   "outputs": [],
   "source": [
    "# Adapted from comments on this discussion thread on stackoverflow: https://stackoverflow.com/questions/37161563/how-to-graph-grid-scores-from-gridsearchcv\n",
    "import seaborn as sns\n",
    "import pandas as pd\n",
    "\n",
    "def plot_cv_results(cv_results, param_x, param_z, metric='mean_test_score'):\n",
    "    \"\"\"\n",
    "    cv_results - cv_results_ attribute of a GridSearchCV instance (or similar)\n",
    "    param_x - name of grid search parameter to plot on x axis\n",
    "    param_z - name of grid search parameter to plot by line color\n",
    "    \"\"\"\n",
    "    cv_results = pd.DataFrame(cv_results)\n",
    "    col_x = 'param_' + param_x\n",
    "    col_z = 'param_' + param_z\n",
    "    fig, ax = plt.subplots(1, 1, figsize=(11, 8))\n",
    "    sns.pointplot(x=col_x, y=metric, hue=col_z, data=cv_results, ci=99, n_boot=64, ax=ax)\n",
    "    ax.set_title(\"CV Grid Search Results\")\n",
    "    ax.set_xlabel(param_x)\n",
    "    ax.set_ylabel(metric)\n",
    "    ax.legend(title=param_z)\n",
    "    return fig\n"
   ]
  },
  {
   "cell_type": "code",
   "execution_count": 11,
   "metadata": {
    "colab": {
     "base_uri": "https://localhost:8080/",
     "height": 564
    },
    "id": "-mHYRnizXwsz",
    "outputId": "41bb85fe-a2e4-4f51-911d-54630be0645a"
   },
   "outputs": [
    {
     "name": "stderr",
     "output_type": "stream",
     "text": [
      "findfont: Font family ['Times New Roman'] not found. Falling back to DejaVu Sans.\n",
      "findfont: Font family ['Times New Roman'] not found. Falling back to DejaVu Sans.\n"
     ]
    },
    {
     "data": {
      "image/png": "[encoded data removed]",
      "text/plain": [
       "<Figure size 792x576 with 1 Axes>"
      ]
     },
     "metadata": {},
     "output_type": "display_data"
    }
   ],
   "source": [
    "fig = plot_cv_results(gsearch.cv_results_, 'metric', 'n_neighbors')"
   ]
  },
  {
   "cell_type": "code",
   "execution_count": null,
   "metadata": {
    "id": "qEoOw5hcT-Ol"
   },
   "outputs": [],
   "source": []
  }
 ],
 "metadata": {
  "colab": {
   "collapsed_sections": [],
   "name": "KNN with dynamic DTW",
   "provenance": []
  },
  "kernelspec": {
   "display_name": "Python 3",
   "language": "python",
   "name": "python3"
  },
  "language_info": {
   "codemirror_mode": {
    "name": "ipython",
    "version": 3
   },
   "file_extension": ".py",
   "mimetype": "text/x-python",
   "name": "python",
   "nbconvert_exporter": "python",
   "pygments_lexer": "ipython3",
   "version": "3.8.8"
  }
 },
 "nbformat": 4,
 "nbformat_minor": 4
}
