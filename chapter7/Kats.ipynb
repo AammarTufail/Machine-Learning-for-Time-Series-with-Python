{
 "cells": [
  {
   "cell_type": "markdown",
   "id": "7ea3881f-ddfc-475b-bfa9-bb46456ffee4",
   "metadata": {},
   "source": [
    "[![Open In Colab](https://colab.research.google.com/assets/colab-badge.svg)](https://colab.research.google.com/github/googlecolab/colabtools/blob/master/notebooks/colab-github-demo.ipynb)"
   ]
  },
  {
   "cell_type": "code",
   "execution_count": 1,
   "id": "bde1b68e-20b6-42e1-a5a8-81824e365545",
   "metadata": {
    "colab": {
     "base_uri": "https://localhost:8080/"
    },
    "id": "bde1b68e-20b6-42e1-a5a8-81824e365545",
    "outputId": "f290afb2-8026-4792-e11f-2b5572336c3a"
   },
   "outputs": [
    {
     "name": "stdout",
     "output_type": "stream",
     "text": [
      "Requirement already satisfied: kats in /usr/local/lib/python3.7/dist-packages (0.1.0)\n",
      "Requirement already satisfied: numpy>=1.15.4 in /usr/local/lib/python3.7/dist-packages (from kats) (1.20.0)\n",
      "Requirement already satisfied: convertdate>=2.1.2 in /usr/local/lib/python3.7/dist-packages (from kats) (2.3.2)\n",
      "Requirement already satisfied: setuptools-git>=1.2 in /usr/local/lib/python3.7/dist-packages (from kats) (1.2)\n",
      "Requirement already satisfied: matplotlib>=2.0.0 in /usr/local/lib/python3.7/dist-packages (from kats) (3.2.2)\n",
      "Requirement already satisfied: gpytorch in /usr/local/lib/python3.7/dist-packages (from kats) (1.5.0)\n",
      "Requirement already satisfied: LunarCalendar>=0.0.9 in /usr/local/lib/python3.7/dist-packages (from kats) (0.0.9)\n",
      "Requirement already satisfied: python-dateutil>=2.8.0 in /usr/local/lib/python3.7/dist-packages (from kats) (2.8.2)\n",
      "Requirement already satisfied: torch>=1.8.1 in /usr/local/lib/python3.7/dist-packages (from kats) (1.9.0+cu102)\n",
      "Requirement already satisfied: attrs>=21.2.0 in /usr/local/lib/python3.7/dist-packages (from kats) (21.2.0)\n",
      "Requirement already satisfied: tqdm>=4.36.1 in /usr/local/lib/python3.7/dist-packages (from kats) (4.62.0)\n",
      "Requirement already satisfied: ax-platform in /usr/local/lib/python3.7/dist-packages (from kats) (0.2.1)\n",
      "Requirement already satisfied: seaborn>=0.11.1 in /usr/local/lib/python3.7/dist-packages (from kats) (0.11.1)\n",
      "Requirement already satisfied: pymannkendall>=1.4.1 in /usr/local/lib/python3.7/dist-packages (from kats) (1.4.2)\n",
      "Requirement already satisfied: pystan==2.19.1.1 in /usr/local/lib/python3.7/dist-packages (from kats) (2.19.1.1)\n",
      "Requirement already satisfied: numba>=0.52.0 in /usr/local/lib/python3.7/dist-packages (from kats) (0.54.0)\n",
      "Requirement already satisfied: plotly>=4.14.3 in /usr/local/lib/python3.7/dist-packages (from kats) (5.3.0)\n",
      "Requirement already satisfied: statsmodels>=0.12.2 in /usr/local/lib/python3.7/dist-packages (from kats) (0.12.2)\n",
      "Requirement already satisfied: pandas>=1.0.4 in /usr/local/lib/python3.7/dist-packages (from kats) (1.1.5)\n",
      "Requirement already satisfied: fbprophet==0.7 in /usr/local/lib/python3.7/dist-packages (from kats) (0.7)\n",
      "Requirement already satisfied: holidays>=0.10.2 in /usr/local/lib/python3.7/dist-packages (from kats) (0.10.5.2)\n",
      "Requirement already satisfied: scikit-learn>+0.24.2 in /usr/local/lib/python3.7/dist-packages (from kats) (0.22.2.post1)\n",
      "Requirement already satisfied: cmdstanpy==0.9.5 in /usr/local/lib/python3.7/dist-packages (from fbprophet==0.7->kats) (0.9.5)\n",
      "Requirement already satisfied: Cython>=0.22 in /usr/local/lib/python3.7/dist-packages (from fbprophet==0.7->kats) (0.29.24)\n",
      "Requirement already satisfied: pymeeus<=1,>=0.3.13 in /usr/local/lib/python3.7/dist-packages (from convertdate>=2.1.2->kats) (0.5.11)\n",
      "Requirement already satisfied: pytz>=2014.10 in /usr/local/lib/python3.7/dist-packages (from convertdate>=2.1.2->kats) (2018.9)\n",
      "Requirement already satisfied: korean-lunar-calendar in /usr/local/lib/python3.7/dist-packages (from holidays>=0.10.2->kats) (0.2.1)\n",
      "Requirement already satisfied: six in /usr/local/lib/python3.7/dist-packages (from holidays>=0.10.2->kats) (1.15.0)\n",
      "Requirement already satisfied: hijri-converter in /usr/local/lib/python3.7/dist-packages (from holidays>=0.10.2->kats) (2.1.3)\n",
      "Requirement already satisfied: ephem>=3.7.5.3 in /usr/local/lib/python3.7/dist-packages (from LunarCalendar>=0.0.9->kats) (4.0.0.2)\n",
      "Requirement already satisfied: pyparsing!=2.0.4,!=2.1.2,!=2.1.6,>=2.0.1 in /usr/local/lib/python3.7/dist-packages (from matplotlib>=2.0.0->kats) (2.4.7)\n",
      "Requirement already satisfied: cycler>=0.10 in /usr/local/lib/python3.7/dist-packages (from matplotlib>=2.0.0->kats) (0.10.0)\n",
      "Requirement already satisfied: kiwisolver>=1.0.1 in /usr/local/lib/python3.7/dist-packages (from matplotlib>=2.0.0->kats) (1.3.1)\n",
      "Requirement already satisfied: llvmlite<0.38,>=0.37.0rc1 in /usr/local/lib/python3.7/dist-packages (from numba>=0.52.0->kats) (0.37.0)\n",
      "Requirement already satisfied: setuptools in /usr/local/lib/python3.7/dist-packages (from numba>=0.52.0->kats) (57.4.0)\n",
      "Requirement already satisfied: tenacity>=6.2.0 in /usr/local/lib/python3.7/dist-packages (from plotly>=4.14.3->kats) (8.0.1)\n",
      "Requirement already satisfied: scipy in /usr/local/lib/python3.7/dist-packages (from pymannkendall>=1.4.1->kats) (1.4.1)\n",
      "Requirement already satisfied: joblib>=0.11 in /usr/local/lib/python3.7/dist-packages (from scikit-learn>+0.24.2->kats) (1.0.1)\n",
      "Requirement already satisfied: patsy>=0.5 in /usr/local/lib/python3.7/dist-packages (from statsmodels>=0.12.2->kats) (0.5.1)\n",
      "Requirement already satisfied: typing-extensions in /usr/local/lib/python3.7/dist-packages (from torch>=1.8.1->kats) (3.7.4.3)\n",
      "Requirement already satisfied: typeguard in /usr/local/lib/python3.7/dist-packages (from ax-platform->kats) (2.7.1)\n",
      "Requirement already satisfied: jinja2 in /usr/local/lib/python3.7/dist-packages (from ax-platform->kats) (2.11.3)\n",
      "Requirement already satisfied: botorch==0.5.0 in /usr/local/lib/python3.7/dist-packages (from ax-platform->kats) (0.5.0)\n",
      "Requirement already satisfied: MarkupSafe>=0.23 in /usr/local/lib/python3.7/dist-packages (from jinja2->ax-platform->kats) (2.0.1)\n"
     ]
    }
   ],
   "source": [
    "!MINIMAL=1 pip install kats"
   ]
  },
  {
   "cell_type": "code",
   "execution_count": 2,
   "id": "Jb7RFf_D-YzN",
   "metadata": {
    "colab": {
     "base_uri": "https://localhost:8080/"
    },
    "id": "Jb7RFf_D-YzN",
    "outputId": "681437c3-35c7-461a-f512-170d929c1a38"
   },
   "outputs": [
    {
     "name": "stdout",
     "output_type": "stream",
     "text": [
      "Requirement already satisfied: numpy==1.20 in /usr/local/lib/python3.7/dist-packages (1.20.0)\n"
     ]
    }
   ],
   "source": [
    "pip install \"numpy==1.20\""
   ]
  },
  {
   "cell_type": "code",
   "execution_count": 3,
   "id": "e9f62717-49c6-4a08-bd69-67a4c3ebe2d5",
   "metadata": {
    "id": "e9f62717-49c6-4a08-bd69-67a4c3ebe2d5"
   },
   "outputs": [],
   "source": [
    "import matplotlib.pyplot as plt\n",
    "import seaborn as sns\n",
    "%matplotlib inline\n",
    "\n",
    "plt.style.use('seaborn-whitegrid')\n",
    "plt.rcParams[\"font.family\"] = \"Times New Roman\"\n",
    "plt.rcParams[\"font.size\"] = \"17\""
   ]
  },
  {
   "cell_type": "code",
   "execution_count": 4,
   "id": "2045898b-51b2-446a-bf30-4102725d36d9",
   "metadata": {
    "id": "2045898b-51b2-446a-bf30-4102725d36d9"
   },
   "outputs": [],
   "source": [
    "import pandas as pd\n",
    "\n",
    "owid_covid = pd.read_csv(\"https://covid.ourworldindata.org/data/owid-covid-data.csv\")\n",
    "owid_covid[\"date\"] = pd.to_datetime(owid_covid[\"date\"])\n",
    "df = owid_covid[owid_covid.location == \"France\"].set_index(\"date\", drop=True).resample('D').interpolate(method='linear').reset_index()"
   ]
  },
  {
   "cell_type": "code",
   "execution_count": 58,
   "id": "d196768c-ccd4-487b-b88a-825f3280f8b8",
   "metadata": {
    "id": "d196768c-ccd4-487b-b88a-825f3280f8b8"
   },
   "outputs": [],
   "source": [
    "from kats.models.ensemble.ensemble import EnsembleParams, BaseModelParams\n",
    "from kats.models.ensemble.kats_ensemble import KatsEnsemble\n",
    "from kats.models import (\n",
    "    linear_model,\n",
    "    quadratic_model\n",
    ")\n",
    "\n",
    "\n",
    "model_params = EnsembleParams(\n",
    "            [\n",
    "                BaseModelParams(\"linear\", linear_model.LinearModelParams()),\n",
    "                BaseModelParams(\"quadratic\", quadratic_model.QuadraticModelParams()),\n",
    "            ]\n",
    "        )\n",
    "\n",
    "# create `KatsEnsembleParam` with detailed configurations \n",
    "KatsEnsembleParam = {\n",
    "    \"models\": model_params,\n",
    "    \"aggregation\": \"weightedavg\",\n",
    "    \"seasonality_length\": 30,\n",
    "    \"decomposition_method\": \"additive\",\n",
    "}"
   ]
  },
  {
   "cell_type": "code",
   "execution_count": 59,
   "id": "8379225b-c620-491f-8357-b4ac822deb50",
   "metadata": {
    "id": "8379225b-c620-491f-8357-b4ac822deb50"
   },
   "outputs": [],
   "source": [
    "from kats.consts import TimeSeriesData\n",
    "TARGET_COL = \"new_cases\"\n",
    "\n",
    "df_ts = TimeSeriesData(\n",
    "    value=df[TARGET_COL], time=df[\"date\"]\n",
    ")"
   ]
  },
  {
   "cell_type": "code",
   "execution_count": 60,
   "id": "b03eca14-47e3-4280-a178-3b78e9f4d58f",
   "metadata": {
    "colab": {
     "base_uri": "https://localhost:8080/"
    },
    "id": "b03eca14-47e3-4280-a178-3b78e9f4d58f",
    "outputId": "be5d4373-935c-497c-f706-d2522e37c5c5"
   },
   "outputs": [
    {
     "name": "stderr",
     "output_type": "stream",
     "text": [
      "/usr/local/lib/python3.7/dist-packages/statsmodels/tsa/stattools.py:671: FutureWarning:\n",
      "\n",
      "fft=True will become the default after the release of the 0.12 release of statsmodels. To suppress this warning, explicitly set fft=False.\n",
      "\n"
     ]
    }
   ],
   "source": [
    "m = KatsEnsemble(\n",
    "    data=df_ts, \n",
    "    params=KatsEnsembleParam\n",
    ").fit()"
   ]
  },
  {
   "cell_type": "code",
   "execution_count": 66,
   "id": "I-QkTf2kBiRE",
   "metadata": {
    "colab": {
     "base_uri": "https://localhost:8080/",
     "height": 419
    },
    "id": "I-QkTf2kBiRE",
    "outputId": "a42a5154-4f23-466b-cf00-9d9616ab84f4"
   },
   "outputs": [
    {
     "data": {
      "text/html": [
       "<div>\n",
       "<style scoped>\n",
       "    .dataframe tbody tr th:only-of-type {\n",
       "        vertical-align: middle;\n",
       "    }\n",
       "\n",
       "    .dataframe tbody tr th {\n",
       "        vertical-align: top;\n",
       "    }\n",
       "\n",
       "    .dataframe thead th {\n",
       "        text-align: right;\n",
       "    }\n",
       "</style>\n",
       "<table border=\"1\" class=\"dataframe\">\n",
       "  <thead>\n",
       "    <tr style=\"text-align: right;\">\n",
       "      <th></th>\n",
       "      <th>time</th>\n",
       "      <th>fcst</th>\n",
       "      <th>fcst_lower</th>\n",
       "      <th>fcst_upper</th>\n",
       "    </tr>\n",
       "  </thead>\n",
       "  <tbody>\n",
       "    <tr>\n",
       "      <th>0</th>\n",
       "      <td>2021-08-30</td>\n",
       "      <td>22285.561453</td>\n",
       "      <td>-1171.170383</td>\n",
       "      <td>45742.293289</td>\n",
       "    </tr>\n",
       "    <tr>\n",
       "      <th>1</th>\n",
       "      <td>2021-08-31</td>\n",
       "      <td>16444.612560</td>\n",
       "      <td>-7013.454502</td>\n",
       "      <td>39902.679623</td>\n",
       "    </tr>\n",
       "    <tr>\n",
       "      <th>2</th>\n",
       "      <td>2021-09-01</td>\n",
       "      <td>5369.218826</td>\n",
       "      <td>-18090.197391</td>\n",
       "      <td>28828.635042</td>\n",
       "    </tr>\n",
       "    <tr>\n",
       "      <th>3</th>\n",
       "      <td>2021-09-02</td>\n",
       "      <td>23246.716252</td>\n",
       "      <td>-214.063139</td>\n",
       "      <td>46707.495642</td>\n",
       "    </tr>\n",
       "    <tr>\n",
       "      <th>4</th>\n",
       "      <td>2021-09-03</td>\n",
       "      <td>26489.272699</td>\n",
       "      <td>3027.116022</td>\n",
       "      <td>49951.429376</td>\n",
       "    </tr>\n",
       "    <tr>\n",
       "      <th>...</th>\n",
       "      <td>...</td>\n",
       "      <td>...</td>\n",
       "      <td>...</td>\n",
       "      <td>...</td>\n",
       "    </tr>\n",
       "    <tr>\n",
       "      <th>85</th>\n",
       "      <td>2021-11-23</td>\n",
       "      <td>25439.940452</td>\n",
       "      <td>1810.393433</td>\n",
       "      <td>49069.487471</td>\n",
       "    </tr>\n",
       "    <tr>\n",
       "      <th>86</th>\n",
       "      <td>2021-11-24</td>\n",
       "      <td>21663.852593</td>\n",
       "      <td>-1968.565321</td>\n",
       "      <td>45296.270507</td>\n",
       "    </tr>\n",
       "    <tr>\n",
       "      <th>87</th>\n",
       "      <td>2021-11-25</td>\n",
       "      <td>9265.719647</td>\n",
       "      <td>-14369.591679</td>\n",
       "      <td>32901.030973</td>\n",
       "    </tr>\n",
       "    <tr>\n",
       "      <th>88</th>\n",
       "      <td>2021-11-26</td>\n",
       "      <td>30836.910168</td>\n",
       "      <td>7198.682808</td>\n",
       "      <td>54475.137529</td>\n",
       "    </tr>\n",
       "    <tr>\n",
       "      <th>89</th>\n",
       "      <td>2021-11-27</td>\n",
       "      <td>16278.118128</td>\n",
       "      <td>-7363.047998</td>\n",
       "      <td>39919.284254</td>\n",
       "    </tr>\n",
       "  </tbody>\n",
       "</table>\n",
       "<p>90 rows × 4 columns</p>\n",
       "</div>"
      ],
      "text/plain": [
       "         time          fcst    fcst_lower    fcst_upper\n",
       "0  2021-08-30  22285.561453  -1171.170383  45742.293289\n",
       "1  2021-08-31  16444.612560  -7013.454502  39902.679623\n",
       "2  2021-09-01   5369.218826 -18090.197391  28828.635042\n",
       "3  2021-09-02  23246.716252   -214.063139  46707.495642\n",
       "4  2021-09-03  26489.272699   3027.116022  49951.429376\n",
       "..        ...           ...           ...           ...\n",
       "85 2021-11-23  25439.940452   1810.393433  49069.487471\n",
       "86 2021-11-24  21663.852593  -1968.565321  45296.270507\n",
       "87 2021-11-25   9265.719647 -14369.591679  32901.030973\n",
       "88 2021-11-26  30836.910168   7198.682808  54475.137529\n",
       "89 2021-11-27  16278.118128  -7363.047998  39919.284254\n",
       "\n",
       "[90 rows x 4 columns]"
      ]
     },
     "execution_count": 66,
     "metadata": {},
     "output_type": "execute_result"
    }
   ],
   "source": [
    "m.predict(steps=90).aggregate()"
   ]
  },
  {
   "cell_type": "code",
   "execution_count": 64,
   "id": "c6c05f39-8e78-40cd-a43c-0ae2eed3c200",
   "metadata": {
    "colab": {
     "base_uri": "https://localhost:8080/",
     "height": 426
    },
    "id": "c6c05f39-8e78-40cd-a43c-0ae2eed3c200",
    "outputId": "f9454627-6e0e-4217-e789-80802cd87d22"
   },
   "outputs": [
    {
     "data": {
      "image/png": "[encoded data removed]",
      "text/plain": [
       "<Figure size 720x432 with 1 Axes>"
      ]
     },
     "metadata": {},
     "output_type": "display_data"
    }
   ],
   "source": [
    "m.predict(steps=90)\n",
    "m.aggregate()\n",
    "m.plot()\n",
    "plt.ylabel(TARGET_COL)"
   ]
  },
  {
   "cell_type": "code",
   "execution_count": null,
   "id": "22489efc-329a-43d7-8524-ebc46a7d0494",
   "metadata": {
    "id": "22489efc-329a-43d7-8524-ebc46a7d0494"
   },
   "outputs": [],
   "source": []
  }
 ],
 "metadata": {
  "colab": {
   "collapsed_sections": [],
   "name": "Kats",
   "provenance": []
  },
  "kernelspec": {
   "display_name": "Python 3",
   "language": "python",
   "name": "python3"
  },
  "language_info": {
   "codemirror_mode": {
    "name": "ipython",
    "version": 3
   },
   "file_extension": ".py",
   "mimetype": "text/x-python",
   "name": "python",
   "nbconvert_exporter": "python",
   "pygments_lexer": "ipython3",
   "version": "3.8.8"
  }
 },
 "nbformat": 4,
 "nbformat_minor": 5
}
