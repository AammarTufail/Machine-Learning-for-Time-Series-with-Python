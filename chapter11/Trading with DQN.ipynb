{
 "cells": [
  {
   "cell_type": "markdown",
   "metadata": {},
   "source": [
    "[![Open In Colab](https://colab.research.google.com/assets/colab-badge.svg)](https://colab.research.google.com/github/googlecolab/colabtools/blob/master/notebooks/colab-github-demo.ipynb)"
   ]
  },
  {
   "cell_type": "code",
   "execution_count": null,
   "metadata": {
    "id": "P6xXgYonWE8n"
   },
   "outputs": [],
   "source": [
    "# based on https://github.com/tensortrade-org/tensortrade/blob/master/examples/train_and_evaluate.ipynb"
   ]
  },
  {
   "cell_type": "code",
   "execution_count": 1,
   "metadata": {
    "colab": {
     "base_uri": "https://localhost:8080/"
    },
    "id": "hp1Fk0dGJXpT",
    "outputId": "c7215ab3-26d0-45a9-8c47-6973f527ace6"
   },
   "outputs": [
    {
     "name": "stdout",
     "output_type": "stream",
     "text": [
      "Collecting git+https://github.com/tensortrade-org/tensortrade.git\n",
      "  Cloning https://github.com/tensortrade-org/tensortrade.git to /tmp/pip-req-build-zihnskox\n",
      "  Running command git clone -q https://github.com/tensortrade-org/tensortrade.git /tmp/pip-req-build-zihnskox\n",
      "Requirement already satisfied: numpy>=1.17.0 in /usr/local/lib/python3.7/dist-packages (from tensortrade==1.0.4.dev0) (1.19.5)\n",
      "Requirement already satisfied: pandas>=0.25.0 in /usr/local/lib/python3.7/dist-packages (from tensortrade==1.0.4.dev0) (1.1.5)\n",
      "Requirement already satisfied: gym>=0.14.0 in /usr/local/lib/python3.7/dist-packages (from tensortrade==1.0.4.dev0) (0.17.3)\n",
      "Collecting pyyaml>=5.1.2\n",
      "  Downloading PyYAML-5.4.1-cp37-cp37m-manylinux1_x86_64.whl (636 kB)\n",
      "\u001b[K     |████████████████████████████████| 636 kB 5.2 MB/s \n",
      "\u001b[?25hCollecting stochastic>=0.6.0\n",
      "  Downloading stochastic-0.6.0-py3-none-any.whl (49 kB)\n",
      "\u001b[K     |████████████████████████████████| 49 kB 6.2 MB/s \n",
      "\u001b[?25hRequirement already satisfied: tensorflow>=2.1.0 in /usr/local/lib/python3.7/dist-packages (from tensortrade==1.0.4.dev0) (2.6.0)\n",
      "Collecting ipython>=7.12.0\n",
      "  Downloading ipython-7.27.0-py3-none-any.whl (787 kB)\n",
      "\u001b[K     |████████████████████████████████| 787 kB 46.3 MB/s \n",
      "\u001b[?25hRequirement already satisfied: matplotlib>=3.1.1 in /usr/local/lib/python3.7/dist-packages (from tensortrade==1.0.4.dev0) (3.2.2)\n",
      "Collecting plotly>=4.5.0\n",
      "  Downloading plotly-5.3.1-py2.py3-none-any.whl (23.9 MB)\n",
      "\u001b[K     |████████████████████████████████| 23.9 MB 13 kB/s \n",
      "\u001b[?25hRequirement already satisfied: pyglet<=1.5.0,>=1.4.0 in /usr/local/lib/python3.7/dist-packages (from gym>=0.14.0->tensortrade==1.0.4.dev0) (1.5.0)\n",
      "Requirement already satisfied: scipy in /usr/local/lib/python3.7/dist-packages (from gym>=0.14.0->tensortrade==1.0.4.dev0) (1.4.1)\n",
      "Requirement already satisfied: cloudpickle<1.7.0,>=1.2.0 in /usr/local/lib/python3.7/dist-packages (from gym>=0.14.0->tensortrade==1.0.4.dev0) (1.3.0)\n",
      "Requirement already satisfied: backcall in /usr/local/lib/python3.7/dist-packages (from ipython>=7.12.0->tensortrade==1.0.4.dev0) (0.2.0)\n",
      "Requirement already satisfied: matplotlib-inline in /usr/local/lib/python3.7/dist-packages (from ipython>=7.12.0->tensortrade==1.0.4.dev0) (0.1.2)\n",
      "Requirement already satisfied: setuptools>=18.5 in /usr/local/lib/python3.7/dist-packages (from ipython>=7.12.0->tensortrade==1.0.4.dev0) (57.4.0)\n",
      "Collecting prompt-toolkit!=3.0.0,!=3.0.1,<3.1.0,>=2.0.0\n",
      "  Downloading prompt_toolkit-3.0.20-py3-none-any.whl (370 kB)\n",
      "\u001b[K     |████████████████████████████████| 370 kB 69.0 MB/s \n",
      "\u001b[?25hRequirement already satisfied: jedi>=0.16 in /usr/local/lib/python3.7/dist-packages (from ipython>=7.12.0->tensortrade==1.0.4.dev0) (0.18.0)\n",
      "Requirement already satisfied: pexpect>4.3 in /usr/local/lib/python3.7/dist-packages (from ipython>=7.12.0->tensortrade==1.0.4.dev0) (4.8.0)\n",
      "Requirement already satisfied: pickleshare in /usr/local/lib/python3.7/dist-packages (from ipython>=7.12.0->tensortrade==1.0.4.dev0) (0.7.5)\n",
      "Requirement already satisfied: pygments in /usr/local/lib/python3.7/dist-packages (from ipython>=7.12.0->tensortrade==1.0.4.dev0) (2.6.1)\n",
      "Requirement already satisfied: traitlets>=4.2 in /usr/local/lib/python3.7/dist-packages (from ipython>=7.12.0->tensortrade==1.0.4.dev0) (5.0.5)\n",
      "Requirement already satisfied: decorator in /usr/local/lib/python3.7/dist-packages (from ipython>=7.12.0->tensortrade==1.0.4.dev0) (4.4.2)\n",
      "Requirement already satisfied: parso<0.9.0,>=0.8.0 in /usr/local/lib/python3.7/dist-packages (from jedi>=0.16->ipython>=7.12.0->tensortrade==1.0.4.dev0) (0.8.2)\n",
      "Requirement already satisfied: python-dateutil>=2.1 in /usr/local/lib/python3.7/dist-packages (from matplotlib>=3.1.1->tensortrade==1.0.4.dev0) (2.8.2)\n",
      "Requirement already satisfied: kiwisolver>=1.0.1 in /usr/local/lib/python3.7/dist-packages (from matplotlib>=3.1.1->tensortrade==1.0.4.dev0) (1.3.1)\n",
      "Requirement already satisfied: cycler>=0.10 in /usr/local/lib/python3.7/dist-packages (from matplotlib>=3.1.1->tensortrade==1.0.4.dev0) (0.10.0)\n",
      "Requirement already satisfied: pyparsing!=2.0.4,!=2.1.2,!=2.1.6,>=2.0.1 in /usr/local/lib/python3.7/dist-packages (from matplotlib>=3.1.1->tensortrade==1.0.4.dev0) (2.4.7)\n",
      "Requirement already satisfied: six in /usr/local/lib/python3.7/dist-packages (from cycler>=0.10->matplotlib>=3.1.1->tensortrade==1.0.4.dev0) (1.15.0)\n",
      "Requirement already satisfied: pytz>=2017.2 in /usr/local/lib/python3.7/dist-packages (from pandas>=0.25.0->tensortrade==1.0.4.dev0) (2018.9)\n",
      "Requirement already satisfied: ptyprocess>=0.5 in /usr/local/lib/python3.7/dist-packages (from pexpect>4.3->ipython>=7.12.0->tensortrade==1.0.4.dev0) (0.7.0)\n",
      "Collecting tenacity>=6.2.0\n",
      "  Downloading tenacity-8.0.1-py3-none-any.whl (24 kB)\n",
      "Requirement already satisfied: wcwidth in /usr/local/lib/python3.7/dist-packages (from prompt-toolkit!=3.0.0,!=3.0.1,<3.1.0,>=2.0.0->ipython>=7.12.0->tensortrade==1.0.4.dev0) (0.2.5)\n",
      "Requirement already satisfied: future in /usr/local/lib/python3.7/dist-packages (from pyglet<=1.5.0,>=1.4.0->gym>=0.14.0->tensortrade==1.0.4.dev0) (0.16.0)\n",
      "Requirement already satisfied: tensorflow-estimator~=2.6 in /usr/local/lib/python3.7/dist-packages (from tensorflow>=2.1.0->tensortrade==1.0.4.dev0) (2.6.0)\n",
      "Requirement already satisfied: gast==0.4.0 in /usr/local/lib/python3.7/dist-packages (from tensorflow>=2.1.0->tensortrade==1.0.4.dev0) (0.4.0)\n",
      "Requirement already satisfied: google-pasta~=0.2 in /usr/local/lib/python3.7/dist-packages (from tensorflow>=2.1.0->tensortrade==1.0.4.dev0) (0.2.0)\n",
      "Requirement already satisfied: absl-py~=0.10 in /usr/local/lib/python3.7/dist-packages (from tensorflow>=2.1.0->tensortrade==1.0.4.dev0) (0.12.0)\n",
      "Requirement already satisfied: tensorboard~=2.6 in /usr/local/lib/python3.7/dist-packages (from tensorflow>=2.1.0->tensortrade==1.0.4.dev0) (2.6.0)\n",
      "Requirement already satisfied: flatbuffers~=1.12.0 in /usr/local/lib/python3.7/dist-packages (from tensorflow>=2.1.0->tensortrade==1.0.4.dev0) (1.12)\n",
      "Requirement already satisfied: wheel~=0.35 in /usr/local/lib/python3.7/dist-packages (from tensorflow>=2.1.0->tensortrade==1.0.4.dev0) (0.37.0)\n",
      "Requirement already satisfied: termcolor~=1.1.0 in /usr/local/lib/python3.7/dist-packages (from tensorflow>=2.1.0->tensortrade==1.0.4.dev0) (1.1.0)\n",
      "Requirement already satisfied: protobuf>=3.9.2 in /usr/local/lib/python3.7/dist-packages (from tensorflow>=2.1.0->tensortrade==1.0.4.dev0) (3.17.3)\n",
      "Requirement already satisfied: typing-extensions~=3.7.4 in /usr/local/lib/python3.7/dist-packages (from tensorflow>=2.1.0->tensortrade==1.0.4.dev0) (3.7.4.3)\n",
      "Requirement already satisfied: opt-einsum~=3.3.0 in /usr/local/lib/python3.7/dist-packages (from tensorflow>=2.1.0->tensortrade==1.0.4.dev0) (3.3.0)\n",
      "Requirement already satisfied: keras~=2.6 in /usr/local/lib/python3.7/dist-packages (from tensorflow>=2.1.0->tensortrade==1.0.4.dev0) (2.6.0)\n",
      "Requirement already satisfied: keras-preprocessing~=1.1.2 in /usr/local/lib/python3.7/dist-packages (from tensorflow>=2.1.0->tensortrade==1.0.4.dev0) (1.1.2)\n",
      "Requirement already satisfied: h5py~=3.1.0 in /usr/local/lib/python3.7/dist-packages (from tensorflow>=2.1.0->tensortrade==1.0.4.dev0) (3.1.0)\n",
      "Requirement already satisfied: grpcio<2.0,>=1.37.0 in /usr/local/lib/python3.7/dist-packages (from tensorflow>=2.1.0->tensortrade==1.0.4.dev0) (1.39.0)\n",
      "Requirement already satisfied: wrapt~=1.12.1 in /usr/local/lib/python3.7/dist-packages (from tensorflow>=2.1.0->tensortrade==1.0.4.dev0) (1.12.1)\n",
      "Requirement already satisfied: astunparse~=1.6.3 in /usr/local/lib/python3.7/dist-packages (from tensorflow>=2.1.0->tensortrade==1.0.4.dev0) (1.6.3)\n",
      "Requirement already satisfied: clang~=5.0 in /usr/local/lib/python3.7/dist-packages (from tensorflow>=2.1.0->tensortrade==1.0.4.dev0) (5.0)\n",
      "Requirement already satisfied: cached-property in /usr/local/lib/python3.7/dist-packages (from h5py~=3.1.0->tensorflow>=2.1.0->tensortrade==1.0.4.dev0) (1.5.2)\n",
      "Requirement already satisfied: google-auth-oauthlib<0.5,>=0.4.1 in /usr/local/lib/python3.7/dist-packages (from tensorboard~=2.6->tensorflow>=2.1.0->tensortrade==1.0.4.dev0) (0.4.5)\n",
      "Requirement already satisfied: tensorboard-data-server<0.7.0,>=0.6.0 in /usr/local/lib/python3.7/dist-packages (from tensorboard~=2.6->tensorflow>=2.1.0->tensortrade==1.0.4.dev0) (0.6.1)\n",
      "Requirement already satisfied: werkzeug>=0.11.15 in /usr/local/lib/python3.7/dist-packages (from tensorboard~=2.6->tensorflow>=2.1.0->tensortrade==1.0.4.dev0) (1.0.1)\n",
      "Requirement already satisfied: markdown>=2.6.8 in /usr/local/lib/python3.7/dist-packages (from tensorboard~=2.6->tensorflow>=2.1.0->tensortrade==1.0.4.dev0) (3.3.4)\n",
      "Requirement already satisfied: requests<3,>=2.21.0 in /usr/local/lib/python3.7/dist-packages (from tensorboard~=2.6->tensorflow>=2.1.0->tensortrade==1.0.4.dev0) (2.23.0)\n",
      "Requirement already satisfied: google-auth<2,>=1.6.3 in /usr/local/lib/python3.7/dist-packages (from tensorboard~=2.6->tensorflow>=2.1.0->tensortrade==1.0.4.dev0) (1.34.0)\n",
      "Requirement already satisfied: tensorboard-plugin-wit>=1.6.0 in /usr/local/lib/python3.7/dist-packages (from tensorboard~=2.6->tensorflow>=2.1.0->tensortrade==1.0.4.dev0) (1.8.0)\n",
      "Requirement already satisfied: rsa<5,>=3.1.4 in /usr/local/lib/python3.7/dist-packages (from google-auth<2,>=1.6.3->tensorboard~=2.6->tensorflow>=2.1.0->tensortrade==1.0.4.dev0) (4.7.2)\n",
      "Requirement already satisfied: pyasn1-modules>=0.2.1 in /usr/local/lib/python3.7/dist-packages (from google-auth<2,>=1.6.3->tensorboard~=2.6->tensorflow>=2.1.0->tensortrade==1.0.4.dev0) (0.2.8)\n",
      "Requirement already satisfied: cachetools<5.0,>=2.0.0 in /usr/local/lib/python3.7/dist-packages (from google-auth<2,>=1.6.3->tensorboard~=2.6->tensorflow>=2.1.0->tensortrade==1.0.4.dev0) (4.2.2)\n",
      "Requirement already satisfied: requests-oauthlib>=0.7.0 in /usr/local/lib/python3.7/dist-packages (from google-auth-oauthlib<0.5,>=0.4.1->tensorboard~=2.6->tensorflow>=2.1.0->tensortrade==1.0.4.dev0) (1.3.0)\n",
      "Requirement already satisfied: importlib-metadata in /usr/local/lib/python3.7/dist-packages (from markdown>=2.6.8->tensorboard~=2.6->tensorflow>=2.1.0->tensortrade==1.0.4.dev0) (4.6.4)\n",
      "Requirement already satisfied: pyasn1<0.5.0,>=0.4.6 in /usr/local/lib/python3.7/dist-packages (from pyasn1-modules>=0.2.1->google-auth<2,>=1.6.3->tensorboard~=2.6->tensorflow>=2.1.0->tensortrade==1.0.4.dev0) (0.4.8)\n",
      "Requirement already satisfied: idna<3,>=2.5 in /usr/local/lib/python3.7/dist-packages (from requests<3,>=2.21.0->tensorboard~=2.6->tensorflow>=2.1.0->tensortrade==1.0.4.dev0) (2.10)\n",
      "Requirement already satisfied: certifi>=2017.4.17 in /usr/local/lib/python3.7/dist-packages (from requests<3,>=2.21.0->tensorboard~=2.6->tensorflow>=2.1.0->tensortrade==1.0.4.dev0) (2021.5.30)\n",
      "Requirement already satisfied: chardet<4,>=3.0.2 in /usr/local/lib/python3.7/dist-packages (from requests<3,>=2.21.0->tensorboard~=2.6->tensorflow>=2.1.0->tensortrade==1.0.4.dev0) (3.0.4)\n",
      "Requirement already satisfied: urllib3!=1.25.0,!=1.25.1,<1.26,>=1.21.1 in /usr/local/lib/python3.7/dist-packages (from requests<3,>=2.21.0->tensorboard~=2.6->tensorflow>=2.1.0->tensortrade==1.0.4.dev0) (1.24.3)\n",
      "Requirement already satisfied: oauthlib>=3.0.0 in /usr/local/lib/python3.7/dist-packages (from requests-oauthlib>=0.7.0->google-auth-oauthlib<0.5,>=0.4.1->tensorboard~=2.6->tensorflow>=2.1.0->tensortrade==1.0.4.dev0) (3.1.1)\n",
      "Requirement already satisfied: ipython-genutils in /usr/local/lib/python3.7/dist-packages (from traitlets>=4.2->ipython>=7.12.0->tensortrade==1.0.4.dev0) (0.2.0)\n",
      "Requirement already satisfied: zipp>=0.5 in /usr/local/lib/python3.7/dist-packages (from importlib-metadata->markdown>=2.6.8->tensorboard~=2.6->tensorflow>=2.1.0->tensortrade==1.0.4.dev0) (3.5.0)\n",
      "Building wheels for collected packages: tensortrade\n",
      "  Building wheel for tensortrade (setup.py) ... \u001b[?25l\u001b[?25hdone\n",
      "  Created wheel for tensortrade: filename=tensortrade-1.0.4.dev0-py3-none-any.whl size=134163 sha256=490f50ad78affdd90c40bb1ab749b2a6dae0deb0bcc46cbb0f084cf184b25da4\n",
      "  Stored in directory: /tmp/pip-ephem-wheel-cache-yyfow4it/wheels/f8/96/4d/142e37e09469abec8017a451809b175d5f64d0ce81cbe8d8ec\n",
      "Successfully built tensortrade\n",
      "Installing collected packages: tenacity, prompt-toolkit, stochastic, pyyaml, plotly, ipython, tensortrade\n",
      "  Attempting uninstall: prompt-toolkit\n",
      "    Found existing installation: prompt-toolkit 1.0.18\n",
      "    Uninstalling prompt-toolkit-1.0.18:\n",
      "      Successfully uninstalled prompt-toolkit-1.0.18\n",
      "  Attempting uninstall: pyyaml\n",
      "    Found existing installation: PyYAML 3.13\n",
      "    Uninstalling PyYAML-3.13:\n",
      "      Successfully uninstalled PyYAML-3.13\n",
      "  Attempting uninstall: plotly\n",
      "    Found existing installation: plotly 4.4.1\n",
      "    Uninstalling plotly-4.4.1:\n",
      "      Successfully uninstalled plotly-4.4.1\n",
      "  Attempting uninstall: ipython\n",
      "    Found existing installation: ipython 5.5.0\n",
      "    Uninstalling ipython-5.5.0:\n",
      "      Successfully uninstalled ipython-5.5.0\n",
      "\u001b[31mERROR: pip's dependency resolver does not currently take into account all the packages that are installed. This behaviour is the source of the following dependency conflicts.\n",
      "jupyter-console 5.2.0 requires prompt-toolkit<2.0.0,>=1.0.0, but you have prompt-toolkit 3.0.20 which is incompatible.\n",
      "google-colab 1.0.0 requires ipython~=5.5.0, but you have ipython 7.27.0 which is incompatible.\u001b[0m\n",
      "Successfully installed ipython-7.27.0 plotly-5.3.1 prompt-toolkit-3.0.20 pyyaml-5.4.1 stochastic-0.6.0 tenacity-8.0.1 tensortrade-1.0.4.dev0\n"
     ]
    }
   ],
   "source": [
    "pip install git+https://github.com/tensortrade-org/tensortrade.git"
   ]
  },
  {
   "cell_type": "code",
   "execution_count": 2,
   "metadata": {
    "id": "UkrQ9KU3JXpU"
   },
   "outputs": [],
   "source": [
    "# all imports:\n",
    "import pandas as pd\n",
    "import tensortrade.env.default as default\n",
    "\n",
    "from tensortrade.data.cdd import CryptoDataDownload\n",
    "from tensortrade.feed.core import Stream, DataFeed\n",
    "from tensortrade.oms.exchanges import Exchange\n",
    "from tensortrade.oms.services.execution.simulated import execute_order\n",
    "from tensortrade.oms.instruments import USD, BTC, ETH\n",
    "from tensortrade.oms.wallets import Wallet, Portfolio\n",
    "from tensortrade.agents import DQNAgent\n",
    "\n",
    "\n",
    "%matplotlib inline"
   ]
  },
  {
   "cell_type": "code",
   "execution_count": 3,
   "metadata": {
    "id": "QpPq3bKwJXpU"
   },
   "outputs": [],
   "source": [
    "cdd = CryptoDataDownload()\n",
    "\n",
    "data = cdd.fetch(\"Bitstamp\", \"USD\", \"BTC\", \"1h\")"
   ]
  },
  {
   "cell_type": "code",
   "execution_count": 4,
   "metadata": {
    "colab": {
     "base_uri": "https://localhost:8080/",
     "height": 204
    },
    "id": "yepqF5x7JXpV",
    "outputId": "166d22d5-e050-4f44-9b27-96d5c4f7b6e1"
   },
   "outputs": [
    {
     "data": {
      "text/html": [
       "<div>\n",
       "<style scoped>\n",
       "    .dataframe tbody tr th:only-of-type {\n",
       "        vertical-align: middle;\n",
       "    }\n",
       "\n",
       "    .dataframe tbody tr th {\n",
       "        vertical-align: top;\n",
       "    }\n",
       "\n",
       "    .dataframe thead th {\n",
       "        text-align: right;\n",
       "    }\n",
       "</style>\n",
       "<table border=\"1\" class=\"dataframe\">\n",
       "  <thead>\n",
       "    <tr style=\"text-align: right;\">\n",
       "      <th></th>\n",
       "      <th>date</th>\n",
       "      <th>unix</th>\n",
       "      <th>open</th>\n",
       "      <th>high</th>\n",
       "      <th>low</th>\n",
       "      <th>close</th>\n",
       "      <th>volume</th>\n",
       "    </tr>\n",
       "  </thead>\n",
       "  <tbody>\n",
       "    <tr>\n",
       "      <th>0</th>\n",
       "      <td>2018-05-15 06:00:00</td>\n",
       "      <td>1526364000</td>\n",
       "      <td>8733.86</td>\n",
       "      <td>8796.68</td>\n",
       "      <td>8707.28</td>\n",
       "      <td>8740.99</td>\n",
       "      <td>559.93</td>\n",
       "    </tr>\n",
       "    <tr>\n",
       "      <th>1</th>\n",
       "      <td>2018-05-15 07:00:00</td>\n",
       "      <td>1526367600</td>\n",
       "      <td>8740.99</td>\n",
       "      <td>8766.00</td>\n",
       "      <td>8721.11</td>\n",
       "      <td>8739.00</td>\n",
       "      <td>273.58</td>\n",
       "    </tr>\n",
       "    <tr>\n",
       "      <th>2</th>\n",
       "      <td>2018-05-15 08:00:00</td>\n",
       "      <td>1526371200</td>\n",
       "      <td>8739.00</td>\n",
       "      <td>8750.27</td>\n",
       "      <td>8660.53</td>\n",
       "      <td>8728.49</td>\n",
       "      <td>917.79</td>\n",
       "    </tr>\n",
       "    <tr>\n",
       "      <th>3</th>\n",
       "      <td>2018-05-15 09:00:00</td>\n",
       "      <td>1526374800</td>\n",
       "      <td>8728.49</td>\n",
       "      <td>8754.40</td>\n",
       "      <td>8701.35</td>\n",
       "      <td>8708.32</td>\n",
       "      <td>182.62</td>\n",
       "    </tr>\n",
       "    <tr>\n",
       "      <th>4</th>\n",
       "      <td>2018-05-15 10:00:00</td>\n",
       "      <td>1526378400</td>\n",
       "      <td>8708.32</td>\n",
       "      <td>8865.00</td>\n",
       "      <td>8695.11</td>\n",
       "      <td>8795.90</td>\n",
       "      <td>1260.69</td>\n",
       "    </tr>\n",
       "  </tbody>\n",
       "</table>\n",
       "</div>"
      ],
      "text/plain": [
       "                 date        unix     open     high      low    close   volume\n",
       "0 2018-05-15 06:00:00  1526364000  8733.86  8796.68  8707.28  8740.99   559.93\n",
       "1 2018-05-15 07:00:00  1526367600  8740.99  8766.00  8721.11  8739.00   273.58\n",
       "2 2018-05-15 08:00:00  1526371200  8739.00  8750.27  8660.53  8728.49   917.79\n",
       "3 2018-05-15 09:00:00  1526374800  8728.49  8754.40  8701.35  8708.32   182.62\n",
       "4 2018-05-15 10:00:00  1526378400  8708.32  8865.00  8695.11  8795.90  1260.69"
      ]
     },
     "execution_count": 4,
     "metadata": {},
     "output_type": "execute_result"
    }
   ],
   "source": [
    "data.head()"
   ]
  },
  {
   "cell_type": "code",
   "execution_count": null,
   "metadata": {
    "id": "8PVhnDBvJXpW"
   },
   "outputs": [],
   "source": [
    "# we'll create a couple of indicators:\n",
    "def rsi(price: Stream[float], period: float) -> Stream[float]:\n",
    "    r = price.diff()\n",
    "    upside = r.clamp_min(0).abs()\n",
    "    downside = r.clamp_max(0).abs()\n",
    "    rs = upside.ewm(alpha=1 / period).mean() / downside.ewm(alpha=1 / period).mean()\n",
    "    return 100*(1 - (1 + rs) ** -1)\n",
    "\n",
    "\n",
    "def macd(price: Stream[float], fast: float, slow: float, signal: float) -> Stream[float]:\n",
    "    fm = price.ewm(span=fast, adjust=False).mean()\n",
    "    sm = price.ewm(span=slow, adjust=False).mean()\n",
    "    md = fm - sm\n",
    "    signal = md - md.ewm(span=signal, adjust=False).mean()\n",
    "    return signal## Create features with the feed module"
   ]
  },
  {
   "cell_type": "code",
   "execution_count": null,
   "metadata": {},
   "outputs": [],
   "source": [
    "# choosing the closing price:\n",
    "features = []\n",
    "for c in data.columns[1:]:\n",
    "    s = Stream.source(list(data[c]), dtype=\"float\").rename(data[c].name)\n",
    "    features += [s]\n",
    "\n",
    "cp = Stream.select(features, lambda s: s.name == \"close\")"
   ]
  },
  {
   "cell_type": "code",
   "execution_count": 5,
   "metadata": {
    "id": "hYjM8JoJJXpW"
   },
   "outputs": [],
   "source": [
    "# adding the three features (trend indicator, RSI, MACD):\n",
    "features = [\n",
    "    cp.log().diff().rename(\"lr\"),\n",
    "    rsi(cp, period=20).rename(\"rsi\"),\n",
    "    macd(cp, fast=10, slow=50, signal=5).rename(\"macd\")\n",
    "]\n",
    "\n",
    "feed = DataFeed(features)\n",
    "feed.compile()"
   ]
  },
  {
   "cell_type": "code",
   "execution_count": 6,
   "metadata": {
    "colab": {
     "base_uri": "https://localhost:8080/"
    },
    "id": "uqXBeRwrJXpX",
    "outputId": "69b29f71-03e6-4c70-a6e3-3d8aa3b23717"
   },
   "outputs": [
    {
     "name": "stdout",
     "output_type": "stream",
     "text": [
      "{'lr': nan, 'rsi': nan, 'macd': 0.0}\n",
      "{'lr': -0.00022768891842694927, 'rsi': 0.0, 'macd': -0.1891859774210995}\n",
      "{'lr': -0.0012033785355889393, 'rsi': 0.0, 'macd': -1.2726616061000744}\n",
      "{'lr': -0.0023134975946028646, 'rsi': 0.0, 'macd': -3.6577343503541435}\n",
      "{'lr': 0.01000681330867259, 'rsi': 74.26253567956897, 'macd': 3.7087743627464844}\n"
     ]
    }
   ],
   "source": [
    "for i in range(5):\n",
    "    print(feed.next())"
   ]
  },
  {
   "cell_type": "code",
   "execution_count": null,
   "metadata": {},
   "outputs": [],
   "source": [
    "# setting up broker and the portfolio:\n",
    "bitstamp = Exchange(\"bitstamp\", service=execute_order)(\n",
    "    Stream.source(list(data[\"close\"]), dtype=\"float\").rename(\"USD-BTC\")\n",
    ")\n",
    "\n",
    "portfolio = Portfolio(USD, [\n",
    "    Wallet(bitstamp, 10000 * USD),\n",
    "    Wallet(bitstamp, 10 * BTC)\n",
    "])"
   ]
  },
  {
   "cell_type": "code",
   "execution_count": null,
   "metadata": {},
   "outputs": [],
   "source": [
    "# renderer:\n",
    "renderer_feed = DataFeed([\n",
    "    Stream.source(list(data[\"date\"])).rename(\"date\"),\n",
    "    Stream.source(list(data[\"open\"]), dtype=\"float\").rename(\"open\"),\n",
    "    Stream.source(list(data[\"high\"]), dtype=\"float\").rename(\"high\"),\n",
    "    Stream.source(list(data[\"low\"]), dtype=\"float\").rename(\"low\"),\n",
    "    Stream.source(list(data[\"close\"]), dtype=\"float\").rename(\"close\"), \n",
    "    Stream.source(list(data[\"volume\"]), dtype=\"float\").rename(\"volume\") \n",
    "])"
   ]
  },
  {
   "cell_type": "code",
   "execution_count": 7,
   "metadata": {
    "id": "IzWYGEyZJXpY"
   },
   "outputs": [],
   "source": [
    "# the trading environment:\n",
    "env = default.create(\n",
    "    portfolio=portfolio,\n",
    "    action_scheme=\"managed-risk\",\n",
    "    reward_scheme=\"risk-adjusted\",\n",
    "    feed=feed,\n",
    "    renderer_feed=renderer_feed,\n",
    "    renderer=default.renderers.PlotlyTradingChart(),\n",
    "    window_size=20\n",
    ")"
   ]
  },
  {
   "cell_type": "code",
   "execution_count": 8,
   "metadata": {
    "colab": {
     "base_uri": "https://localhost:8080/"
    },
    "id": "hYUd95vjJXpY",
    "outputId": "45d3f699-abe3-49d4-fd87-d7bba3e953f9"
   },
   "outputs": [
    {
     "data": {
      "text/plain": [
       "{'external': {'lr': nan, 'macd': 0.0, 'rsi': nan},\n",
       " 'internal': {'bitstamp:/BTC:/free': 10.0,\n",
       "  'bitstamp:/BTC:/locked': 0.0,\n",
       "  'bitstamp:/BTC:/total': 10.0,\n",
       "  'bitstamp:/BTC:/worth': 87409.9,\n",
       "  'bitstamp:/USD-BTC': 8740.99,\n",
       "  'bitstamp:/USD:/free': 10000.0,\n",
       "  'bitstamp:/USD:/locked': 0.0,\n",
       "  'bitstamp:/USD:/total': 10000.0,\n",
       "  'net_worth': 97409.9},\n",
       " 'renderer': {'close': 8740.99,\n",
       "  'date': Timestamp('2018-05-15 06:00:00'),\n",
       "  'high': 8796.68,\n",
       "  'low': 8707.28,\n",
       "  'open': 8733.86,\n",
       "  'volume': 559.93}}"
      ]
     },
     "execution_count": 8,
     "metadata": {},
     "output_type": "execute_result"
    }
   ],
   "source": [
    "env.observer.feed.next()"
   ]
  },
  {
   "cell_type": "code",
   "execution_count": 9,
   "metadata": {
    "colab": {
     "base_uri": "https://localhost:8080/",
     "height": 1000,
     "referenced_widgets": [
      "9bcf0bbf1c1c49859a2dfa40acce1038"
     ]
    },
    "id": "YoxUET9ZJXpZ",
    "outputId": "a7672ac6-9c9c-42ff-b9d3-8a128fd882ae"
   },
   "outputs": [
    {
     "data": {
      "application/vnd.jupyter.widget-view+json": {
       "model_id": "9bcf0bbf1c1c49859a2dfa40acce1038",
       "version_major": 2,
       "version_minor": 0
      },
      "text/plain": [
       "FigureWidget({\n",
       "    'data': [{'close': array([8740.99, 8739.  , 8728.49, ..., 7911.83, 7901.01, 7887.  ]),\n",
       "    …"
      ]
     },
     "metadata": {},
     "output_type": "display_data"
    },
    {
     "data": {
      "text/html": [
       "<html>\n",
       "<head><meta charset=\"utf-8\" /></head>\n",
       "<body>\n",
       "    <div>            <script src=\"https://cdnjs.cloudflare.com/ajax/libs/mathjax/2.7.5/MathJax.js?config=TeX-AMS-MML_SVG\"></script><script type=\"text/javascript\">if (window.MathJax) {MathJax.Hub.Config({SVG: {font: \"STIX-Web\"}});}</script>                <script type=\"text/javascript\">window.PlotlyConfig = {MathJaxConfig: 'local'};</script>\n",
       "        <script src=\"https://cdn.plot.ly/plotly-2.4.2.min.js\"></script>                <div id=\"80cfdc47-478f-4539-a766-58001ab008dc\" class=\"plotly-graph-div\" style=\"height:525px; width:100%;\"></div>            <script type=\"text/javascript\">                                    window.PLOTLYENV=window.PLOTLYENV || {};                                    if (document.getElementById(\"80cfdc47-478f-4539-a766-58001ab008dc\")) {                    Plotly.newPlot(                        \"80cfdc47-478f-4539-a766-58001ab008dc\",                        [{\"close\":[8740.99,8739.0,8728.49,8708.32,8795.9,8760.0,8760.0,8759.23,8517.77,8520.3,8535.23,8546.34,8526.65,8555.6,8512.1,8492.28,8460.0,8474.99,8455.92,8326.28,8133.43,8164.79,8229.38,8220.4,8238.8,8232.99,8207.48,8243.45,8371.13,8373.0,8365.08,8179.99,8225.0,8285.8,8273.4,8297.4,8279.89,8252.72,8302.18,8295.85,8277.25,8346.59,8358.3,8375.1,8368.62,8366.72,8314.77,8363.7,8344.16,8247.4,8277.4],\"high\":[8796.68,8766.0,8750.27,8754.4,8865.0,8821.19,8798.6,8771.02,8761.7,8553.67,8589.1,8579.48,8555.51,8583.6,8569.92,8555.54,8557.51,8505.0,8505.33,8478.29,8339.81,8217.44,8252.72,8248.63,8267.12,8255.0,8261.24,8263.93,8455.66,8439.44,8399.1,8381.73,8229.91,8377.29,8329.1,8350.0,8346.95,8377.29,8311.35,8319.96,8398.24,8372.58,8399.99,8386.53,8400.0,8500.0,8381.0,8371.3,8382.41,8351.0,8292.99],\"low\":[8707.28,8721.11,8660.53,8701.35,8695.11,8740.54,8741.52,8700.0,8467.42,8477.89,8500.78,8500.0,8400.0,8451.05,8461.38,8481.24,8420.37,8450.0,8430.94,8275.02,8100.01,8122.56,8157.01,8166.25,8176.91,8213.79,8200.0,8207.48,8237.1,8370.0,8356.4,8145.1,8173.6,8211.8,8201.0,8250.9,8266.46,8252.72,8232.14,8268.37,8277.25,8277.25,8314.78,8314.77,8350.07,8331.39,8314.77,8275.45,8335.49,8191.14,8227.7],\"name\":\"Price\",\"open\":[8733.86,8740.99,8739.0,8728.49,8708.32,8795.9,8760.0,8760.0,8759.23,8517.77,8520.3,8535.23,8546.34,8526.65,8555.6,8512.1,8492.28,8460.0,8474.99,8455.92,8326.28,8133.43,8164.79,8229.38,8220.4,8238.8,8232.99,8207.48,8243.45,8371.13,8373.0,8365.08,8179.99,8225.0,8285.8,8273.4,8297.4,8279.89,8252.72,8302.18,8295.85,8277.25,8346.59,8358.3,8375.1,8368.62,8366.72,8314.77,8363.7,8344.16,8247.4],\"showlegend\":false,\"type\":\"candlestick\",\"uid\":\"01cfb1c8-0b02-4886-8b0a-96261fa2aa5c\",\"xaxis\":\"x\",\"yaxis\":\"y\"},{\"marker\":{\"color\":\"DodgerBlue\"},\"name\":\"Volume\",\"showlegend\":false,\"type\":\"bar\",\"uid\":\"2a7afce9-70fd-4d19-aed6-6facf6c7ebb6\",\"xaxis\":\"x2\",\"y\":[559.93,273.58,917.79,182.62,1260.69,324.11,324.2,730.67,1341.75,792.07,385.69,475.08,877.26,670.49,610.97,168.99,305.92,136.05,154.26,1070.93,1710.2,492.8,630.72,620.93,586.34,304.52,450.97,182.36,915.32,319.29,362.01,1046.38,357.91,561.2,322.53,1073.71,237.21,251.2,359.73,117.23,363.17,214.18,171.64,258.58,299.52,718.98,119.7,405.25,210.77,714.82,215.97],\"yaxis\":\"y2\"},{\"mode\":\"lines\",\"name\":\"bitstamp:/USD-BTC\",\"type\":\"scatter\",\"uid\":\"aa25b938-fd39-4f85-817e-a103f1cfec50\",\"xaxis\":\"x3\",\"y\":[8740.99,8739.0,8728.49,8708.32,8795.9,8760.0,8760.0,8759.23,8517.77,8520.3,8535.23,8546.34,8526.65,8555.6,8512.1,8492.28,8460.0,8474.99,8455.92,8326.28,8133.43,8164.79,8229.38,8220.4,8238.8,8232.99,8207.48,8243.45,8371.13,8373.0,8365.08,8179.99,8225.0,8285.8,8273.4,8297.4,8279.89,8252.72,8302.18,8295.85,8277.25,8346.59,8358.3,8375.1,8368.62,8366.72,8314.77,8363.7,8344.16,8247.4,8277.4],\"yaxis\":\"y3\"},{\"mode\":\"lines\",\"name\":\"bitstamp:/USD:/free\",\"type\":\"scatter\",\"uid\":\"a0fc54b0-38cc-433f-9e09-2e99cd52dd35\",\"xaxis\":\"x3\",\"y\":[10000.0,10000.0,10000.0,10000.0,10000.0,10000.0,10000.0,10000.0,10000.0,4000.0,4000.0,4000.0,4000.0,4000.0,800.0,800.0,800.0,800.0,800.0,800.0,3895.57,9590.51,9590.51,9590.51,9590.51,9590.51,9590.51,9590.51,7672.41,7672.41,7672.41,7672.41,7672.41,7672.41,7672.41,7672.41,7672.41,7672.41,7672.41,7672.41,3836.21,3836.21,3836.21,3836.21,3836.21,3836.21,3836.21,3836.21,3836.21,3836.21,3836.21],\"yaxis\":\"y3\"},{\"mode\":\"lines\",\"name\":\"bitstamp:/USD:/locked\",\"type\":\"scatter\",\"uid\":\"2722bdc7-4f3f-44bf-abd7-c617032d27e5\",\"xaxis\":\"x3\",\"y\":[0.0,0.0,0.0,0.0,0.0,0.0,0.0,0.0,0.0,0.0,0.0,0.0,0.0,0.0,0.0,0.0,0.0,0.0,0.0,0.0,0.0,0.0,0.0,0.0,0.0,0.0,0.0,0.0,0.0,0.0,0.0,0.0,0.0,0.0,0.0,0.0,0.0,0.0,0.0,0.0,0.0,0.0,0.0,0.0,0.0,0.0,0.0,0.0,0.0,0.0,0.0],\"yaxis\":\"y3\"},{\"mode\":\"lines\",\"name\":\"bitstamp:/USD:/total\",\"type\":\"scatter\",\"uid\":\"50a887ba-dc1c-49e1-9919-2c6a5f1ce675\",\"xaxis\":\"x3\",\"y\":[10000.0,10000.0,10000.0,10000.0,10000.0,10000.0,10000.0,10000.0,10000.0,4000.0,4000.0,4000.0,4000.0,4000.0,800.0,800.0,800.0,800.0,800.0,800.0,3895.57,9590.51,9590.51,9590.51,9590.51,9590.51,9590.51,9590.51,7672.41,7672.41,7672.41,7672.41,7672.41,7672.41,7672.41,7672.41,7672.41,7672.41,7672.41,7672.41,3836.21,3836.21,3836.21,3836.21,3836.21,3836.21,3836.21,3836.21,3836.21,3836.21,3836.21],\"yaxis\":\"y3\"},{\"mode\":\"lines\",\"name\":\"bitstamp:/BTC:/free\",\"type\":\"scatter\",\"uid\":\"6a76eb19-21b7-4b89-a4c7-dd64c09913ed\",\"xaxis\":\"x3\",\"y\":[10.0,10.0,10.0,10.0,10.0,10.0,10.0,10.0,10.0,10.0,10.0,10.0,10.0,10.0,10.0,10.0,10.0,10.0,10.0,10.0,10.0,10.0,10.0,10.0,10.0,10.0,10.0,10.0,10.0,10.0,10.0,10.0,10.0,10.0,10.0,10.0,10.0,10.0,10.0,10.0,10.0,10.0,10.0,10.0,10.0,10.0,10.0,10.0,10.0,10.0,10.0],\"yaxis\":\"y3\"},{\"mode\":\"lines\",\"name\":\"bitstamp:/BTC:/locked\",\"type\":\"scatter\",\"uid\":\"5ab63988-9d48-4993-9003-f90c3460589b\",\"xaxis\":\"x3\",\"y\":[0.0,0.0,0.0,0.0,0.0,0.0,0.0,0.0,0.0,0.70229649,0.70229649,0.70229649,0.70229649,0.70229649,1.07519845,1.07519845,1.07519845,1.07519845,1.07519845,1.07519845,0.70229649,0.0,0.0,0.0,0.0,0.0,0.0,0.0,0.23198418,0.23198418,0.23198418,0.23198418,0.23198418,0.23198418,0.23198418,0.23198418,0.23198418,0.23198418,0.23198418,0.23198418,0.69302072,0.69302072,0.69302072,0.69302072,0.69302072,0.69302072,0.69302072,0.69302072,0.69302072,0.69302072,0.69302072],\"yaxis\":\"y3\"},{\"mode\":\"lines\",\"name\":\"bitstamp:/BTC:/total\",\"type\":\"scatter\",\"uid\":\"0711e7d8-cb3d-4ac5-a15a-06b73d5fd047\",\"xaxis\":\"x3\",\"y\":[10.0,10.0,10.0,10.0,10.0,10.0,10.0,10.0,10.0,10.70229649,10.70229649,10.70229649,10.70229649,10.70229649,11.07519845,11.07519845,11.07519845,11.07519845,11.07519845,11.07519845,10.70229649,10.0,10.0,10.0,10.0,10.0,10.0,10.0,10.23198418,10.23198418,10.23198418,10.23198418,10.23198418,10.23198418,10.23198418,10.23198418,10.23198418,10.23198418,10.23198418,10.23198418,10.69302072,10.69302072,10.69302072,10.69302072,10.69302072,10.69302072,10.69302072,10.69302072,10.69302072,10.69302072,10.69302072],\"yaxis\":\"y3\"},{\"mode\":\"lines\",\"name\":\"bitstamp:/BTC:/worth\",\"type\":\"scatter\",\"uid\":\"1becf59d-1ba7-4f9d-bc78-fb6131df7711\",\"xaxis\":\"x3\",\"y\":[87409.9,87390.0,87284.9,87083.2,87959.0,87600.0,87600.0,87592.29999999999,85177.70000000001,91186.77678374699,91346.5620703427,91465.4645843466,91254.7363664585,91564.56784984401,94273.196726245,94053.68629296601,93696.178887,93862.1961117655,93650.992077324,92215.203350266,87046.3793406607,81647.9,82293.79999999999,82204.0,82388.0,82329.9,82074.79999999999,82434.5,85653.26972872339,85672.40353914,85591.3662244344,83697.5282725582,84158.0698805,84780.174518644,84653.29791481199,84898.86553513199,84719.7034921402,84441.70048196959,84947.7744195124,84883.005959653,88508.80575462,89250.2598113448,89375.475083976,89555.117832072,89485.82705780641,89465.51031843839,88910.00789203441,89433.217395864,89224.2757709952,88189.61908612799,88510.40970772799],\"yaxis\":\"y3\"},{\"mode\":\"lines\",\"name\":\"net_worth\",\"type\":\"scatter\",\"uid\":\"10a610f8-6895-40c9-9719-263d90a858e5\",\"xaxis\":\"x3\",\"y\":[97409.9,97390.0,97284.9,97083.2,97959.0,97600.0,97600.0,97592.29999999999,95177.70000000001,95186.77678374699,95346.5620703427,95465.4645843466,95254.7363664585,95564.56784984401,95073.196726245,94853.68629296601,94496.178887,94662.1961117655,94450.992077324,93015.203350266,90941.9493406607,91238.40999999999,91884.30999999998,91794.51,91978.51,91920.40999999999,91665.30999999998,92025.01,93325.6797287234,93344.81353914,93263.7762244344,91369.9382725582,91830.4798805,92452.584518644,92325.707914812,92571.275535132,92392.1134921402,92114.11048196959,92620.1844195124,92555.41595965301,92345.01575462,93086.46981134481,93211.685083976,93391.32783207201,93322.03705780642,93301.7203184384,92746.21789203442,93269.42739586401,93060.4857709952,92025.829086128,92346.619707728],\"yaxis\":\"y3\"},{\"marker\":{\"color\":\"DarkGreen\"},\"mode\":\"lines\",\"name\":\"Net Worth\",\"type\":\"scatter\",\"uid\":\"2828561d-d4ab-4f23-a15e-030b3891fe09\",\"xaxis\":\"x4\",\"y\":[97409.9,97390.0,97284.9,97083.2,97959.0,97600.0,97600.0,97592.29999999999,95177.70000000001,95186.77678374699,95346.5620703427,95465.4645843466,95254.7363664585,95564.56784984401,95073.196726245,94853.68629296601,94496.178887,94662.1961117655,94450.992077324,93015.203350266,90941.9493406607,91238.40999999999,91884.30999999998,91794.51,91978.51,91920.40999999999,91665.30999999998,92025.01,93325.6797287234,93344.81353914,93263.7762244344,91369.9382725582,91830.4798805,92452.584518644,92325.707914812,92571.275535132,92392.1134921402,92114.11048196959,92620.1844195124,92555.41595965301,92345.01575462,93086.46981134481,93211.685083976,93391.32783207201,93322.03705780642,93301.7203184384,92746.21789203442,93269.42739586401,93060.4857709952,92025.829086128,92346.619707728],\"yaxis\":\"y4\"}],                        {\"annotations\":[{\"arrowcolor\":\"DarkGreen\",\"arrowhead\":2,\"arrowsize\":0.8,\"arrowwidth\":4,\"ax\":0,\"ay\":15,\"hoverlabel\":{\"bgcolor\":\"DarkGreen\"},\"hovertext\":\"Step 40 [2018-05-16 21:00:00]<br>BUY 0.46103654 BTC @ 8295.85 USD MARKET<br>Total: 3824.69 USD - Comm.: 11.51 USD\",\"opacity\":0.6,\"showarrow\":true,\"x\":39,\"xref\":\"x\",\"y\":8295.85,\"yref\":\"y\"},{\"arrowcolor\":\"DarkGreen\",\"arrowhead\":2,\"arrowsize\":0.8,\"arrowwidth\":4,\"ax\":0,\"ay\":15,\"hoverlabel\":{\"bgcolor\":\"DarkGreen\"},\"hovertext\":\"Step 28 [2018-05-16 09:00:00]<br>BUY 0.23198418 BTC @ 8243.45 USD MARKET<br>Total: 1912.35 USD - Comm.: 5.75 USD\",\"opacity\":0.6,\"showarrow\":true,\"x\":27,\"xref\":\"x\",\"y\":8243.45,\"yref\":\"y\"},{\"arrowcolor\":\"FireBrick\",\"arrowhead\":2,\"arrowsize\":0.8,\"arrowwidth\":4,\"ax\":0,\"ay\":-15,\"hoverlabel\":{\"bgcolor\":\"FireBrick\"},\"hovertext\":\"Step 21 [2018-05-16 02:00:00]<br>SELL 0.7001896 BTC @ 8133.43 USD MARKET<br>Total: 5694.94 USD - Comm.: 0.00210689 BTC\",\"opacity\":0.6,\"showarrow\":true,\"x\":20,\"xref\":\"x\",\"y\":8133.43,\"yref\":\"y\"},{\"arrowcolor\":\"FireBrick\",\"arrowhead\":2,\"arrowsize\":0.8,\"arrowwidth\":4,\"ax\":0,\"ay\":-15,\"hoverlabel\":{\"bgcolor\":\"FireBrick\"},\"hovertext\":\"Step 20 [2018-05-16 01:00:00]<br>SELL 0.37178325 BTC @ 8326.28 USD MARKET<br>Total: 3095.57 USD - Comm.: 0.00111871 BTC\",\"opacity\":0.6,\"showarrow\":true,\"x\":19,\"xref\":\"x\",\"y\":8326.28,\"yref\":\"y\"},{\"arrowcolor\":\"DarkGreen\",\"arrowhead\":2,\"arrowsize\":0.8,\"arrowwidth\":4,\"ax\":0,\"ay\":15,\"hoverlabel\":{\"bgcolor\":\"DarkGreen\"},\"hovertext\":\"Step 14 [2018-05-15 19:00:00]<br>BUY 0.37290196 BTC @ 8555.6 USD MARKET<br>Total: 3190.4 USD - Comm.: 9.60 USD\",\"opacity\":0.6,\"showarrow\":true,\"x\":13,\"xref\":\"x\",\"y\":8555.6,\"yref\":\"y\"},{\"arrowcolor\":\"DarkGreen\",\"arrowhead\":2,\"arrowsize\":0.8,\"arrowwidth\":4,\"ax\":0,\"ay\":15,\"hoverlabel\":{\"bgcolor\":\"DarkGreen\"},\"hovertext\":\"Step 9 [2018-05-15 14:00:00]<br>BUY 0.70229649 BTC @ 8517.77 USD MARKET<br>Total: 5982.0 USD - Comm.: 18.00 USD\",\"opacity\":0.6,\"showarrow\":true,\"x\":8,\"xref\":\"x\",\"y\":8517.77,\"yref\":\"y\"}],\"margin\":{\"t\":50},\"template\":{\"data\":{\"bar\":[{\"error_x\":{\"color\":\"#2a3f5f\"},\"error_y\":{\"color\":\"#2a3f5f\"},\"marker\":{\"line\":{\"color\":\"white\",\"width\":0.5},\"pattern\":{\"fillmode\":\"overlay\",\"size\":10,\"solidity\":0.2}},\"type\":\"bar\"}],\"barpolar\":[{\"marker\":{\"line\":{\"color\":\"white\",\"width\":0.5},\"pattern\":{\"fillmode\":\"overlay\",\"size\":10,\"solidity\":0.2}},\"type\":\"barpolar\"}],\"carpet\":[{\"aaxis\":{\"endlinecolor\":\"#2a3f5f\",\"gridcolor\":\"#C8D4E3\",\"linecolor\":\"#C8D4E3\",\"minorgridcolor\":\"#C8D4E3\",\"startlinecolor\":\"#2a3f5f\"},\"baxis\":{\"endlinecolor\":\"#2a3f5f\",\"gridcolor\":\"#C8D4E3\",\"linecolor\":\"#C8D4E3\",\"minorgridcolor\":\"#C8D4E3\",\"startlinecolor\":\"#2a3f5f\"},\"type\":\"carpet\"}],\"choropleth\":[{\"colorbar\":{\"outlinewidth\":0,\"ticks\":\"\"},\"type\":\"choropleth\"}],\"contour\":[{\"colorbar\":{\"outlinewidth\":0,\"ticks\":\"\"},\"colorscale\":[[0.0,\"#0d0887\"],[0.1111111111111111,\"#46039f\"],[0.2222222222222222,\"#7201a8\"],[0.3333333333333333,\"#9c179e\"],[0.4444444444444444,\"#bd3786\"],[0.5555555555555556,\"#d8576b\"],[0.6666666666666666,\"#ed7953\"],[0.7777777777777778,\"#fb9f3a\"],[0.8888888888888888,\"#fdca26\"],[1.0,\"#f0f921\"]],\"type\":\"contour\"}],\"contourcarpet\":[{\"colorbar\":{\"outlinewidth\":0,\"ticks\":\"\"},\"type\":\"contourcarpet\"}],\"heatmap\":[{\"colorbar\":{\"outlinewidth\":0,\"ticks\":\"\"},\"colorscale\":[[0.0,\"#0d0887\"],[0.1111111111111111,\"#46039f\"],[0.2222222222222222,\"#7201a8\"],[0.3333333333333333,\"#9c179e\"],[0.4444444444444444,\"#bd3786\"],[0.5555555555555556,\"#d8576b\"],[0.6666666666666666,\"#ed7953\"],[0.7777777777777778,\"#fb9f3a\"],[0.8888888888888888,\"#fdca26\"],[1.0,\"#f0f921\"]],\"type\":\"heatmap\"}],\"heatmapgl\":[{\"colorbar\":{\"outlinewidth\":0,\"ticks\":\"\"},\"colorscale\":[[0.0,\"#0d0887\"],[0.1111111111111111,\"#46039f\"],[0.2222222222222222,\"#7201a8\"],[0.3333333333333333,\"#9c179e\"],[0.4444444444444444,\"#bd3786\"],[0.5555555555555556,\"#d8576b\"],[0.6666666666666666,\"#ed7953\"],[0.7777777777777778,\"#fb9f3a\"],[0.8888888888888888,\"#fdca26\"],[1.0,\"#f0f921\"]],\"type\":\"heatmapgl\"}],\"histogram\":[{\"marker\":{\"pattern\":{\"fillmode\":\"overlay\",\"size\":10,\"solidity\":0.2}},\"type\":\"histogram\"}],\"histogram2d\":[{\"colorbar\":{\"outlinewidth\":0,\"ticks\":\"\"},\"colorscale\":[[0.0,\"#0d0887\"],[0.1111111111111111,\"#46039f\"],[0.2222222222222222,\"#7201a8\"],[0.3333333333333333,\"#9c179e\"],[0.4444444444444444,\"#bd3786\"],[0.5555555555555556,\"#d8576b\"],[0.6666666666666666,\"#ed7953\"],[0.7777777777777778,\"#fb9f3a\"],[0.8888888888888888,\"#fdca26\"],[1.0,\"#f0f921\"]],\"type\":\"histogram2d\"}],\"histogram2dcontour\":[{\"colorbar\":{\"outlinewidth\":0,\"ticks\":\"\"},\"colorscale\":[[0.0,\"#0d0887\"],[0.1111111111111111,\"#46039f\"],[0.2222222222222222,\"#7201a8\"],[0.3333333333333333,\"#9c179e\"],[0.4444444444444444,\"#bd3786\"],[0.5555555555555556,\"#d8576b\"],[0.6666666666666666,\"#ed7953\"],[0.7777777777777778,\"#fb9f3a\"],[0.8888888888888888,\"#fdca26\"],[1.0,\"#f0f921\"]],\"type\":\"histogram2dcontour\"}],\"mesh3d\":[{\"colorbar\":{\"outlinewidth\":0,\"ticks\":\"\"},\"type\":\"mesh3d\"}],\"parcoords\":[{\"line\":{\"colorbar\":{\"outlinewidth\":0,\"ticks\":\"\"}},\"type\":\"parcoords\"}],\"pie\":[{\"automargin\":true,\"type\":\"pie\"}],\"scatter\":[{\"marker\":{\"colorbar\":{\"outlinewidth\":0,\"ticks\":\"\"}},\"type\":\"scatter\"}],\"scatter3d\":[{\"line\":{\"colorbar\":{\"outlinewidth\":0,\"ticks\":\"\"}},\"marker\":{\"colorbar\":{\"outlinewidth\":0,\"ticks\":\"\"}},\"type\":\"scatter3d\"}],\"scattercarpet\":[{\"marker\":{\"colorbar\":{\"outlinewidth\":0,\"ticks\":\"\"}},\"type\":\"scattercarpet\"}],\"scattergeo\":[{\"marker\":{\"colorbar\":{\"outlinewidth\":0,\"ticks\":\"\"}},\"type\":\"scattergeo\"}],\"scattergl\":[{\"marker\":{\"colorbar\":{\"outlinewidth\":0,\"ticks\":\"\"}},\"type\":\"scattergl\"}],\"scattermapbox\":[{\"marker\":{\"colorbar\":{\"outlinewidth\":0,\"ticks\":\"\"}},\"type\":\"scattermapbox\"}],\"scatterpolar\":[{\"marker\":{\"colorbar\":{\"outlinewidth\":0,\"ticks\":\"\"}},\"type\":\"scatterpolar\"}],\"scatterpolargl\":[{\"marker\":{\"colorbar\":{\"outlinewidth\":0,\"ticks\":\"\"}},\"type\":\"scatterpolargl\"}],\"scatterternary\":[{\"marker\":{\"colorbar\":{\"outlinewidth\":0,\"ticks\":\"\"}},\"type\":\"scatterternary\"}],\"surface\":[{\"colorbar\":{\"outlinewidth\":0,\"ticks\":\"\"},\"colorscale\":[[0.0,\"#0d0887\"],[0.1111111111111111,\"#46039f\"],[0.2222222222222222,\"#7201a8\"],[0.3333333333333333,\"#9c179e\"],[0.4444444444444444,\"#bd3786\"],[0.5555555555555556,\"#d8576b\"],[0.6666666666666666,\"#ed7953\"],[0.7777777777777778,\"#fb9f3a\"],[0.8888888888888888,\"#fdca26\"],[1.0,\"#f0f921\"]],\"type\":\"surface\"}],\"table\":[{\"cells\":{\"fill\":{\"color\":\"#EBF0F8\"},\"line\":{\"color\":\"white\"}},\"header\":{\"fill\":{\"color\":\"#C8D4E3\"},\"line\":{\"color\":\"white\"}},\"type\":\"table\"}]},\"layout\":{\"annotationdefaults\":{\"arrowcolor\":\"#2a3f5f\",\"arrowhead\":0,\"arrowwidth\":1},\"autotypenumbers\":\"strict\",\"coloraxis\":{\"colorbar\":{\"outlinewidth\":0,\"ticks\":\"\"}},\"colorscale\":{\"diverging\":[[0,\"#8e0152\"],[0.1,\"#c51b7d\"],[0.2,\"#de77ae\"],[0.3,\"#f1b6da\"],[0.4,\"#fde0ef\"],[0.5,\"#f7f7f7\"],[0.6,\"#e6f5d0\"],[0.7,\"#b8e186\"],[0.8,\"#7fbc41\"],[0.9,\"#4d9221\"],[1,\"#276419\"]],\"sequential\":[[0.0,\"#0d0887\"],[0.1111111111111111,\"#46039f\"],[0.2222222222222222,\"#7201a8\"],[0.3333333333333333,\"#9c179e\"],[0.4444444444444444,\"#bd3786\"],[0.5555555555555556,\"#d8576b\"],[0.6666666666666666,\"#ed7953\"],[0.7777777777777778,\"#fb9f3a\"],[0.8888888888888888,\"#fdca26\"],[1.0,\"#f0f921\"]],\"sequentialminus\":[[0.0,\"#0d0887\"],[0.1111111111111111,\"#46039f\"],[0.2222222222222222,\"#7201a8\"],[0.3333333333333333,\"#9c179e\"],[0.4444444444444444,\"#bd3786\"],[0.5555555555555556,\"#d8576b\"],[0.6666666666666666,\"#ed7953\"],[0.7777777777777778,\"#fb9f3a\"],[0.8888888888888888,\"#fdca26\"],[1.0,\"#f0f921\"]]},\"colorway\":[\"#636efa\",\"#EF553B\",\"#00cc96\",\"#ab63fa\",\"#FFA15A\",\"#19d3f3\",\"#FF6692\",\"#B6E880\",\"#FF97FF\",\"#FECB52\"],\"font\":{\"color\":\"#2a3f5f\"},\"geo\":{\"bgcolor\":\"white\",\"lakecolor\":\"white\",\"landcolor\":\"white\",\"showlakes\":true,\"showland\":true,\"subunitcolor\":\"#C8D4E3\"},\"hoverlabel\":{\"align\":\"left\"},\"hovermode\":\"closest\",\"mapbox\":{\"style\":\"light\"},\"paper_bgcolor\":\"white\",\"plot_bgcolor\":\"white\",\"polar\":{\"angularaxis\":{\"gridcolor\":\"#EBF0F8\",\"linecolor\":\"#EBF0F8\",\"ticks\":\"\"},\"bgcolor\":\"white\",\"radialaxis\":{\"gridcolor\":\"#EBF0F8\",\"linecolor\":\"#EBF0F8\",\"ticks\":\"\"}},\"scene\":{\"xaxis\":{\"backgroundcolor\":\"white\",\"gridcolor\":\"#DFE8F3\",\"gridwidth\":2,\"linecolor\":\"#EBF0F8\",\"showbackground\":true,\"ticks\":\"\",\"zerolinecolor\":\"#EBF0F8\"},\"yaxis\":{\"backgroundcolor\":\"white\",\"gridcolor\":\"#DFE8F3\",\"gridwidth\":2,\"linecolor\":\"#EBF0F8\",\"showbackground\":true,\"ticks\":\"\",\"zerolinecolor\":\"#EBF0F8\"},\"zaxis\":{\"backgroundcolor\":\"white\",\"gridcolor\":\"#DFE8F3\",\"gridwidth\":2,\"linecolor\":\"#EBF0F8\",\"showbackground\":true,\"ticks\":\"\",\"zerolinecolor\":\"#EBF0F8\"}},\"shapedefaults\":{\"line\":{\"color\":\"#2a3f5f\"}},\"ternary\":{\"aaxis\":{\"gridcolor\":\"#DFE8F3\",\"linecolor\":\"#A2B1C6\",\"ticks\":\"\"},\"baxis\":{\"gridcolor\":\"#DFE8F3\",\"linecolor\":\"#A2B1C6\",\"ticks\":\"\"},\"bgcolor\":\"white\",\"caxis\":{\"gridcolor\":\"#DFE8F3\",\"linecolor\":\"#A2B1C6\",\"ticks\":\"\"}},\"title\":{\"x\":0.05},\"xaxis\":{\"automargin\":true,\"gridcolor\":\"#EBF0F8\",\"linecolor\":\"#EBF0F8\",\"ticks\":\"\",\"title\":{\"standoff\":15},\"zerolinecolor\":\"#EBF0F8\",\"zerolinewidth\":2},\"yaxis\":{\"automargin\":true,\"gridcolor\":\"#EBF0F8\",\"linecolor\":\"#EBF0F8\",\"ticks\":\"\",\"title\":{\"standoff\":15},\"zerolinecolor\":\"#EBF0F8\",\"zerolinewidth\":2}}},\"title\":{\"text\":\"[2021-09-05 08:50:05 AM] Episode: 2/2 Step: 51/200\"},\"xaxis\":{\"anchor\":\"y\",\"domain\":[0.0,1.0],\"gridcolor\":\"Gainsboro\",\"linecolor\":\"Grey\",\"matches\":\"x4\",\"rangeslider\":{\"visible\":false},\"showticklabels\":false,\"title\":{\"font\":{\"size\":12},\"standoff\":7,\"text\":\"Price\"}},\"xaxis2\":{\"anchor\":\"y2\",\"domain\":[0.0,1.0],\"gridcolor\":\"Gainsboro\",\"linecolor\":\"Grey\",\"matches\":\"x4\",\"showticklabels\":false,\"title\":{\"font\":{\"size\":12},\"standoff\":7,\"text\":\"Volume\"}},\"xaxis3\":{\"anchor\":\"y3\",\"domain\":[0.0,1.0],\"gridcolor\":\"Gainsboro\",\"linecolor\":\"Grey\",\"matches\":\"x4\",\"showticklabels\":false,\"title\":{\"font\":{\"size\":12},\"standoff\":7,\"text\":\"Performance\"}},\"xaxis4\":{\"anchor\":\"y4\",\"domain\":[0.0,1.0],\"gridcolor\":\"Gainsboro\",\"linecolor\":\"Grey\",\"title\":{\"font\":{\"size\":12},\"standoff\":7,\"text\":\"Net Worth\"}},\"yaxis\":{\"anchor\":\"x\",\"domain\":[0.49950000000000006,1.0],\"gridcolor\":\"Gainsboro\",\"linecolor\":\"Grey\"},\"yaxis2\":{\"anchor\":\"x2\",\"domain\":[0.333,0.46950000000000003],\"gridcolor\":\"Gainsboro\",\"linecolor\":\"Grey\"},\"yaxis3\":{\"anchor\":\"x3\",\"domain\":[0.1665,0.30300000000000005],\"gridcolor\":\"Gainsboro\",\"linecolor\":\"Grey\"},\"yaxis4\":{\"anchor\":\"x4\",\"domain\":[0.0,0.1365],\"gridcolor\":\"Gainsboro\",\"linecolor\":\"Grey\"}},                        {\"responsive\": true}                    ).then(function(){\n",
       "                            \n",
       "var gd = document.getElementById('80cfdc47-478f-4539-a766-58001ab008dc');\n",
       "var x = new MutationObserver(function (mutations, observer) {{\n",
       "        var display = window.getComputedStyle(gd).display;\n",
       "        if (!display || display === 'none') {{\n",
       "            console.log([gd, 'removed!']);\n",
       "            Plotly.purge(gd);\n",
       "            observer.disconnect();\n",
       "        }}\n",
       "}});\n",
       "\n",
       "// Listen for the removal of the full notebook cells\n",
       "var notebookContainer = gd.closest('#notebook-container');\n",
       "if (notebookContainer) {{\n",
       "    x.observe(notebookContainer, {childList: true});\n",
       "}}\n",
       "\n",
       "// Listen for the clearing of the current output cell\n",
       "var outputEl = gd.closest('.output');\n",
       "if (outputEl) {{\n",
       "    x.observe(outputEl, {childList: true});\n",
       "}}\n",
       "\n",
       "                        })                };                            </script>        </div>\n",
       "</body>\n",
       "</html>"
      ]
     },
     "metadata": {},
     "output_type": "display_data"
    },
    {
     "data": {
      "application/vnd.jupyter.widget-view+json": {
       "model_id": "9bcf0bbf1c1c49859a2dfa40acce1038",
       "version_major": 2,
       "version_minor": 0
      },
      "text/plain": [
       "FigureWidget({\n",
       "    'data': [{'close': array([8740.99, 8739.  , 8728.49, 8708.32, 8795.9 , 8760.  , 8760.  , 87…"
      ]
     },
     "metadata": {},
     "output_type": "display_data"
    },
    {
     "data": {
      "text/html": [
       "<html>\n",
       "<head><meta charset=\"utf-8\" /></head>\n",
       "<body>\n",
       "    <div>            <script src=\"https://cdnjs.cloudflare.com/ajax/libs/mathjax/2.7.5/MathJax.js?config=TeX-AMS-MML_SVG\"></script><script type=\"text/javascript\">if (window.MathJax) {MathJax.Hub.Config({SVG: {font: \"STIX-Web\"}});}</script>                <script type=\"text/javascript\">window.PlotlyConfig = {MathJaxConfig: 'local'};</script>\n",
       "        <script src=\"https://cdn.plot.ly/plotly-2.4.2.min.js\"></script>                <div id=\"1210b40e-ca79-4e2d-a1ec-6d7c902099e2\" class=\"plotly-graph-div\" style=\"height:525px; width:100%;\"></div>            <script type=\"text/javascript\">                                    window.PLOTLYENV=window.PLOTLYENV || {};                                    if (document.getElementById(\"1210b40e-ca79-4e2d-a1ec-6d7c902099e2\")) {                    Plotly.newPlot(                        \"1210b40e-ca79-4e2d-a1ec-6d7c902099e2\",                        [{\"close\":[8740.99,8739.0,8728.49,8708.32,8795.9,8760.0,8760.0,8759.23,8517.77,8520.3,8535.23,8546.34,8526.65,8555.6,8512.1,8492.28,8460.0,8474.99,8455.92,8326.28,8133.43,8164.79,8229.38,8220.4,8238.8,8232.99,8207.48,8243.45,8371.13,8373.0,8365.08,8179.99,8225.0,8285.8,8273.4,8297.4,8279.89,8252.72,8302.18,8295.85,8277.25,8346.59,8358.3,8375.1,8368.62,8366.72,8314.77,8363.7,8344.16,8247.4,8277.4,8291.67,8307.89,8298.9,8269.47,8300.98,8318.49,8306.39,8276.43,8257.69,8166.0,8176.33,8200.7,8155.41,8080.0,8067.03,7958.08,7974.25,7998.5,7991.99,8022.7,8042.97,7965.67,8088.95,8122.19,8107.99,8137.73,8115.0,8107.0,8094.4,8080.01,8117.09,8126.99,8110.95,8215.39,8231.42,8240.13,8235.0,8219.9,8248.87,8213.5,8200.99,8200.0,8237.3,8228.13,8240.83,8214.9,8170.07,8229.87,8205.87,8252.56],\"high\":[8796.68,8766.0,8750.27,8754.4,8865.0,8821.19,8798.6,8771.02,8761.7,8553.67,8589.1,8579.48,8555.51,8583.6,8569.92,8555.54,8557.51,8505.0,8505.33,8478.29,8339.81,8217.44,8252.72,8248.63,8267.12,8255.0,8261.24,8263.93,8455.66,8439.44,8399.1,8381.73,8229.91,8377.29,8329.1,8350.0,8346.95,8377.29,8311.35,8319.96,8398.24,8372.58,8399.99,8386.53,8400.0,8500.0,8381.0,8371.3,8382.41,8351.0,8292.99,8325.8,8318.99,8324.9,8335.56,8309.4,8377.29,8330.41,8328.23,8284.36,8274.83,8200.0,8232.14,8213.97,8155.41,8108.28,8068.92,8019.9,8026.66,8025.0,8104.69,8061.39,8045.99,8170.71,8144.16,8139.99,8152.99,8137.73,8143.72,8129.99,8106.76,8139.0,8152.04,8146.99,8232.14,8275.1,8256.12,8274.1,8255.8,8253.97,8261.09,8235.76,8227.0,8273.36,8264.21,8250.0,8250.86,8235.77,8232.12,8232.14,8252.72],\"low\":[8707.28,8721.11,8660.53,8701.35,8695.11,8740.54,8741.52,8700.0,8467.42,8477.89,8500.78,8500.0,8400.0,8451.05,8461.38,8481.24,8420.37,8450.0,8430.94,8275.02,8100.01,8122.56,8157.01,8166.25,8176.91,8213.79,8200.0,8207.48,8237.1,8370.0,8356.4,8145.1,8173.6,8211.8,8201.0,8250.9,8266.46,8252.72,8232.14,8268.37,8277.25,8277.25,8314.78,8314.77,8350.07,8331.39,8314.77,8275.45,8335.49,8191.14,8227.7,8264.13,8249.93,8269.52,8219.44,8262.68,8286.65,8289.87,8232.14,8232.14,8110.02,8154.95,8168.6,8151.0,7980.0,8005.95,7929.53,7931.03,7950.0,7980.58,7991.99,7992.75,7953.4,7965.67,8085.94,8078.48,8092.9,8049.22,8079.46,8062.12,8043.96,8063.1,8088.46,8094.43,8088.46,8191.14,8212.0,8224.5,8211.0,8211.01,8210.03,8158.27,8177.65,8179.41,8221.92,8217.32,8213.52,8141.08,8146.1,8186.03,8197.09],\"name\":\"Price\",\"open\":[8733.86,8740.99,8739.0,8728.49,8708.32,8795.9,8760.0,8760.0,8759.23,8517.77,8520.3,8535.23,8546.34,8526.65,8555.6,8512.1,8492.28,8460.0,8474.99,8455.92,8326.28,8133.43,8164.79,8229.38,8220.4,8238.8,8232.99,8207.48,8243.45,8371.13,8373.0,8365.08,8179.99,8225.0,8285.8,8273.4,8297.4,8279.89,8252.72,8302.18,8295.85,8277.25,8346.59,8358.3,8375.1,8368.62,8366.72,8314.77,8363.7,8344.16,8247.4,8277.4,8291.67,8307.89,8298.9,8269.47,8300.98,8318.49,8306.39,8276.43,8257.69,8166.0,8176.33,8200.7,8155.41,8080.0,8067.03,7958.08,7974.25,7998.5,7991.99,8022.7,8042.97,7965.67,8088.95,8122.19,8107.99,8137.73,8115.0,8107.0,8094.4,8080.01,8117.09,8126.99,8110.95,8215.39,8231.42,8240.13,8235.0,8219.9,8248.87,8213.5,8200.99,8200.0,8237.3,8228.13,8240.83,8214.9,8170.07,8229.87,8205.87],\"showlegend\":false,\"type\":\"candlestick\",\"uid\":\"01cfb1c8-0b02-4886-8b0a-96261fa2aa5c\",\"xaxis\":\"x\",\"yaxis\":\"y\"},{\"marker\":{\"color\":\"DodgerBlue\"},\"name\":\"Volume\",\"showlegend\":false,\"type\":\"bar\",\"uid\":\"2a7afce9-70fd-4d19-aed6-6facf6c7ebb6\",\"xaxis\":\"x2\",\"y\":[559.93,273.58,917.79,182.62,1260.69,324.11,324.2,730.67,1341.75,792.07,385.69,475.08,877.26,670.49,610.97,168.99,305.92,136.05,154.26,1070.93,1710.2,492.8,630.72,620.93,586.34,304.52,450.97,182.36,915.32,319.29,362.01,1046.38,357.91,561.2,322.53,1073.71,237.21,251.2,359.73,117.23,363.17,214.18,171.64,258.58,299.52,718.98,119.7,405.25,210.77,714.82,215.97,164.2,201.55,203.41,886.82,95.49,499.67,172.77,355.39,255.27,591.06,133.1,149.13,87.55,1061.54,286.94,524.42,316.0,441.43,189.7,844.94,155.34,257.56,610.69,217.97,173.18,218.06,372.97,484.39,248.1,162.35,303.42,290.69,160.93,369.4,487.27,93.35,96.68,72.14,90.22,168.52,203.15,71.42,464.56,57.0,89.42,49.47,200.05,254.37,65.05,118.19],\"yaxis\":\"y2\"},{\"mode\":\"lines\",\"name\":\"bitstamp:/USD-BTC\",\"type\":\"scatter\",\"uid\":\"aa25b938-fd39-4f85-817e-a103f1cfec50\",\"xaxis\":\"x3\",\"y\":[8740.99,8739.0,8728.49,8708.32,8795.9,8760.0,8760.0,8759.23,8517.77,8520.3,8535.23,8546.34,8526.65,8555.6,8512.1,8492.28,8460.0,8474.99,8455.92,8326.28,8133.43,8164.79,8229.38,8220.4,8238.8,8232.99,8207.48,8243.45,8371.13,8373.0,8365.08,8179.99,8225.0,8285.8,8273.4,8297.4,8279.89,8252.72,8302.18,8295.85,8277.25,8346.59,8358.3,8375.1,8368.62,8366.72,8314.77,8363.7,8344.16,8247.4,8277.4,8291.67,8307.89,8298.9,8269.47,8300.98,8318.49,8306.39,8276.43,8257.69,8166.0,8176.33,8200.7,8155.41,8080.0,8067.03,7958.08,7974.25,7998.5,7991.99,8022.7,8042.97,7965.67,8088.95,8122.19,8107.99,8137.73,8115.0,8107.0,8094.4,8080.01,8117.09,8126.99,8110.95,8215.39,8231.42,8240.13,8235.0,8219.9,8248.87,8213.5,8200.99,8200.0,8237.3,8228.13,8240.83,8214.9,8170.07,8229.87,8205.87,8252.56],\"yaxis\":\"y3\"},{\"mode\":\"lines\",\"name\":\"bitstamp:/USD:/free\",\"type\":\"scatter\",\"uid\":\"a0fc54b0-38cc-433f-9e09-2e99cd52dd35\",\"xaxis\":\"x3\",\"y\":[10000.0,10000.0,10000.0,10000.0,10000.0,10000.0,10000.0,10000.0,10000.0,4000.0,4000.0,4000.0,4000.0,4000.0,800.0,800.0,800.0,800.0,800.0,800.0,3895.57,9590.51,9590.51,9590.51,9590.51,9590.51,9590.51,9590.51,7672.41,7672.41,7672.41,7672.41,7672.41,7672.41,7672.41,7672.41,7672.41,7672.41,7672.41,7672.41,3836.21,3836.21,3836.21,3836.21,3836.21,3836.21,3836.21,3836.21,3836.21,3836.21,3836.21,3836.21,3836.21,0.0,0.0,0.0,0.0,0.0,0.0,0.0,0.0,0.0,0.0,0.0,0.0,0.0,0.0,7310.63,7310.63,7310.63,7310.63,7310.63,7310.63,7310.63,7310.63,7310.63,7310.63,7310.63,7310.63,7310.63,7310.63,7310.63,7310.63,7310.63,2924.25,7340.49,4404.29,4404.29,4404.29,4404.29,4404.29,4404.29,4404.29,4404.29,4404.29,4404.29,4404.29,4404.29,4404.29,4404.29,4404.29],\"yaxis\":\"y3\"},{\"mode\":\"lines\",\"name\":\"bitstamp:/USD:/locked\",\"type\":\"scatter\",\"uid\":\"2722bdc7-4f3f-44bf-abd7-c617032d27e5\",\"xaxis\":\"x3\",\"y\":[0.0,0.0,0.0,0.0,0.0,0.0,0.0,0.0,0.0,0.0,0.0,0.0,0.0,0.0,0.0,0.0,0.0,0.0,0.0,0.0,0.0,0.0,0.0,0.0,0.0,0.0,0.0,0.0,0.0,0.0,0.0,0.0,0.0,0.0,0.0,0.0,0.0,0.0,0.0,0.0,0.0,0.0,0.0,0.0,0.0,0.0,0.0,0.0,0.0,0.0,0.0,0.0,0.0,0.0,0.0,0.0,0.0,0.0,0.0,0.0,0.0,0.0,0.0,0.0,0.0,0.0,0.0,0.0,0.0,0.0,0.0,0.0,0.0,0.0,0.0,0.0,0.0,0.0,0.0,0.0,0.0,0.0,0.0,0.0,0.0,0.0,0.0,0.0,0.0,0.0,0.0,0.0,0.0,0.0,0.0,0.0,0.0,0.0,0.0,0.0,0.0],\"yaxis\":\"y3\"},{\"mode\":\"lines\",\"name\":\"bitstamp:/USD:/total\",\"type\":\"scatter\",\"uid\":\"50a887ba-dc1c-49e1-9919-2c6a5f1ce675\",\"xaxis\":\"x3\",\"y\":[10000.0,10000.0,10000.0,10000.0,10000.0,10000.0,10000.0,10000.0,10000.0,4000.0,4000.0,4000.0,4000.0,4000.0,800.0,800.0,800.0,800.0,800.0,800.0,3895.57,9590.51,9590.51,9590.51,9590.51,9590.51,9590.51,9590.51,7672.41,7672.41,7672.41,7672.41,7672.41,7672.41,7672.41,7672.41,7672.41,7672.41,7672.41,7672.41,3836.21,3836.21,3836.21,3836.21,3836.21,3836.21,3836.21,3836.21,3836.21,3836.21,3836.21,3836.21,3836.21,0.0,0.0,0.0,0.0,0.0,0.0,0.0,0.0,0.0,0.0,0.0,0.0,0.0,0.0,7310.63,7310.63,7310.63,7310.63,7310.63,7310.63,7310.63,7310.63,7310.63,7310.63,7310.63,7310.63,7310.63,7310.63,7310.63,7310.63,7310.63,2924.25,7340.49,4404.29,4404.29,4404.29,4404.29,4404.29,4404.29,4404.29,4404.29,4404.29,4404.29,4404.29,4404.29,4404.29,4404.29,4404.29],\"yaxis\":\"y3\"},{\"mode\":\"lines\",\"name\":\"bitstamp:/BTC:/free\",\"type\":\"scatter\",\"uid\":\"6a76eb19-21b7-4b89-a4c7-dd64c09913ed\",\"xaxis\":\"x3\",\"y\":[10.0,10.0,10.0,10.0,10.0,10.0,10.0,10.0,10.0,10.0,10.0,10.0,10.0,10.0,10.0,10.0,10.0,10.0,10.0,10.0,10.0,10.0,10.0,10.0,10.0,10.0,10.0,10.0,10.0,10.0,10.0,10.0,10.0,10.0,10.0,10.0,10.0,10.0,10.0,10.0,10.0,10.0,10.0,10.0,10.0,10.0,10.0,10.0,10.0,10.0,10.0,10.0,10.0,10.0,10.0,10.0,10.0,10.0,10.0,10.0,10.0,10.0,10.0,10.0,10.0,10.0,10.0,10.0,10.0,10.0,10.0,10.0,10.0,10.0,10.0,10.0,10.0,10.0,10.0,10.0,10.0,10.0,10.0,10.0,10.0,10.0,10.0,10.0,10.0,10.0,10.0,10.0,10.0,10.0,10.0,10.0,10.0,10.0,10.0,10.0,10.0],\"yaxis\":\"y3\"},{\"mode\":\"lines\",\"name\":\"bitstamp:/BTC:/locked\",\"type\":\"scatter\",\"uid\":\"5ab63988-9d48-4993-9003-f90c3460589b\",\"xaxis\":\"x3\",\"y\":[0.0,0.0,0.0,0.0,0.0,0.0,0.0,0.0,0.0,0.70229649,0.70229649,0.70229649,0.70229649,0.70229649,1.07519845,1.07519845,1.07519845,1.07519845,1.07519845,1.07519845,0.70229649,0.0,0.0,0.0,0.0,0.0,0.0,0.0,0.23198418,0.23198418,0.23198418,0.23198418,0.23198418,0.23198418,0.23198418,0.23198418,0.23198418,0.23198418,0.23198418,0.23198418,0.69302072,0.69302072,0.69302072,0.69302072,0.69302072,0.69302072,0.69302072,0.69302072,0.69302072,0.69302072,0.69302072,0.69302072,0.69302072,1.15339032,1.15339032,1.15339032,1.15339032,1.15339032,1.15339032,1.15339032,1.15339032,1.15339032,1.15339032,1.15339032,1.15339032,1.15339032,1.15339032,0.23198418,0.23198418,0.23198418,0.23198418,0.23198418,0.23198418,0.23198418,0.23198418,0.23198418,0.23198418,0.23198418,0.23198418,0.23198418,0.23198418,0.23198418,0.23198418,0.23198418,0.771159,0.23198418,0.58762027,0.58762027,0.58762027,0.58762027,0.58762027,0.58762027,0.58762027,0.58762027,0.58762027,0.58762027,0.58762027,0.58762027,0.58762027,0.58762027,0.58762027],\"yaxis\":\"y3\"},{\"mode\":\"lines\",\"name\":\"bitstamp:/BTC:/total\",\"type\":\"scatter\",\"uid\":\"0711e7d8-cb3d-4ac5-a15a-06b73d5fd047\",\"xaxis\":\"x3\",\"y\":[10.0,10.0,10.0,10.0,10.0,10.0,10.0,10.0,10.0,10.70229649,10.70229649,10.70229649,10.70229649,10.70229649,11.07519845,11.07519845,11.07519845,11.07519845,11.07519845,11.07519845,10.70229649,10.0,10.0,10.0,10.0,10.0,10.0,10.0,10.23198418,10.23198418,10.23198418,10.23198418,10.23198418,10.23198418,10.23198418,10.23198418,10.23198418,10.23198418,10.23198418,10.23198418,10.69302072,10.69302072,10.69302072,10.69302072,10.69302072,10.69302072,10.69302072,10.69302072,10.69302072,10.69302072,10.69302072,10.69302072,10.69302072,11.15339032,11.15339032,11.15339032,11.15339032,11.15339032,11.15339032,11.15339032,11.15339032,11.15339032,11.15339032,11.15339032,11.15339032,11.15339032,11.15339032,10.23198418,10.23198418,10.23198418,10.23198418,10.23198418,10.23198418,10.23198418,10.23198418,10.23198418,10.23198418,10.23198418,10.23198418,10.23198418,10.23198418,10.23198418,10.23198418,10.23198418,10.771159,10.23198418,10.58762027,10.58762027,10.58762027,10.58762027,10.58762027,10.58762027,10.58762027,10.58762027,10.58762027,10.58762027,10.58762027,10.58762027,10.58762027,10.58762027,10.58762027],\"yaxis\":\"y3\"},{\"mode\":\"lines\",\"name\":\"bitstamp:/BTC:/worth\",\"type\":\"scatter\",\"uid\":\"1becf59d-1ba7-4f9d-bc78-fb6131df7711\",\"xaxis\":\"x3\",\"y\":[87409.9,87390.0,87284.9,87083.2,87959.0,87600.0,87600.0,87592.29999999999,85177.70000000001,91186.77678374699,91346.5620703427,91465.4645843466,91254.7363664585,91564.56784984401,94273.196726245,94053.68629296601,93696.178887,93862.1961117655,93650.992077324,92215.203350266,87046.3793406607,81647.9,82293.79999999999,82204.0,82388.0,82329.9,82074.79999999999,82434.5,85653.26972872339,85672.40353914,85591.3662244344,83697.5282725582,84158.0698805,84780.174518644,84653.29791481199,84898.86553513199,84719.7034921402,84441.70048196959,84947.7744195124,84883.005959653,88508.80575462,89250.2598113448,89375.475083976,89555.117832072,89485.82705780641,89465.51031843839,88910.00789203441,89433.217395864,89224.2757709952,88189.61908612799,88510.40970772799,88662.9991134024,88836.43990948079,92560.870926648,92232.62664953039,92584.0699785136,92779.3658430168,92644.40982014479,92310.2542461576,92101.2397115608,91078.58535312,91193.7998751256,91465.60799722401,90960.4709496312,90119.3937856,89974.7343131496,88759.5724377856,81592.399847365,81840.52546373,81773.9152467182,82088.13948088599,82295.5418002146,81504.6094231006,82766.008432811,83106.1195869542,82960.8254115982,83265.12462111139,83032.55162069999,82950.69574725999,82821.77274659199,82674.5344942418,83053.9364676362,83155.2331110182,82991.112084771,88489.27193701,84223.7592189356,87243.36741543509,87189.05292345,87029.179857373,87335.90321659492,86961.419087645,86828.9679580673,86818.486214,87213.404450071,87116.3159721951,87250.7787496241,86976.241756023,86501.5987393189,87134.73843146491,86880.6355449849,87374.9715353912],\"yaxis\":\"y3\"},{\"mode\":\"lines\",\"name\":\"net_worth\",\"type\":\"scatter\",\"uid\":\"10a610f8-6895-40c9-9719-263d90a858e5\",\"xaxis\":\"x3\",\"y\":[97409.9,97390.0,97284.9,97083.2,97959.0,97600.0,97600.0,97592.29999999999,95177.70000000001,95186.77678374699,95346.5620703427,95465.4645843466,95254.7363664585,95564.56784984401,95073.196726245,94853.68629296601,94496.178887,94662.1961117655,94450.992077324,93015.203350266,90941.9493406607,91238.40999999999,91884.30999999998,91794.51,91978.51,91920.40999999999,91665.30999999998,92025.01,93325.6797287234,93344.81353914,93263.7762244344,91369.9382725582,91830.4798805,92452.584518644,92325.707914812,92571.275535132,92392.1134921402,92114.11048196959,92620.1844195124,92555.41595965301,92345.01575462,93086.46981134481,93211.685083976,93391.32783207201,93322.03705780642,93301.7203184384,92746.21789203442,93269.42739586401,93060.4857709952,92025.829086128,92346.619707728,92499.20911340241,92672.6499094808,92560.870926648,92232.62664953039,92584.0699785136,92779.3658430168,92644.40982014479,92310.2542461576,92101.2397115608,91078.58535312,91193.7998751256,91465.60799722401,90960.4709496312,90119.3937856,89974.7343131496,88759.5724377856,88903.029847365,89151.15546373,89084.5452467182,89398.769480886,89606.17180021461,88815.2394231006,90076.638432811,90416.7495869542,90271.4554115982,90575.7546211114,90343.1816207,90261.32574726,90132.402746592,89985.1644942418,90364.5664676362,90465.8631110182,90301.742084771,91413.52193701,91564.2492189356,91647.65741543508,91593.34292344999,91433.469857373,91740.19321659491,91365.709087645,91233.25795806729,91222.776214,91617.694450071,91520.60597219509,91655.0687496241,91380.53175602299,90905.88873931889,91539.0284314649,91284.9255449849,91779.2615353912],\"yaxis\":\"y3\"},{\"marker\":{\"color\":\"DarkGreen\"},\"mode\":\"lines\",\"name\":\"Net Worth\",\"type\":\"scatter\",\"uid\":\"2828561d-d4ab-4f23-a15e-030b3891fe09\",\"xaxis\":\"x4\",\"y\":[97409.9,97390.0,97284.9,97083.2,97959.0,97600.0,97600.0,97592.29999999999,95177.70000000001,95186.77678374699,95346.5620703427,95465.4645843466,95254.7363664585,95564.56784984401,95073.196726245,94853.68629296601,94496.178887,94662.1961117655,94450.992077324,93015.203350266,90941.9493406607,91238.40999999999,91884.30999999998,91794.51,91978.51,91920.40999999999,91665.30999999998,92025.01,93325.6797287234,93344.81353914,93263.7762244344,91369.9382725582,91830.4798805,92452.584518644,92325.707914812,92571.275535132,92392.1134921402,92114.11048196959,92620.1844195124,92555.41595965301,92345.01575462,93086.46981134481,93211.685083976,93391.32783207201,93322.03705780642,93301.7203184384,92746.21789203442,93269.42739586401,93060.4857709952,92025.829086128,92346.619707728,92499.20911340241,92672.6499094808,92560.870926648,92232.62664953039,92584.0699785136,92779.3658430168,92644.40982014479,92310.2542461576,92101.2397115608,91078.58535312,91193.7998751256,91465.60799722401,90960.4709496312,90119.3937856,89974.7343131496,88759.5724377856,88903.029847365,89151.15546373,89084.5452467182,89398.769480886,89606.17180021461,88815.2394231006,90076.638432811,90416.7495869542,90271.4554115982,90575.7546211114,90343.1816207,90261.32574726,90132.402746592,89985.1644942418,90364.5664676362,90465.8631110182,90301.742084771,91413.52193701,91564.2492189356,91647.65741543508,91593.34292344999,91433.469857373,91740.19321659491,91365.709087645,91233.25795806729,91222.776214,91617.694450071,91520.60597219509,91655.0687496241,91380.53175602299,90905.88873931889,91539.0284314649,91284.9255449849,91779.2615353912],\"yaxis\":\"y4\"}],                        {\"annotations\":[{\"arrowcolor\":\"DarkGreen\",\"arrowhead\":2,\"arrowsize\":0.8,\"arrowwidth\":4,\"ax\":0,\"ay\":15,\"hoverlabel\":{\"bgcolor\":\"DarkGreen\"},\"hovertext\":\"Step 40 [2018-05-16 21:00:00]<br>BUY 0.46103654 BTC @ 8295.85 USD MARKET<br>Total: 3824.69 USD - Comm.: 11.51 USD\",\"opacity\":0.6,\"showarrow\":true,\"x\":39,\"xref\":\"x\",\"y\":8295.85,\"yref\":\"y\"},{\"arrowcolor\":\"DarkGreen\",\"arrowhead\":2,\"arrowsize\":0.8,\"arrowwidth\":4,\"ax\":0,\"ay\":15,\"hoverlabel\":{\"bgcolor\":\"DarkGreen\"},\"hovertext\":\"Step 28 [2018-05-16 09:00:00]<br>BUY 0.23198418 BTC @ 8243.45 USD MARKET<br>Total: 1912.35 USD - Comm.: 5.75 USD\",\"opacity\":0.6,\"showarrow\":true,\"x\":27,\"xref\":\"x\",\"y\":8243.45,\"yref\":\"y\"},{\"arrowcolor\":\"FireBrick\",\"arrowhead\":2,\"arrowsize\":0.8,\"arrowwidth\":4,\"ax\":0,\"ay\":-15,\"hoverlabel\":{\"bgcolor\":\"FireBrick\"},\"hovertext\":\"Step 21 [2018-05-16 02:00:00]<br>SELL 0.7001896 BTC @ 8133.43 USD MARKET<br>Total: 5694.94 USD - Comm.: 0.00210689 BTC\",\"opacity\":0.6,\"showarrow\":true,\"x\":20,\"xref\":\"x\",\"y\":8133.43,\"yref\":\"y\"},{\"arrowcolor\":\"FireBrick\",\"arrowhead\":2,\"arrowsize\":0.8,\"arrowwidth\":4,\"ax\":0,\"ay\":-15,\"hoverlabel\":{\"bgcolor\":\"FireBrick\"},\"hovertext\":\"Step 20 [2018-05-16 01:00:00]<br>SELL 0.37178325 BTC @ 8326.28 USD MARKET<br>Total: 3095.57 USD - Comm.: 0.00111871 BTC\",\"opacity\":0.6,\"showarrow\":true,\"x\":19,\"xref\":\"x\",\"y\":8326.28,\"yref\":\"y\"},{\"arrowcolor\":\"DarkGreen\",\"arrowhead\":2,\"arrowsize\":0.8,\"arrowwidth\":4,\"ax\":0,\"ay\":15,\"hoverlabel\":{\"bgcolor\":\"DarkGreen\"},\"hovertext\":\"Step 14 [2018-05-15 19:00:00]<br>BUY 0.37290196 BTC @ 8555.6 USD MARKET<br>Total: 3190.4 USD - Comm.: 9.60 USD\",\"opacity\":0.6,\"showarrow\":true,\"x\":13,\"xref\":\"x\",\"y\":8555.6,\"yref\":\"y\"},{\"arrowcolor\":\"DarkGreen\",\"arrowhead\":2,\"arrowsize\":0.8,\"arrowwidth\":4,\"ax\":0,\"ay\":15,\"hoverlabel\":{\"bgcolor\":\"DarkGreen\"},\"hovertext\":\"Step 9 [2018-05-15 14:00:00]<br>BUY 0.70229649 BTC @ 8517.77 USD MARKET<br>Total: 5982.0 USD - Comm.: 18.00 USD\",\"opacity\":0.6,\"showarrow\":true,\"x\":8,\"xref\":\"x\",\"y\":8517.77,\"yref\":\"y\"},{\"arrowcolor\":\"DarkGreen\",\"arrowhead\":2,\"arrowsize\":0.8,\"arrowwidth\":4,\"ax\":0,\"ay\":15,\"hoverlabel\":{\"bgcolor\":\"DarkGreen\"},\"hovertext\":\"Step 86 [2018-05-18 19:00:00]<br>BUY 0.35563609 BTC @ 8231.42 USD MARKET<br>Total: 2927.39 USD - Comm.: 8.81 USD\",\"opacity\":0.6,\"showarrow\":true,\"x\":85,\"xref\":\"x\",\"y\":8231.42,\"yref\":\"y\"},{\"arrowcolor\":\"FireBrick\",\"arrowhead\":2,\"arrowsize\":0.8,\"arrowwidth\":4,\"ax\":0,\"ay\":-15,\"hoverlabel\":{\"bgcolor\":\"FireBrick\"},\"hovertext\":\"Step 85 [2018-05-18 18:00:00]<br>SELL 0.5375573 BTC @ 8215.39 USD MARKET<br>Total: 4416.24 USD - Comm.: 0.00161752 BTC\",\"opacity\":0.6,\"showarrow\":true,\"x\":84,\"xref\":\"x\",\"y\":8215.39,\"yref\":\"y\"},{\"arrowcolor\":\"DarkGreen\",\"arrowhead\":2,\"arrowsize\":0.8,\"arrowwidth\":4,\"ax\":0,\"ay\":15,\"hoverlabel\":{\"bgcolor\":\"DarkGreen\"},\"hovertext\":\"Step 84 [2018-05-18 17:00:00]<br>BUY 0.53917482 BTC @ 8110.95 USD MARKET<br>Total: 4373.22 USD - Comm.: 13.16 USD\",\"opacity\":0.6,\"showarrow\":true,\"x\":83,\"xref\":\"x\",\"y\":8110.95,\"yref\":\"y\"},{\"arrowcolor\":\"FireBrick\",\"arrowhead\":2,\"arrowsize\":0.8,\"arrowwidth\":4,\"ax\":0,\"ay\":-15,\"hoverlabel\":{\"bgcolor\":\"FireBrick\"},\"hovertext\":\"Step 67 [2018-05-18 00:00:00]<br>SELL 0.45898849 BTC @ 7958.08 USD MARKET<br>Total: 3652.67 USD - Comm.: 0.00138111 BTC\",\"opacity\":0.6,\"showarrow\":true,\"x\":66,\"xref\":\"x\",\"y\":7958.08,\"yref\":\"y\"},{\"arrowcolor\":\"FireBrick\",\"arrowhead\":2,\"arrowsize\":0.8,\"arrowwidth\":4,\"ax\":0,\"ay\":-15,\"hoverlabel\":{\"bgcolor\":\"FireBrick\"},\"hovertext\":\"Step 67 [2018-05-18 00:00:00]<br>SELL 0.45965343 BTC @ 7958.08 USD MARKET<br>Total: 3657.96 USD - Comm.: 0.00138311 BTC\",\"opacity\":0.6,\"showarrow\":true,\"x\":66,\"xref\":\"x\",\"y\":7958.08,\"yref\":\"y\"},{\"arrowcolor\":\"DarkGreen\",\"arrowhead\":2,\"arrowsize\":0.8,\"arrowwidth\":4,\"ax\":0,\"ay\":15,\"hoverlabel\":{\"bgcolor\":\"DarkGreen\"},\"hovertext\":\"Step 53 [2018-05-17 10:00:00]<br>BUY 0.4603696 BTC @ 8307.89 USD MARKET<br>Total: 3824.7 USD - Comm.: 11.51 USD\",\"opacity\":0.6,\"showarrow\":true,\"x\":52,\"xref\":\"x\",\"y\":8307.89,\"yref\":\"y\"}],\"margin\":{\"t\":50},\"template\":{\"data\":{\"bar\":[{\"error_x\":{\"color\":\"#2a3f5f\"},\"error_y\":{\"color\":\"#2a3f5f\"},\"marker\":{\"line\":{\"color\":\"white\",\"width\":0.5},\"pattern\":{\"fillmode\":\"overlay\",\"size\":10,\"solidity\":0.2}},\"type\":\"bar\"}],\"barpolar\":[{\"marker\":{\"line\":{\"color\":\"white\",\"width\":0.5},\"pattern\":{\"fillmode\":\"overlay\",\"size\":10,\"solidity\":0.2}},\"type\":\"barpolar\"}],\"carpet\":[{\"aaxis\":{\"endlinecolor\":\"#2a3f5f\",\"gridcolor\":\"#C8D4E3\",\"linecolor\":\"#C8D4E3\",\"minorgridcolor\":\"#C8D4E3\",\"startlinecolor\":\"#2a3f5f\"},\"baxis\":{\"endlinecolor\":\"#2a3f5f\",\"gridcolor\":\"#C8D4E3\",\"linecolor\":\"#C8D4E3\",\"minorgridcolor\":\"#C8D4E3\",\"startlinecolor\":\"#2a3f5f\"},\"type\":\"carpet\"}],\"choropleth\":[{\"colorbar\":{\"outlinewidth\":0,\"ticks\":\"\"},\"type\":\"choropleth\"}],\"contour\":[{\"colorbar\":{\"outlinewidth\":0,\"ticks\":\"\"},\"colorscale\":[[0.0,\"#0d0887\"],[0.1111111111111111,\"#46039f\"],[0.2222222222222222,\"#7201a8\"],[0.3333333333333333,\"#9c179e\"],[0.4444444444444444,\"#bd3786\"],[0.5555555555555556,\"#d8576b\"],[0.6666666666666666,\"#ed7953\"],[0.7777777777777778,\"#fb9f3a\"],[0.8888888888888888,\"#fdca26\"],[1.0,\"#f0f921\"]],\"type\":\"contour\"}],\"contourcarpet\":[{\"colorbar\":{\"outlinewidth\":0,\"ticks\":\"\"},\"type\":\"contourcarpet\"}],\"heatmap\":[{\"colorbar\":{\"outlinewidth\":0,\"ticks\":\"\"},\"colorscale\":[[0.0,\"#0d0887\"],[0.1111111111111111,\"#46039f\"],[0.2222222222222222,\"#7201a8\"],[0.3333333333333333,\"#9c179e\"],[0.4444444444444444,\"#bd3786\"],[0.5555555555555556,\"#d8576b\"],[0.6666666666666666,\"#ed7953\"],[0.7777777777777778,\"#fb9f3a\"],[0.8888888888888888,\"#fdca26\"],[1.0,\"#f0f921\"]],\"type\":\"heatmap\"}],\"heatmapgl\":[{\"colorbar\":{\"outlinewidth\":0,\"ticks\":\"\"},\"colorscale\":[[0.0,\"#0d0887\"],[0.1111111111111111,\"#46039f\"],[0.2222222222222222,\"#7201a8\"],[0.3333333333333333,\"#9c179e\"],[0.4444444444444444,\"#bd3786\"],[0.5555555555555556,\"#d8576b\"],[0.6666666666666666,\"#ed7953\"],[0.7777777777777778,\"#fb9f3a\"],[0.8888888888888888,\"#fdca26\"],[1.0,\"#f0f921\"]],\"type\":\"heatmapgl\"}],\"histogram\":[{\"marker\":{\"pattern\":{\"fillmode\":\"overlay\",\"size\":10,\"solidity\":0.2}},\"type\":\"histogram\"}],\"histogram2d\":[{\"colorbar\":{\"outlinewidth\":0,\"ticks\":\"\"},\"colorscale\":[[0.0,\"#0d0887\"],[0.1111111111111111,\"#46039f\"],[0.2222222222222222,\"#7201a8\"],[0.3333333333333333,\"#9c179e\"],[0.4444444444444444,\"#bd3786\"],[0.5555555555555556,\"#d8576b\"],[0.6666666666666666,\"#ed7953\"],[0.7777777777777778,\"#fb9f3a\"],[0.8888888888888888,\"#fdca26\"],[1.0,\"#f0f921\"]],\"type\":\"histogram2d\"}],\"histogram2dcontour\":[{\"colorbar\":{\"outlinewidth\":0,\"ticks\":\"\"},\"colorscale\":[[0.0,\"#0d0887\"],[0.1111111111111111,\"#46039f\"],[0.2222222222222222,\"#7201a8\"],[0.3333333333333333,\"#9c179e\"],[0.4444444444444444,\"#bd3786\"],[0.5555555555555556,\"#d8576b\"],[0.6666666666666666,\"#ed7953\"],[0.7777777777777778,\"#fb9f3a\"],[0.8888888888888888,\"#fdca26\"],[1.0,\"#f0f921\"]],\"type\":\"histogram2dcontour\"}],\"mesh3d\":[{\"colorbar\":{\"outlinewidth\":0,\"ticks\":\"\"},\"type\":\"mesh3d\"}],\"parcoords\":[{\"line\":{\"colorbar\":{\"outlinewidth\":0,\"ticks\":\"\"}},\"type\":\"parcoords\"}],\"pie\":[{\"automargin\":true,\"type\":\"pie\"}],\"scatter\":[{\"marker\":{\"colorbar\":{\"outlinewidth\":0,\"ticks\":\"\"}},\"type\":\"scatter\"}],\"scatter3d\":[{\"line\":{\"colorbar\":{\"outlinewidth\":0,\"ticks\":\"\"}},\"marker\":{\"colorbar\":{\"outlinewidth\":0,\"ticks\":\"\"}},\"type\":\"scatter3d\"}],\"scattercarpet\":[{\"marker\":{\"colorbar\":{\"outlinewidth\":0,\"ticks\":\"\"}},\"type\":\"scattercarpet\"}],\"scattergeo\":[{\"marker\":{\"colorbar\":{\"outlinewidth\":0,\"ticks\":\"\"}},\"type\":\"scattergeo\"}],\"scattergl\":[{\"marker\":{\"colorbar\":{\"outlinewidth\":0,\"ticks\":\"\"}},\"type\":\"scattergl\"}],\"scattermapbox\":[{\"marker\":{\"colorbar\":{\"outlinewidth\":0,\"ticks\":\"\"}},\"type\":\"scattermapbox\"}],\"scatterpolar\":[{\"marker\":{\"colorbar\":{\"outlinewidth\":0,\"ticks\":\"\"}},\"type\":\"scatterpolar\"}],\"scatterpolargl\":[{\"marker\":{\"colorbar\":{\"outlinewidth\":0,\"ticks\":\"\"}},\"type\":\"scatterpolargl\"}],\"scatterternary\":[{\"marker\":{\"colorbar\":{\"outlinewidth\":0,\"ticks\":\"\"}},\"type\":\"scatterternary\"}],\"surface\":[{\"colorbar\":{\"outlinewidth\":0,\"ticks\":\"\"},\"colorscale\":[[0.0,\"#0d0887\"],[0.1111111111111111,\"#46039f\"],[0.2222222222222222,\"#7201a8\"],[0.3333333333333333,\"#9c179e\"],[0.4444444444444444,\"#bd3786\"],[0.5555555555555556,\"#d8576b\"],[0.6666666666666666,\"#ed7953\"],[0.7777777777777778,\"#fb9f3a\"],[0.8888888888888888,\"#fdca26\"],[1.0,\"#f0f921\"]],\"type\":\"surface\"}],\"table\":[{\"cells\":{\"fill\":{\"color\":\"#EBF0F8\"},\"line\":{\"color\":\"white\"}},\"header\":{\"fill\":{\"color\":\"#C8D4E3\"},\"line\":{\"color\":\"white\"}},\"type\":\"table\"}]},\"layout\":{\"annotationdefaults\":{\"arrowcolor\":\"#2a3f5f\",\"arrowhead\":0,\"arrowwidth\":1},\"autotypenumbers\":\"strict\",\"coloraxis\":{\"colorbar\":{\"outlinewidth\":0,\"ticks\":\"\"}},\"colorscale\":{\"diverging\":[[0,\"#8e0152\"],[0.1,\"#c51b7d\"],[0.2,\"#de77ae\"],[0.3,\"#f1b6da\"],[0.4,\"#fde0ef\"],[0.5,\"#f7f7f7\"],[0.6,\"#e6f5d0\"],[0.7,\"#b8e186\"],[0.8,\"#7fbc41\"],[0.9,\"#4d9221\"],[1,\"#276419\"]],\"sequential\":[[0.0,\"#0d0887\"],[0.1111111111111111,\"#46039f\"],[0.2222222222222222,\"#7201a8\"],[0.3333333333333333,\"#9c179e\"],[0.4444444444444444,\"#bd3786\"],[0.5555555555555556,\"#d8576b\"],[0.6666666666666666,\"#ed7953\"],[0.7777777777777778,\"#fb9f3a\"],[0.8888888888888888,\"#fdca26\"],[1.0,\"#f0f921\"]],\"sequentialminus\":[[0.0,\"#0d0887\"],[0.1111111111111111,\"#46039f\"],[0.2222222222222222,\"#7201a8\"],[0.3333333333333333,\"#9c179e\"],[0.4444444444444444,\"#bd3786\"],[0.5555555555555556,\"#d8576b\"],[0.6666666666666666,\"#ed7953\"],[0.7777777777777778,\"#fb9f3a\"],[0.8888888888888888,\"#fdca26\"],[1.0,\"#f0f921\"]]},\"colorway\":[\"#636efa\",\"#EF553B\",\"#00cc96\",\"#ab63fa\",\"#FFA15A\",\"#19d3f3\",\"#FF6692\",\"#B6E880\",\"#FF97FF\",\"#FECB52\"],\"font\":{\"color\":\"#2a3f5f\"},\"geo\":{\"bgcolor\":\"white\",\"lakecolor\":\"white\",\"landcolor\":\"white\",\"showlakes\":true,\"showland\":true,\"subunitcolor\":\"#C8D4E3\"},\"hoverlabel\":{\"align\":\"left\"},\"hovermode\":\"closest\",\"mapbox\":{\"style\":\"light\"},\"paper_bgcolor\":\"white\",\"plot_bgcolor\":\"white\",\"polar\":{\"angularaxis\":{\"gridcolor\":\"#EBF0F8\",\"linecolor\":\"#EBF0F8\",\"ticks\":\"\"},\"bgcolor\":\"white\",\"radialaxis\":{\"gridcolor\":\"#EBF0F8\",\"linecolor\":\"#EBF0F8\",\"ticks\":\"\"}},\"scene\":{\"xaxis\":{\"backgroundcolor\":\"white\",\"gridcolor\":\"#DFE8F3\",\"gridwidth\":2,\"linecolor\":\"#EBF0F8\",\"showbackground\":true,\"ticks\":\"\",\"zerolinecolor\":\"#EBF0F8\"},\"yaxis\":{\"backgroundcolor\":\"white\",\"gridcolor\":\"#DFE8F3\",\"gridwidth\":2,\"linecolor\":\"#EBF0F8\",\"showbackground\":true,\"ticks\":\"\",\"zerolinecolor\":\"#EBF0F8\"},\"zaxis\":{\"backgroundcolor\":\"white\",\"gridcolor\":\"#DFE8F3\",\"gridwidth\":2,\"linecolor\":\"#EBF0F8\",\"showbackground\":true,\"ticks\":\"\",\"zerolinecolor\":\"#EBF0F8\"}},\"shapedefaults\":{\"line\":{\"color\":\"#2a3f5f\"}},\"ternary\":{\"aaxis\":{\"gridcolor\":\"#DFE8F3\",\"linecolor\":\"#A2B1C6\",\"ticks\":\"\"},\"baxis\":{\"gridcolor\":\"#DFE8F3\",\"linecolor\":\"#A2B1C6\",\"ticks\":\"\"},\"bgcolor\":\"white\",\"caxis\":{\"gridcolor\":\"#DFE8F3\",\"linecolor\":\"#A2B1C6\",\"ticks\":\"\"}},\"title\":{\"x\":0.05},\"xaxis\":{\"automargin\":true,\"gridcolor\":\"#EBF0F8\",\"linecolor\":\"#EBF0F8\",\"ticks\":\"\",\"title\":{\"standoff\":15},\"zerolinecolor\":\"#EBF0F8\",\"zerolinewidth\":2},\"yaxis\":{\"automargin\":true,\"gridcolor\":\"#EBF0F8\",\"linecolor\":\"#EBF0F8\",\"ticks\":\"\",\"title\":{\"standoff\":15},\"zerolinecolor\":\"#EBF0F8\",\"zerolinewidth\":2}}},\"title\":{\"text\":\"[2021-09-05 08:50:09 AM] Episode: 2/2 Step: 101/200\"},\"xaxis\":{\"anchor\":\"y\",\"domain\":[0.0,1.0],\"gridcolor\":\"Gainsboro\",\"linecolor\":\"Grey\",\"matches\":\"x4\",\"rangeslider\":{\"visible\":false},\"showticklabels\":false,\"title\":{\"font\":{\"size\":12},\"standoff\":7,\"text\":\"Price\"}},\"xaxis2\":{\"anchor\":\"y2\",\"domain\":[0.0,1.0],\"gridcolor\":\"Gainsboro\",\"linecolor\":\"Grey\",\"matches\":\"x4\",\"showticklabels\":false,\"title\":{\"font\":{\"size\":12},\"standoff\":7,\"text\":\"Volume\"}},\"xaxis3\":{\"anchor\":\"y3\",\"domain\":[0.0,1.0],\"gridcolor\":\"Gainsboro\",\"linecolor\":\"Grey\",\"matches\":\"x4\",\"showticklabels\":false,\"title\":{\"font\":{\"size\":12},\"standoff\":7,\"text\":\"Performance\"}},\"xaxis4\":{\"anchor\":\"y4\",\"domain\":[0.0,1.0],\"gridcolor\":\"Gainsboro\",\"linecolor\":\"Grey\",\"title\":{\"font\":{\"size\":12},\"standoff\":7,\"text\":\"Net Worth\"}},\"yaxis\":{\"anchor\":\"x\",\"domain\":[0.49950000000000006,1.0],\"gridcolor\":\"Gainsboro\",\"linecolor\":\"Grey\"},\"yaxis2\":{\"anchor\":\"x2\",\"domain\":[0.333,0.46950000000000003],\"gridcolor\":\"Gainsboro\",\"linecolor\":\"Grey\"},\"yaxis3\":{\"anchor\":\"x3\",\"domain\":[0.1665,0.30300000000000005],\"gridcolor\":\"Gainsboro\",\"linecolor\":\"Grey\"},\"yaxis4\":{\"anchor\":\"x4\",\"domain\":[0.0,0.1365],\"gridcolor\":\"Gainsboro\",\"linecolor\":\"Grey\"}},                        {\"responsive\": true}                    ).then(function(){\n",
       "                            \n",
       "var gd = document.getElementById('1210b40e-ca79-4e2d-a1ec-6d7c902099e2');\n",
       "var x = new MutationObserver(function (mutations, observer) {{\n",
       "        var display = window.getComputedStyle(gd).display;\n",
       "        if (!display || display === 'none') {{\n",
       "            console.log([gd, 'removed!']);\n",
       "            Plotly.purge(gd);\n",
       "            observer.disconnect();\n",
       "        }}\n",
       "}});\n",
       "\n",
       "// Listen for the removal of the full notebook cells\n",
       "var notebookContainer = gd.closest('#notebook-container');\n",
       "if (notebookContainer) {{\n",
       "    x.observe(notebookContainer, {childList: true});\n",
       "}}\n",
       "\n",
       "// Listen for the clearing of the current output cell\n",
       "var outputEl = gd.closest('.output');\n",
       "if (outputEl) {{\n",
       "    x.observe(outputEl, {childList: true});\n",
       "}}\n",
       "\n",
       "                        })                };                            </script>        </div>\n",
       "</body>\n",
       "</html>"
      ]
     },
     "metadata": {},
     "output_type": "display_data"
    },
    {
     "data": {
      "application/vnd.jupyter.widget-view+json": {
       "model_id": "9bcf0bbf1c1c49859a2dfa40acce1038",
       "version_major": 2,
       "version_minor": 0
      },
      "text/plain": [
       "FigureWidget({\n",
       "    'data': [{'close': array([8740.99, 8739.  , 8728.49, 8708.32, 8795.9 , 8760.  , 8760.  , 87…"
      ]
     },
     "metadata": {},
     "output_type": "display_data"
    },
    {
     "data": {
      "text/html": [
       "<html>\n",
       "<head><meta charset=\"utf-8\" /></head>\n",
       "<body>\n",
       "    <div>            <script src=\"https://cdnjs.cloudflare.com/ajax/libs/mathjax/2.7.5/MathJax.js?config=TeX-AMS-MML_SVG\"></script><script type=\"text/javascript\">if (window.MathJax) {MathJax.Hub.Config({SVG: {font: \"STIX-Web\"}});}</script>                <script type=\"text/javascript\">window.PlotlyConfig = {MathJaxConfig: 'local'};</script>\n",
       "        <script src=\"https://cdn.plot.ly/plotly-2.4.2.min.js\"></script>                <div id=\"7863188b-39b9-413d-89ef-e351c7472099\" class=\"plotly-graph-div\" style=\"height:525px; width:100%;\"></div>            <script type=\"text/javascript\">                                    window.PLOTLYENV=window.PLOTLYENV || {};                                    if (document.getElementById(\"7863188b-39b9-413d-89ef-e351c7472099\")) {                    Plotly.newPlot(                        \"7863188b-39b9-413d-89ef-e351c7472099\",                        [{\"close\":[8740.99,8739.0,8728.49,8708.32,8795.9,8760.0,8760.0,8759.23,8517.77,8520.3,8535.23,8546.34,8526.65,8555.6,8512.1,8492.28,8460.0,8474.99,8455.92,8326.28,8133.43,8164.79,8229.38,8220.4,8238.8,8232.99,8207.48,8243.45,8371.13,8373.0,8365.08,8179.99,8225.0,8285.8,8273.4,8297.4,8279.89,8252.72,8302.18,8295.85,8277.25,8346.59,8358.3,8375.1,8368.62,8366.72,8314.77,8363.7,8344.16,8247.4,8277.4,8291.67,8307.89,8298.9,8269.47,8300.98,8318.49,8306.39,8276.43,8257.69,8166.0,8176.33,8200.7,8155.41,8080.0,8067.03,7958.08,7974.25,7998.5,7991.99,8022.7,8042.97,7965.67,8088.95,8122.19,8107.99,8137.73,8115.0,8107.0,8094.4,8080.01,8117.09,8126.99,8110.95,8215.39,8231.42,8240.13,8235.0,8219.9,8248.87,8213.5,8200.99,8200.0,8237.3,8228.13,8240.83,8214.9,8170.07,8229.87,8205.87,8252.56,8365.0,8348.65,8303.99,8310.48,8310.0,8289.87,8304.99,8301.35,8313.12,8240.07,8199.99,8226.98,8231.2,8198.89,8215.85,8279.99,8255.08,8270.4,8244.24,8239.12,8267.14,8282.27,8350.62,8336.6,8336.91,8311.21,8312.09,8345.19,8377.2,8481.11,8516.36,8524.0,8517.04,8558.5,8521.99,8484.93,8518.48,8488.99,8466.72,8492.55,8494.28,8510.95,8498.64,8551.1,8524.22,8510.11,8475.62,8476.58,8467.13,8499.84],\"high\":[8796.68,8766.0,8750.27,8754.4,8865.0,8821.19,8798.6,8771.02,8761.7,8553.67,8589.1,8579.48,8555.51,8583.6,8569.92,8555.54,8557.51,8505.0,8505.33,8478.29,8339.81,8217.44,8252.72,8248.63,8267.12,8255.0,8261.24,8263.93,8455.66,8439.44,8399.1,8381.73,8229.91,8377.29,8329.1,8350.0,8346.95,8377.29,8311.35,8319.96,8398.24,8372.58,8399.99,8386.53,8400.0,8500.0,8381.0,8371.3,8382.41,8351.0,8292.99,8325.8,8318.99,8324.9,8335.56,8309.4,8377.29,8330.41,8328.23,8284.36,8274.83,8200.0,8232.14,8213.97,8155.41,8108.28,8068.92,8019.9,8026.66,8025.0,8104.69,8061.39,8045.99,8170.71,8144.16,8139.99,8152.99,8137.73,8143.72,8129.99,8106.76,8139.0,8152.04,8146.99,8232.14,8275.1,8256.12,8274.1,8255.8,8253.97,8261.09,8235.76,8227.0,8273.36,8264.21,8250.0,8250.86,8235.77,8232.12,8232.14,8252.72,8370.0,8395.0,8374.48,8331.0,8319.43,8323.4,8314.55,8330.62,8314.8,8323.99,8263.03,8247.78,8253.75,8237.89,8235.0,8279.99,8290.0,8278.71,8275.34,8279.31,8279.98,8294.04,8356.4,8374.94,8354.83,8360.45,8337.14,8351.97,8377.29,8549.0,8531.9,8551.79,8529.9,8590.0,8576.1,8549.89,8531.89,8550.0,8493.29,8522.98,8517.0,8537.29,8524.51,8589.1,8589.07,8536.92,8524.03,8497.8,8498.0,8513.5],\"low\":[8707.28,8721.11,8660.53,8701.35,8695.11,8740.54,8741.52,8700.0,8467.42,8477.89,8500.78,8500.0,8400.0,8451.05,8461.38,8481.24,8420.37,8450.0,8430.94,8275.02,8100.01,8122.56,8157.01,8166.25,8176.91,8213.79,8200.0,8207.48,8237.1,8370.0,8356.4,8145.1,8173.6,8211.8,8201.0,8250.9,8266.46,8252.72,8232.14,8268.37,8277.25,8277.25,8314.78,8314.77,8350.07,8331.39,8314.77,8275.45,8335.49,8191.14,8227.7,8264.13,8249.93,8269.52,8219.44,8262.68,8286.65,8289.87,8232.14,8232.14,8110.02,8154.95,8168.6,8151.0,7980.0,8005.95,7929.53,7931.03,7950.0,7980.58,7991.99,7992.75,7953.4,7965.67,8085.94,8078.48,8092.9,8049.22,8079.46,8062.12,8043.96,8063.1,8088.46,8094.43,8088.46,8191.14,8212.0,8224.5,8211.0,8211.01,8210.03,8158.27,8177.65,8179.41,8221.92,8217.32,8213.52,8141.08,8146.1,8186.03,8197.09,8231.21,8323.82,8296.0,8296.31,8282.65,8280.0,8273.36,8290.08,8277.93,8240.07,8191.14,8178.0,8193.7,8180.0,8170.71,8215.53,8240.02,8237.17,8237.17,8239.12,8227.79,8247.57,8274.24,8326.1,8320.61,8281.31,8269.85,8311.16,8336.11,8369.86,8471.51,8511.0,8476.66,8507.68,8509.24,8482.53,8484.93,8450.0,8434.47,8461.1,8481.0,8480.0,8488.1,8471.09,8509.2,8482.64,8469.0,8440.4,8440.52,8461.8],\"name\":\"Price\",\"open\":[8733.86,8740.99,8739.0,8728.49,8708.32,8795.9,8760.0,8760.0,8759.23,8517.77,8520.3,8535.23,8546.34,8526.65,8555.6,8512.1,8492.28,8460.0,8474.99,8455.92,8326.28,8133.43,8164.79,8229.38,8220.4,8238.8,8232.99,8207.48,8243.45,8371.13,8373.0,8365.08,8179.99,8225.0,8285.8,8273.4,8297.4,8279.89,8252.72,8302.18,8295.85,8277.25,8346.59,8358.3,8375.1,8368.62,8366.72,8314.77,8363.7,8344.16,8247.4,8277.4,8291.67,8307.89,8298.9,8269.47,8300.98,8318.49,8306.39,8276.43,8257.69,8166.0,8176.33,8200.7,8155.41,8080.0,8067.03,7958.08,7974.25,7998.5,7991.99,8022.7,8042.97,7965.67,8088.95,8122.19,8107.99,8137.73,8115.0,8107.0,8094.4,8080.01,8117.09,8126.99,8110.95,8215.39,8231.42,8240.13,8235.0,8219.9,8248.87,8213.5,8200.99,8200.0,8237.3,8228.13,8240.83,8214.9,8170.07,8229.87,8205.87,8252.56,8365.0,8348.65,8303.99,8310.48,8310.0,8289.87,8304.99,8301.35,8313.12,8240.07,8199.99,8226.98,8231.2,8198.89,8215.85,8279.99,8255.08,8270.4,8244.24,8239.12,8267.14,8282.27,8350.62,8336.6,8336.91,8311.21,8312.09,8345.19,8377.2,8481.11,8516.36,8524.0,8517.04,8558.5,8521.99,8484.93,8518.48,8488.99,8466.72,8492.55,8494.28,8510.95,8498.64,8551.1,8524.22,8510.11,8475.62,8476.58,8467.13],\"showlegend\":false,\"type\":\"candlestick\",\"uid\":\"01cfb1c8-0b02-4886-8b0a-96261fa2aa5c\",\"xaxis\":\"x\",\"yaxis\":\"y\"},{\"marker\":{\"color\":\"DodgerBlue\"},\"name\":\"Volume\",\"showlegend\":false,\"type\":\"bar\",\"uid\":\"2a7afce9-70fd-4d19-aed6-6facf6c7ebb6\",\"xaxis\":\"x2\",\"y\":[559.93,273.58,917.79,182.62,1260.69,324.11,324.2,730.67,1341.75,792.07,385.69,475.08,877.26,670.49,610.97,168.99,305.92,136.05,154.26,1070.93,1710.2,492.8,630.72,620.93,586.34,304.52,450.97,182.36,915.32,319.29,362.01,1046.38,357.91,561.2,322.53,1073.71,237.21,251.2,359.73,117.23,363.17,214.18,171.64,258.58,299.52,718.98,119.7,405.25,210.77,714.82,215.97,164.2,201.55,203.41,886.82,95.49,499.67,172.77,355.39,255.27,591.06,133.1,149.13,87.55,1061.54,286.94,524.42,316.0,441.43,189.7,844.94,155.34,257.56,610.69,217.97,173.18,218.06,372.97,484.39,248.1,162.35,303.42,290.69,160.93,369.4,487.27,93.35,96.68,72.14,90.22,168.52,203.15,71.42,464.56,57.0,89.42,49.47,200.05,254.37,65.05,118.19,452.4,181.03,288.04,145.78,110.14,55.48,80.87,67.01,59.16,121.26,244.37,156.87,80.48,139.32,93.52,200.23,97.4,68.08,47.0,36.65,28.75,182.85,400.18,288.1,182.94,777.81,493.59,118.63,174.37,901.75,222.45,113.8,84.2,261.44,168.78,111.07,122.12,267.32,210.39,211.36,146.22,93.39,89.04,307.59,307.2,164.24,151.21,399.77,362.01,260.85],\"yaxis\":\"y2\"},{\"mode\":\"lines\",\"name\":\"bitstamp:/USD-BTC\",\"type\":\"scatter\",\"uid\":\"aa25b938-fd39-4f85-817e-a103f1cfec50\",\"xaxis\":\"x3\",\"y\":[8740.99,8739.0,8728.49,8708.32,8795.9,8760.0,8760.0,8759.23,8517.77,8520.3,8535.23,8546.34,8526.65,8555.6,8512.1,8492.28,8460.0,8474.99,8455.92,8326.28,8133.43,8164.79,8229.38,8220.4,8238.8,8232.99,8207.48,8243.45,8371.13,8373.0,8365.08,8179.99,8225.0,8285.8,8273.4,8297.4,8279.89,8252.72,8302.18,8295.85,8277.25,8346.59,8358.3,8375.1,8368.62,8366.72,8314.77,8363.7,8344.16,8247.4,8277.4,8291.67,8307.89,8298.9,8269.47,8300.98,8318.49,8306.39,8276.43,8257.69,8166.0,8176.33,8200.7,8155.41,8080.0,8067.03,7958.08,7974.25,7998.5,7991.99,8022.7,8042.97,7965.67,8088.95,8122.19,8107.99,8137.73,8115.0,8107.0,8094.4,8080.01,8117.09,8126.99,8110.95,8215.39,8231.42,8240.13,8235.0,8219.9,8248.87,8213.5,8200.99,8200.0,8237.3,8228.13,8240.83,8214.9,8170.07,8229.87,8205.87,8252.56,8365.0,8348.65,8303.99,8310.48,8310.0,8289.87,8304.99,8301.35,8313.12,8240.07,8199.99,8226.98,8231.2,8198.89,8215.85,8279.99,8255.08,8270.4,8244.24,8239.12,8267.14,8282.27,8350.62,8336.6,8336.91,8311.21,8312.09,8345.19,8377.2,8481.11,8516.36,8524.0,8517.04,8558.5,8521.99,8484.93,8518.48,8488.99,8466.72,8492.55,8494.28,8510.95,8498.64,8551.1,8524.22,8510.11,8475.62,8476.58,8467.13,8499.84],\"yaxis\":\"y3\"},{\"mode\":\"lines\",\"name\":\"bitstamp:/USD:/free\",\"type\":\"scatter\",\"uid\":\"a0fc54b0-38cc-433f-9e09-2e99cd52dd35\",\"xaxis\":\"x3\",\"y\":[10000.0,10000.0,10000.0,10000.0,10000.0,10000.0,10000.0,10000.0,10000.0,4000.0,4000.0,4000.0,4000.0,4000.0,800.0,800.0,800.0,800.0,800.0,800.0,3895.57,9590.51,9590.51,9590.51,9590.51,9590.51,9590.51,9590.51,7672.41,7672.41,7672.41,7672.41,7672.41,7672.41,7672.41,7672.41,7672.41,7672.41,7672.41,7672.41,3836.21,3836.21,3836.21,3836.21,3836.21,3836.21,3836.21,3836.21,3836.21,3836.21,3836.21,3836.21,3836.21,0.0,0.0,0.0,0.0,0.0,0.0,0.0,0.0,0.0,0.0,0.0,0.0,0.0,0.0,7310.63,7310.63,7310.63,7310.63,7310.63,7310.63,7310.63,7310.63,7310.63,7310.63,7310.63,7310.63,7310.63,7310.63,7310.63,7310.63,7310.63,2924.25,7340.49,4404.29,4404.29,4404.29,4404.29,4404.29,4404.29,4404.29,4404.29,4404.29,4404.29,4404.29,4404.29,4404.29,4404.29,4404.29,4404.29,4404.29,4404.29,4404.29,4404.29,4404.29,4404.29,4404.29,4404.29,4404.29,4404.29,4404.29,4404.29,4404.29,4404.29,4404.29,4404.29,4404.29,4404.29,4404.29,4404.29,4404.29,4404.29,4404.29,4404.29,4404.29,2202.15,2202.15,2202.15,2202.15,7442.98,9412.71,3765.08,3765.08,3765.08,3765.08,3765.08,3765.08,1129.52,1129.52,1129.52,1129.52,1129.52,1129.52,1129.52,1129.52,1129.52,1129.52,1129.52,1129.52],\"yaxis\":\"y3\"},{\"mode\":\"lines\",\"name\":\"bitstamp:/USD:/locked\",\"type\":\"scatter\",\"uid\":\"2722bdc7-4f3f-44bf-abd7-c617032d27e5\",\"xaxis\":\"x3\",\"y\":[0.0,0.0,0.0,0.0,0.0,0.0,0.0,0.0,0.0,0.0,0.0,0.0,0.0,0.0,0.0,0.0,0.0,0.0,0.0,0.0,0.0,0.0,0.0,0.0,0.0,0.0,0.0,0.0,0.0,0.0,0.0,0.0,0.0,0.0,0.0,0.0,0.0,0.0,0.0,0.0,0.0,0.0,0.0,0.0,0.0,0.0,0.0,0.0,0.0,0.0,0.0,0.0,0.0,0.0,0.0,0.0,0.0,0.0,0.0,0.0,0.0,0.0,0.0,0.0,0.0,0.0,0.0,0.0,0.0,0.0,0.0,0.0,0.0,0.0,0.0,0.0,0.0,0.0,0.0,0.0,0.0,0.0,0.0,0.0,0.0,0.0,0.0,0.0,0.0,0.0,0.0,0.0,0.0,0.0,0.0,0.0,0.0,0.0,0.0,0.0,0.0,0.0,0.0,0.0,0.0,0.0,0.0,0.0,0.0,0.0,0.0,0.0,0.0,0.0,0.0,0.0,0.0,0.0,0.0,0.0,0.0,0.0,0.0,0.0,0.0,0.0,0.0,0.0,0.0,0.0,0.0,0.0,0.0,0.0,0.0,0.0,0.0,0.0,0.0,0.0,0.0,0.0,0.0,0.0,0.0,0.0,0.0,0.0,0.0,0.0,0.0],\"yaxis\":\"y3\"},{\"mode\":\"lines\",\"name\":\"bitstamp:/USD:/total\",\"type\":\"scatter\",\"uid\":\"50a887ba-dc1c-49e1-9919-2c6a5f1ce675\",\"xaxis\":\"x3\",\"y\":[10000.0,10000.0,10000.0,10000.0,10000.0,10000.0,10000.0,10000.0,10000.0,4000.0,4000.0,4000.0,4000.0,4000.0,800.0,800.0,800.0,800.0,800.0,800.0,3895.57,9590.51,9590.51,9590.51,9590.51,9590.51,9590.51,9590.51,7672.41,7672.41,7672.41,7672.41,7672.41,7672.41,7672.41,7672.41,7672.41,7672.41,7672.41,7672.41,3836.21,3836.21,3836.21,3836.21,3836.21,3836.21,3836.21,3836.21,3836.21,3836.21,3836.21,3836.21,3836.21,0.0,0.0,0.0,0.0,0.0,0.0,0.0,0.0,0.0,0.0,0.0,0.0,0.0,0.0,7310.63,7310.63,7310.63,7310.63,7310.63,7310.63,7310.63,7310.63,7310.63,7310.63,7310.63,7310.63,7310.63,7310.63,7310.63,7310.63,7310.63,2924.25,7340.49,4404.29,4404.29,4404.29,4404.29,4404.29,4404.29,4404.29,4404.29,4404.29,4404.29,4404.29,4404.29,4404.29,4404.29,4404.29,4404.29,4404.29,4404.29,4404.29,4404.29,4404.29,4404.29,4404.29,4404.29,4404.29,4404.29,4404.29,4404.29,4404.29,4404.29,4404.29,4404.29,4404.29,4404.29,4404.29,4404.29,4404.29,4404.29,4404.29,4404.29,4404.29,2202.15,2202.15,2202.15,2202.15,7442.98,9412.71,3765.08,3765.08,3765.08,3765.08,3765.08,3765.08,1129.52,1129.52,1129.52,1129.52,1129.52,1129.52,1129.52,1129.52,1129.52,1129.52,1129.52,1129.52],\"yaxis\":\"y3\"},{\"mode\":\"lines\",\"name\":\"bitstamp:/BTC:/free\",\"type\":\"scatter\",\"uid\":\"6a76eb19-21b7-4b89-a4c7-dd64c09913ed\",\"xaxis\":\"x3\",\"y\":[10.0,10.0,10.0,10.0,10.0,10.0,10.0,10.0,10.0,10.0,10.0,10.0,10.0,10.0,10.0,10.0,10.0,10.0,10.0,10.0,10.0,10.0,10.0,10.0,10.0,10.0,10.0,10.0,10.0,10.0,10.0,10.0,10.0,10.0,10.0,10.0,10.0,10.0,10.0,10.0,10.0,10.0,10.0,10.0,10.0,10.0,10.0,10.0,10.0,10.0,10.0,10.0,10.0,10.0,10.0,10.0,10.0,10.0,10.0,10.0,10.0,10.0,10.0,10.0,10.0,10.0,10.0,10.0,10.0,10.0,10.0,10.0,10.0,10.0,10.0,10.0,10.0,10.0,10.0,10.0,10.0,10.0,10.0,10.0,10.0,10.0,10.0,10.0,10.0,10.0,10.0,10.0,10.0,10.0,10.0,10.0,10.0,10.0,10.0,10.0,10.0,10.0,10.0,10.0,10.0,10.0,10.0,10.0,10.0,10.0,10.0,10.0,10.0,10.0,10.0,10.0,10.0,10.0,10.0,10.0,10.0,10.0,10.0,10.0,10.0,10.0,10.0,10.0,10.0,10.0,10.0,10.0,10.0,10.0,10.0,10.0,10.0,10.0,10.0,10.0,10.0,10.0,10.0,10.0,10.0,10.0,10.0,10.0,10.0,10.0,10.0],\"yaxis\":\"y3\"},{\"mode\":\"lines\",\"name\":\"bitstamp:/BTC:/locked\",\"type\":\"scatter\",\"uid\":\"5ab63988-9d48-4993-9003-f90c3460589b\",\"xaxis\":\"x3\",\"y\":[0.0,0.0,0.0,0.0,0.0,0.0,0.0,0.0,0.0,0.70229649,0.70229649,0.70229649,0.70229649,0.70229649,1.07519845,1.07519845,1.07519845,1.07519845,1.07519845,1.07519845,0.70229649,0.0,0.0,0.0,0.0,0.0,0.0,0.0,0.23198418,0.23198418,0.23198418,0.23198418,0.23198418,0.23198418,0.23198418,0.23198418,0.23198418,0.23198418,0.23198418,0.23198418,0.69302072,0.69302072,0.69302072,0.69302072,0.69302072,0.69302072,0.69302072,0.69302072,0.69302072,0.69302072,0.69302072,0.69302072,0.69302072,1.15339032,1.15339032,1.15339032,1.15339032,1.15339032,1.15339032,1.15339032,1.15339032,1.15339032,1.15339032,1.15339032,1.15339032,1.15339032,1.15339032,0.23198418,0.23198418,0.23198418,0.23198418,0.23198418,0.23198418,0.23198418,0.23198418,0.23198418,0.23198418,0.23198418,0.23198418,0.23198418,0.23198418,0.23198418,0.23198418,0.23198418,0.771159,0.23198418,0.58762027,0.58762027,0.58762027,0.58762027,0.58762027,0.58762027,0.58762027,0.58762027,0.58762027,0.58762027,0.58762027,0.58762027,0.58762027,0.58762027,0.58762027,0.58762027,0.58762027,0.58762027,0.58762027,0.58762027,0.58762027,0.58762027,0.58762027,0.58762027,0.58762027,0.58762027,0.58762027,0.58762027,0.58762027,0.58762027,0.58762027,0.58762027,0.58762027,0.58762027,0.58762027,0.58762027,0.58762027,0.58762027,0.58762027,0.58762027,0.58762027,0.85178517,0.85178517,0.85178517,0.85178517,0.23198418,0.0,0.66056898,0.66056898,0.66056898,0.66056898,0.66056898,0.66056898,0.97010521,0.97010521,0.97010521,0.97010521,0.97010521,0.97010521,0.97010521,0.97010521,0.97010521,0.97010521,0.97010521,0.97010521],\"yaxis\":\"y3\"},{\"mode\":\"lines\",\"name\":\"bitstamp:/BTC:/total\",\"type\":\"scatter\",\"uid\":\"0711e7d8-cb3d-4ac5-a15a-06b73d5fd047\",\"xaxis\":\"x3\",\"y\":[10.0,10.0,10.0,10.0,10.0,10.0,10.0,10.0,10.0,10.70229649,10.70229649,10.70229649,10.70229649,10.70229649,11.07519845,11.07519845,11.07519845,11.07519845,11.07519845,11.07519845,10.70229649,10.0,10.0,10.0,10.0,10.0,10.0,10.0,10.23198418,10.23198418,10.23198418,10.23198418,10.23198418,10.23198418,10.23198418,10.23198418,10.23198418,10.23198418,10.23198418,10.23198418,10.69302072,10.69302072,10.69302072,10.69302072,10.69302072,10.69302072,10.69302072,10.69302072,10.69302072,10.69302072,10.69302072,10.69302072,10.69302072,11.15339032,11.15339032,11.15339032,11.15339032,11.15339032,11.15339032,11.15339032,11.15339032,11.15339032,11.15339032,11.15339032,11.15339032,11.15339032,11.15339032,10.23198418,10.23198418,10.23198418,10.23198418,10.23198418,10.23198418,10.23198418,10.23198418,10.23198418,10.23198418,10.23198418,10.23198418,10.23198418,10.23198418,10.23198418,10.23198418,10.23198418,10.771159,10.23198418,10.58762027,10.58762027,10.58762027,10.58762027,10.58762027,10.58762027,10.58762027,10.58762027,10.58762027,10.58762027,10.58762027,10.58762027,10.58762027,10.58762027,10.58762027,10.58762027,10.58762027,10.58762027,10.58762027,10.58762027,10.58762027,10.58762027,10.58762027,10.58762027,10.58762027,10.58762027,10.58762027,10.58762027,10.58762027,10.58762027,10.58762027,10.58762027,10.58762027,10.58762027,10.58762027,10.58762027,10.58762027,10.58762027,10.58762027,10.58762027,10.58762027,10.85178517,10.85178517,10.85178517,10.85178517,10.23198418,10.0,10.66056898,10.66056898,10.66056898,10.66056898,10.66056898,10.66056898,10.97010521,10.97010521,10.97010521,10.97010521,10.97010521,10.97010521,10.97010521,10.97010521,10.97010521,10.97010521,10.97010521,10.97010521],\"yaxis\":\"y3\"},{\"mode\":\"lines\",\"name\":\"bitstamp:/BTC:/worth\",\"type\":\"scatter\",\"uid\":\"1becf59d-1ba7-4f9d-bc78-fb6131df7711\",\"xaxis\":\"x3\",\"y\":[87409.9,87390.0,87284.9,87083.2,87959.0,87600.0,87600.0,87592.29999999999,85177.70000000001,91186.77678374699,91346.5620703427,91465.4645843466,91254.7363664585,91564.56784984401,94273.196726245,94053.68629296601,93696.178887,93862.1961117655,93650.992077324,92215.203350266,87046.3793406607,81647.9,82293.79999999999,82204.0,82388.0,82329.9,82074.79999999999,82434.5,85653.26972872339,85672.40353914,85591.3662244344,83697.5282725582,84158.0698805,84780.174518644,84653.29791481199,84898.86553513199,84719.7034921402,84441.70048196959,84947.7744195124,84883.005959653,88508.80575462,89250.2598113448,89375.475083976,89555.117832072,89485.82705780641,89465.51031843839,88910.00789203441,89433.217395864,89224.2757709952,88189.61908612799,88510.40970772799,88662.9991134024,88836.43990948079,92560.870926648,92232.62664953039,92584.0699785136,92779.3658430168,92644.40982014479,92310.2542461576,92101.2397115608,91078.58535312,91193.7998751256,91465.60799722401,90960.4709496312,90119.3937856,89974.7343131496,88759.5724377856,81592.399847365,81840.52546373,81773.9152467182,82088.13948088599,82295.5418002146,81504.6094231006,82766.008432811,83106.1195869542,82960.8254115982,83265.12462111139,83032.55162069999,82950.69574725999,82821.77274659199,82674.5344942418,83053.9364676362,83155.2331110182,82991.112084771,88489.27193701,84223.7592189356,87243.36741543509,87189.05292345,87029.179857373,87335.90321659492,86961.419087645,86828.9679580673,86818.486214,87213.404450071,87116.3159721951,87250.7787496241,86976.241756023,86501.5987393189,87134.73843146491,86880.6355449849,87374.9715353912,88565.44355855,88392.3359671355,87919.4928458773,87988.2065014296,87983.1244437,87769.99564766491,87930.0804661473,87891.54152836451,88016.15781894242,87242.7321582189,86818.3803377973,87104.1402088846,87148.81996642401,86806.7339555003,86986.2999952795,87665.3899593973,87401.6523384716,87563.854681008,87286.8825347448,87232.6739189624,87529.33903892779,87689.5297336129,88413.19357906742,88264.755142882,88268.03730516571,87995.9354642267,90201.01499370529,90560.2090828323,90907.574726124,92035.1837231387,87139.2607911848,85240.0,90796.49242541922,91238.47961533001,90849.26224187021,90454.18155547141,90811.8436447504,90497.4634655302,92880.80918361119,93164.16700118549,93183.1452831988,93366.01693704951,93230.97494191439,93806.466661231,93511.59023318619,93356.80204867311,92978.4431199802,92988.9744209818,92885.30692674729,93244.1390681664],\"yaxis\":\"y3\"},{\"mode\":\"lines\",\"name\":\"net_worth\",\"type\":\"scatter\",\"uid\":\"10a610f8-6895-40c9-9719-263d90a858e5\",\"xaxis\":\"x3\",\"y\":[97409.9,97390.0,97284.9,97083.2,97959.0,97600.0,97600.0,97592.29999999999,95177.70000000001,95186.77678374699,95346.5620703427,95465.4645843466,95254.7363664585,95564.56784984401,95073.196726245,94853.68629296601,94496.178887,94662.1961117655,94450.992077324,93015.203350266,90941.9493406607,91238.40999999999,91884.30999999998,91794.51,91978.51,91920.40999999999,91665.30999999998,92025.01,93325.6797287234,93344.81353914,93263.7762244344,91369.9382725582,91830.4798805,92452.584518644,92325.707914812,92571.275535132,92392.1134921402,92114.11048196959,92620.1844195124,92555.41595965301,92345.01575462,93086.46981134481,93211.685083976,93391.32783207201,93322.03705780642,93301.7203184384,92746.21789203442,93269.42739586401,93060.4857709952,92025.829086128,92346.619707728,92499.20911340241,92672.6499094808,92560.870926648,92232.62664953039,92584.0699785136,92779.3658430168,92644.40982014479,92310.2542461576,92101.2397115608,91078.58535312,91193.7998751256,91465.60799722401,90960.4709496312,90119.3937856,89974.7343131496,88759.5724377856,88903.029847365,89151.15546373,89084.5452467182,89398.769480886,89606.17180021461,88815.2394231006,90076.638432811,90416.7495869542,90271.4554115982,90575.7546211114,90343.1816207,90261.32574726,90132.402746592,89985.1644942418,90364.5664676362,90465.8631110182,90301.742084771,91413.52193701,91564.2492189356,91647.65741543508,91593.34292344999,91433.469857373,91740.19321659491,91365.709087645,91233.25795806729,91222.776214,91617.694450071,91520.60597219509,91655.0687496241,91380.53175602299,90905.88873931889,91539.0284314649,91284.9255449849,91779.2615353912,92969.73355855,92796.6259671355,92323.7828458773,92392.49650142959,92387.41444369999,92174.2856476649,92334.37046614729,92295.8315283645,92420.44781894241,91647.0221582189,91222.67033779729,91508.43020888459,91553.109966424,91211.02395550029,91390.5899952795,92069.6799593973,91805.94233847159,91968.144681008,91691.1725347448,91636.9639189624,91933.62903892779,92093.8197336129,92817.48357906741,92669.045142882,92672.3273051657,92400.22546422669,92403.16499370529,92762.35908283229,93109.724726124,94237.3337231387,94582.2407911848,94652.70999999999,94561.57242541922,95003.55961533001,94614.34224187021,94219.26155547141,94576.92364475041,94262.54346553021,94010.32918361119,94293.68700118549,94312.6652831988,94495.53693704952,94360.4949419144,94935.986661231,94641.11023318619,94486.32204867312,94107.96311998021,94118.4944209818,94014.8269267473,94373.65906816641],\"yaxis\":\"y3\"},{\"marker\":{\"color\":\"DarkGreen\"},\"mode\":\"lines\",\"name\":\"Net Worth\",\"type\":\"scatter\",\"uid\":\"2828561d-d4ab-4f23-a15e-030b3891fe09\",\"xaxis\":\"x4\",\"y\":[97409.9,97390.0,97284.9,97083.2,97959.0,97600.0,97600.0,97592.29999999999,95177.70000000001,95186.77678374699,95346.5620703427,95465.4645843466,95254.7363664585,95564.56784984401,95073.196726245,94853.68629296601,94496.178887,94662.1961117655,94450.992077324,93015.203350266,90941.9493406607,91238.40999999999,91884.30999999998,91794.51,91978.51,91920.40999999999,91665.30999999998,92025.01,93325.6797287234,93344.81353914,93263.7762244344,91369.9382725582,91830.4798805,92452.584518644,92325.707914812,92571.275535132,92392.1134921402,92114.11048196959,92620.1844195124,92555.41595965301,92345.01575462,93086.46981134481,93211.685083976,93391.32783207201,93322.03705780642,93301.7203184384,92746.21789203442,93269.42739586401,93060.4857709952,92025.829086128,92346.619707728,92499.20911340241,92672.6499094808,92560.870926648,92232.62664953039,92584.0699785136,92779.3658430168,92644.40982014479,92310.2542461576,92101.2397115608,91078.58535312,91193.7998751256,91465.60799722401,90960.4709496312,90119.3937856,89974.7343131496,88759.5724377856,88903.029847365,89151.15546373,89084.5452467182,89398.769480886,89606.17180021461,88815.2394231006,90076.638432811,90416.7495869542,90271.4554115982,90575.7546211114,90343.1816207,90261.32574726,90132.402746592,89985.1644942418,90364.5664676362,90465.8631110182,90301.742084771,91413.52193701,91564.2492189356,91647.65741543508,91593.34292344999,91433.469857373,91740.19321659491,91365.709087645,91233.25795806729,91222.776214,91617.694450071,91520.60597219509,91655.0687496241,91380.53175602299,90905.88873931889,91539.0284314649,91284.9255449849,91779.2615353912,92969.73355855,92796.6259671355,92323.7828458773,92392.49650142959,92387.41444369999,92174.2856476649,92334.37046614729,92295.8315283645,92420.44781894241,91647.0221582189,91222.67033779729,91508.43020888459,91553.109966424,91211.02395550029,91390.5899952795,92069.6799593973,91805.94233847159,91968.144681008,91691.1725347448,91636.9639189624,91933.62903892779,92093.8197336129,92817.48357906741,92669.045142882,92672.3273051657,92400.22546422669,92403.16499370529,92762.35908283229,93109.724726124,94237.3337231387,94582.2407911848,94652.70999999999,94561.57242541922,95003.55961533001,94614.34224187021,94219.26155547141,94576.92364475041,94262.54346553021,94010.32918361119,94293.68700118549,94312.6652831988,94495.53693704952,94360.4949419144,94935.986661231,94641.11023318619,94486.32204867312,94107.96311998021,94118.4944209818,94014.8269267473,94373.65906816641],\"yaxis\":\"y4\"}],                        {\"annotations\":[{\"arrowcolor\":\"DarkGreen\",\"arrowhead\":2,\"arrowsize\":0.8,\"arrowwidth\":4,\"ax\":0,\"ay\":15,\"hoverlabel\":{\"bgcolor\":\"DarkGreen\"},\"hovertext\":\"Step 40 [2018-05-16 21:00:00]<br>BUY 0.46103654 BTC @ 8295.85 USD MARKET<br>Total: 3824.69 USD - Comm.: 11.51 USD\",\"opacity\":0.6,\"showarrow\":true,\"x\":39,\"xref\":\"x\",\"y\":8295.85,\"yref\":\"y\"},{\"arrowcolor\":\"DarkGreen\",\"arrowhead\":2,\"arrowsize\":0.8,\"arrowwidth\":4,\"ax\":0,\"ay\":15,\"hoverlabel\":{\"bgcolor\":\"DarkGreen\"},\"hovertext\":\"Step 28 [2018-05-16 09:00:00]<br>BUY 0.23198418 BTC @ 8243.45 USD MARKET<br>Total: 1912.35 USD - Comm.: 5.75 USD\",\"opacity\":0.6,\"showarrow\":true,\"x\":27,\"xref\":\"x\",\"y\":8243.45,\"yref\":\"y\"},{\"arrowcolor\":\"FireBrick\",\"arrowhead\":2,\"arrowsize\":0.8,\"arrowwidth\":4,\"ax\":0,\"ay\":-15,\"hoverlabel\":{\"bgcolor\":\"FireBrick\"},\"hovertext\":\"Step 21 [2018-05-16 02:00:00]<br>SELL 0.7001896 BTC @ 8133.43 USD MARKET<br>Total: 5694.94 USD - Comm.: 0.00210689 BTC\",\"opacity\":0.6,\"showarrow\":true,\"x\":20,\"xref\":\"x\",\"y\":8133.43,\"yref\":\"y\"},{\"arrowcolor\":\"FireBrick\",\"arrowhead\":2,\"arrowsize\":0.8,\"arrowwidth\":4,\"ax\":0,\"ay\":-15,\"hoverlabel\":{\"bgcolor\":\"FireBrick\"},\"hovertext\":\"Step 20 [2018-05-16 01:00:00]<br>SELL 0.37178325 BTC @ 8326.28 USD MARKET<br>Total: 3095.57 USD - Comm.: 0.00111871 BTC\",\"opacity\":0.6,\"showarrow\":true,\"x\":19,\"xref\":\"x\",\"y\":8326.28,\"yref\":\"y\"},{\"arrowcolor\":\"DarkGreen\",\"arrowhead\":2,\"arrowsize\":0.8,\"arrowwidth\":4,\"ax\":0,\"ay\":15,\"hoverlabel\":{\"bgcolor\":\"DarkGreen\"},\"hovertext\":\"Step 14 [2018-05-15 19:00:00]<br>BUY 0.37290196 BTC @ 8555.6 USD MARKET<br>Total: 3190.4 USD - Comm.: 9.60 USD\",\"opacity\":0.6,\"showarrow\":true,\"x\":13,\"xref\":\"x\",\"y\":8555.6,\"yref\":\"y\"},{\"arrowcolor\":\"DarkGreen\",\"arrowhead\":2,\"arrowsize\":0.8,\"arrowwidth\":4,\"ax\":0,\"ay\":15,\"hoverlabel\":{\"bgcolor\":\"DarkGreen\"},\"hovertext\":\"Step 9 [2018-05-15 14:00:00]<br>BUY 0.70229649 BTC @ 8517.77 USD MARKET<br>Total: 5982.0 USD - Comm.: 18.00 USD\",\"opacity\":0.6,\"showarrow\":true,\"x\":8,\"xref\":\"x\",\"y\":8517.77,\"yref\":\"y\"},{\"arrowcolor\":\"DarkGreen\",\"arrowhead\":2,\"arrowsize\":0.8,\"arrowwidth\":4,\"ax\":0,\"ay\":15,\"hoverlabel\":{\"bgcolor\":\"DarkGreen\"},\"hovertext\":\"Step 86 [2018-05-18 19:00:00]<br>BUY 0.35563609 BTC @ 8231.42 USD MARKET<br>Total: 2927.39 USD - Comm.: 8.81 USD\",\"opacity\":0.6,\"showarrow\":true,\"x\":85,\"xref\":\"x\",\"y\":8231.42,\"yref\":\"y\"},{\"arrowcolor\":\"FireBrick\",\"arrowhead\":2,\"arrowsize\":0.8,\"arrowwidth\":4,\"ax\":0,\"ay\":-15,\"hoverlabel\":{\"bgcolor\":\"FireBrick\"},\"hovertext\":\"Step 85 [2018-05-18 18:00:00]<br>SELL 0.5375573 BTC @ 8215.39 USD MARKET<br>Total: 4416.24 USD - Comm.: 0.00161752 BTC\",\"opacity\":0.6,\"showarrow\":true,\"x\":84,\"xref\":\"x\",\"y\":8215.39,\"yref\":\"y\"},{\"arrowcolor\":\"DarkGreen\",\"arrowhead\":2,\"arrowsize\":0.8,\"arrowwidth\":4,\"ax\":0,\"ay\":15,\"hoverlabel\":{\"bgcolor\":\"DarkGreen\"},\"hovertext\":\"Step 84 [2018-05-18 17:00:00]<br>BUY 0.53917482 BTC @ 8110.95 USD MARKET<br>Total: 4373.22 USD - Comm.: 13.16 USD\",\"opacity\":0.6,\"showarrow\":true,\"x\":83,\"xref\":\"x\",\"y\":8110.95,\"yref\":\"y\"},{\"arrowcolor\":\"FireBrick\",\"arrowhead\":2,\"arrowsize\":0.8,\"arrowwidth\":4,\"ax\":0,\"ay\":-15,\"hoverlabel\":{\"bgcolor\":\"FireBrick\"},\"hovertext\":\"Step 67 [2018-05-18 00:00:00]<br>SELL 0.45898849 BTC @ 7958.08 USD MARKET<br>Total: 3652.67 USD - Comm.: 0.00138111 BTC\",\"opacity\":0.6,\"showarrow\":true,\"x\":66,\"xref\":\"x\",\"y\":7958.08,\"yref\":\"y\"},{\"arrowcolor\":\"FireBrick\",\"arrowhead\":2,\"arrowsize\":0.8,\"arrowwidth\":4,\"ax\":0,\"ay\":-15,\"hoverlabel\":{\"bgcolor\":\"FireBrick\"},\"hovertext\":\"Step 67 [2018-05-18 00:00:00]<br>SELL 0.45965343 BTC @ 7958.08 USD MARKET<br>Total: 3657.96 USD - Comm.: 0.00138311 BTC\",\"opacity\":0.6,\"showarrow\":true,\"x\":66,\"xref\":\"x\",\"y\":7958.08,\"yref\":\"y\"},{\"arrowcolor\":\"DarkGreen\",\"arrowhead\":2,\"arrowsize\":0.8,\"arrowwidth\":4,\"ax\":0,\"ay\":15,\"hoverlabel\":{\"bgcolor\":\"DarkGreen\"},\"hovertext\":\"Step 53 [2018-05-17 10:00:00]<br>BUY 0.4603696 BTC @ 8307.89 USD MARKET<br>Total: 3824.7 USD - Comm.: 11.51 USD\",\"opacity\":0.6,\"showarrow\":true,\"x\":52,\"xref\":\"x\",\"y\":8307.89,\"yref\":\"y\"},{\"arrowcolor\":\"DarkGreen\",\"arrowhead\":2,\"arrowsize\":0.8,\"arrowwidth\":4,\"ax\":0,\"ay\":15,\"hoverlabel\":{\"bgcolor\":\"DarkGreen\"},\"hovertext\":\"Step 139 [2018-05-21 00:00:00]<br>BUY 0.30953623 BTC @ 8488.99 USD MARKET<br>Total: 2627.65 USD - Comm.: 7.91 USD\",\"opacity\":0.6,\"showarrow\":true,\"x\":138,\"xref\":\"x\",\"y\":8488.99,\"yref\":\"y\"},{\"arrowcolor\":\"DarkGreen\",\"arrowhead\":2,\"arrowsize\":0.8,\"arrowwidth\":4,\"ax\":0,\"ay\":15,\"hoverlabel\":{\"bgcolor\":\"DarkGreen\"},\"hovertext\":\"Step 133 [2018-05-20 18:00:00]<br>BUY 0.66056898 BTC @ 8524.0 USD MARKET<br>Total: 5630.69 USD - Comm.: 16.94 USD\",\"opacity\":0.6,\"showarrow\":true,\"x\":132,\"xref\":\"x\",\"y\":8524.0,\"yref\":\"y\"},{\"arrowcolor\":\"FireBrick\",\"arrowhead\":2,\"arrowsize\":0.8,\"arrowwidth\":4,\"ax\":0,\"ay\":-15,\"hoverlabel\":{\"bgcolor\":\"FireBrick\"},\"hovertext\":\"Step 132 [2018-05-20 17:00:00]<br>SELL 0.23128823 BTC @ 8516.36 USD MARKET<br>Total: 1969.73 USD - Comm.: 0.00069595 BTC\",\"opacity\":0.6,\"showarrow\":true,\"x\":131,\"xref\":\"x\",\"y\":8516.36,\"yref\":\"y\"},{\"arrowcolor\":\"FireBrick\",\"arrowhead\":2,\"arrowsize\":0.8,\"arrowwidth\":4,\"ax\":0,\"ay\":-15,\"hoverlabel\":{\"bgcolor\":\"FireBrick\"},\"hovertext\":\"Step 131 [2018-05-20 16:00:00]<br>SELL 0.26337241 BTC @ 8481.11 USD MARKET<br>Total: 2233.69 USD - Comm.: 0.00079249 BTC\",\"opacity\":0.6,\"showarrow\":true,\"x\":130,\"xref\":\"x\",\"y\":8481.11,\"yref\":\"y\"},{\"arrowcolor\":\"FireBrick\",\"arrowhead\":2,\"arrowsize\":0.8,\"arrowwidth\":4,\"ax\":0,\"ay\":-15,\"hoverlabel\":{\"bgcolor\":\"FireBrick\"},\"hovertext\":\"Step 131 [2018-05-20 16:00:00]<br>SELL 0.35456918 BTC @ 8481.11 USD MARKET<br>Total: 3007.14 USD - Comm.: 0.00106691 BTC\",\"opacity\":0.6,\"showarrow\":true,\"x\":130,\"xref\":\"x\",\"y\":8481.11,\"yref\":\"y\"},{\"arrowcolor\":\"DarkGreen\",\"arrowhead\":2,\"arrowsize\":0.8,\"arrowwidth\":4,\"ax\":0,\"ay\":15,\"hoverlabel\":{\"bgcolor\":\"DarkGreen\"},\"hovertext\":\"Step 127 [2018-05-20 12:00:00]<br>BUY 0.2641649 BTC @ 8311.21 USD MARKET<br>Total: 2195.53 USD - Comm.: 6.61 USD\",\"opacity\":0.6,\"showarrow\":true,\"x\":126,\"xref\":\"x\",\"y\":8311.21,\"yref\":\"y\"}],\"margin\":{\"t\":50},\"template\":{\"data\":{\"bar\":[{\"error_x\":{\"color\":\"#2a3f5f\"},\"error_y\":{\"color\":\"#2a3f5f\"},\"marker\":{\"line\":{\"color\":\"white\",\"width\":0.5},\"pattern\":{\"fillmode\":\"overlay\",\"size\":10,\"solidity\":0.2}},\"type\":\"bar\"}],\"barpolar\":[{\"marker\":{\"line\":{\"color\":\"white\",\"width\":0.5},\"pattern\":{\"fillmode\":\"overlay\",\"size\":10,\"solidity\":0.2}},\"type\":\"barpolar\"}],\"carpet\":[{\"aaxis\":{\"endlinecolor\":\"#2a3f5f\",\"gridcolor\":\"#C8D4E3\",\"linecolor\":\"#C8D4E3\",\"minorgridcolor\":\"#C8D4E3\",\"startlinecolor\":\"#2a3f5f\"},\"baxis\":{\"endlinecolor\":\"#2a3f5f\",\"gridcolor\":\"#C8D4E3\",\"linecolor\":\"#C8D4E3\",\"minorgridcolor\":\"#C8D4E3\",\"startlinecolor\":\"#2a3f5f\"},\"type\":\"carpet\"}],\"choropleth\":[{\"colorbar\":{\"outlinewidth\":0,\"ticks\":\"\"},\"type\":\"choropleth\"}],\"contour\":[{\"colorbar\":{\"outlinewidth\":0,\"ticks\":\"\"},\"colorscale\":[[0.0,\"#0d0887\"],[0.1111111111111111,\"#46039f\"],[0.2222222222222222,\"#7201a8\"],[0.3333333333333333,\"#9c179e\"],[0.4444444444444444,\"#bd3786\"],[0.5555555555555556,\"#d8576b\"],[0.6666666666666666,\"#ed7953\"],[0.7777777777777778,\"#fb9f3a\"],[0.8888888888888888,\"#fdca26\"],[1.0,\"#f0f921\"]],\"type\":\"contour\"}],\"contourcarpet\":[{\"colorbar\":{\"outlinewidth\":0,\"ticks\":\"\"},\"type\":\"contourcarpet\"}],\"heatmap\":[{\"colorbar\":{\"outlinewidth\":0,\"ticks\":\"\"},\"colorscale\":[[0.0,\"#0d0887\"],[0.1111111111111111,\"#46039f\"],[0.2222222222222222,\"#7201a8\"],[0.3333333333333333,\"#9c179e\"],[0.4444444444444444,\"#bd3786\"],[0.5555555555555556,\"#d8576b\"],[0.6666666666666666,\"#ed7953\"],[0.7777777777777778,\"#fb9f3a\"],[0.8888888888888888,\"#fdca26\"],[1.0,\"#f0f921\"]],\"type\":\"heatmap\"}],\"heatmapgl\":[{\"colorbar\":{\"outlinewidth\":0,\"ticks\":\"\"},\"colorscale\":[[0.0,\"#0d0887\"],[0.1111111111111111,\"#46039f\"],[0.2222222222222222,\"#7201a8\"],[0.3333333333333333,\"#9c179e\"],[0.4444444444444444,\"#bd3786\"],[0.5555555555555556,\"#d8576b\"],[0.6666666666666666,\"#ed7953\"],[0.7777777777777778,\"#fb9f3a\"],[0.8888888888888888,\"#fdca26\"],[1.0,\"#f0f921\"]],\"type\":\"heatmapgl\"}],\"histogram\":[{\"marker\":{\"pattern\":{\"fillmode\":\"overlay\",\"size\":10,\"solidity\":0.2}},\"type\":\"histogram\"}],\"histogram2d\":[{\"colorbar\":{\"outlinewidth\":0,\"ticks\":\"\"},\"colorscale\":[[0.0,\"#0d0887\"],[0.1111111111111111,\"#46039f\"],[0.2222222222222222,\"#7201a8\"],[0.3333333333333333,\"#9c179e\"],[0.4444444444444444,\"#bd3786\"],[0.5555555555555556,\"#d8576b\"],[0.6666666666666666,\"#ed7953\"],[0.7777777777777778,\"#fb9f3a\"],[0.8888888888888888,\"#fdca26\"],[1.0,\"#f0f921\"]],\"type\":\"histogram2d\"}],\"histogram2dcontour\":[{\"colorbar\":{\"outlinewidth\":0,\"ticks\":\"\"},\"colorscale\":[[0.0,\"#0d0887\"],[0.1111111111111111,\"#46039f\"],[0.2222222222222222,\"#7201a8\"],[0.3333333333333333,\"#9c179e\"],[0.4444444444444444,\"#bd3786\"],[0.5555555555555556,\"#d8576b\"],[0.6666666666666666,\"#ed7953\"],[0.7777777777777778,\"#fb9f3a\"],[0.8888888888888888,\"#fdca26\"],[1.0,\"#f0f921\"]],\"type\":\"histogram2dcontour\"}],\"mesh3d\":[{\"colorbar\":{\"outlinewidth\":0,\"ticks\":\"\"},\"type\":\"mesh3d\"}],\"parcoords\":[{\"line\":{\"colorbar\":{\"outlinewidth\":0,\"ticks\":\"\"}},\"type\":\"parcoords\"}],\"pie\":[{\"automargin\":true,\"type\":\"pie\"}],\"scatter\":[{\"marker\":{\"colorbar\":{\"outlinewidth\":0,\"ticks\":\"\"}},\"type\":\"scatter\"}],\"scatter3d\":[{\"line\":{\"colorbar\":{\"outlinewidth\":0,\"ticks\":\"\"}},\"marker\":{\"colorbar\":{\"outlinewidth\":0,\"ticks\":\"\"}},\"type\":\"scatter3d\"}],\"scattercarpet\":[{\"marker\":{\"colorbar\":{\"outlinewidth\":0,\"ticks\":\"\"}},\"type\":\"scattercarpet\"}],\"scattergeo\":[{\"marker\":{\"colorbar\":{\"outlinewidth\":0,\"ticks\":\"\"}},\"type\":\"scattergeo\"}],\"scattergl\":[{\"marker\":{\"colorbar\":{\"outlinewidth\":0,\"ticks\":\"\"}},\"type\":\"scattergl\"}],\"scattermapbox\":[{\"marker\":{\"colorbar\":{\"outlinewidth\":0,\"ticks\":\"\"}},\"type\":\"scattermapbox\"}],\"scatterpolar\":[{\"marker\":{\"colorbar\":{\"outlinewidth\":0,\"ticks\":\"\"}},\"type\":\"scatterpolar\"}],\"scatterpolargl\":[{\"marker\":{\"colorbar\":{\"outlinewidth\":0,\"ticks\":\"\"}},\"type\":\"scatterpolargl\"}],\"scatterternary\":[{\"marker\":{\"colorbar\":{\"outlinewidth\":0,\"ticks\":\"\"}},\"type\":\"scatterternary\"}],\"surface\":[{\"colorbar\":{\"outlinewidth\":0,\"ticks\":\"\"},\"colorscale\":[[0.0,\"#0d0887\"],[0.1111111111111111,\"#46039f\"],[0.2222222222222222,\"#7201a8\"],[0.3333333333333333,\"#9c179e\"],[0.4444444444444444,\"#bd3786\"],[0.5555555555555556,\"#d8576b\"],[0.6666666666666666,\"#ed7953\"],[0.7777777777777778,\"#fb9f3a\"],[0.8888888888888888,\"#fdca26\"],[1.0,\"#f0f921\"]],\"type\":\"surface\"}],\"table\":[{\"cells\":{\"fill\":{\"color\":\"#EBF0F8\"},\"line\":{\"color\":\"white\"}},\"header\":{\"fill\":{\"color\":\"#C8D4E3\"},\"line\":{\"color\":\"white\"}},\"type\":\"table\"}]},\"layout\":{\"annotationdefaults\":{\"arrowcolor\":\"#2a3f5f\",\"arrowhead\":0,\"arrowwidth\":1},\"autotypenumbers\":\"strict\",\"coloraxis\":{\"colorbar\":{\"outlinewidth\":0,\"ticks\":\"\"}},\"colorscale\":{\"diverging\":[[0,\"#8e0152\"],[0.1,\"#c51b7d\"],[0.2,\"#de77ae\"],[0.3,\"#f1b6da\"],[0.4,\"#fde0ef\"],[0.5,\"#f7f7f7\"],[0.6,\"#e6f5d0\"],[0.7,\"#b8e186\"],[0.8,\"#7fbc41\"],[0.9,\"#4d9221\"],[1,\"#276419\"]],\"sequential\":[[0.0,\"#0d0887\"],[0.1111111111111111,\"#46039f\"],[0.2222222222222222,\"#7201a8\"],[0.3333333333333333,\"#9c179e\"],[0.4444444444444444,\"#bd3786\"],[0.5555555555555556,\"#d8576b\"],[0.6666666666666666,\"#ed7953\"],[0.7777777777777778,\"#fb9f3a\"],[0.8888888888888888,\"#fdca26\"],[1.0,\"#f0f921\"]],\"sequentialminus\":[[0.0,\"#0d0887\"],[0.1111111111111111,\"#46039f\"],[0.2222222222222222,\"#7201a8\"],[0.3333333333333333,\"#9c179e\"],[0.4444444444444444,\"#bd3786\"],[0.5555555555555556,\"#d8576b\"],[0.6666666666666666,\"#ed7953\"],[0.7777777777777778,\"#fb9f3a\"],[0.8888888888888888,\"#fdca26\"],[1.0,\"#f0f921\"]]},\"colorway\":[\"#636efa\",\"#EF553B\",\"#00cc96\",\"#ab63fa\",\"#FFA15A\",\"#19d3f3\",\"#FF6692\",\"#B6E880\",\"#FF97FF\",\"#FECB52\"],\"font\":{\"color\":\"#2a3f5f\"},\"geo\":{\"bgcolor\":\"white\",\"lakecolor\":\"white\",\"landcolor\":\"white\",\"showlakes\":true,\"showland\":true,\"subunitcolor\":\"#C8D4E3\"},\"hoverlabel\":{\"align\":\"left\"},\"hovermode\":\"closest\",\"mapbox\":{\"style\":\"light\"},\"paper_bgcolor\":\"white\",\"plot_bgcolor\":\"white\",\"polar\":{\"angularaxis\":{\"gridcolor\":\"#EBF0F8\",\"linecolor\":\"#EBF0F8\",\"ticks\":\"\"},\"bgcolor\":\"white\",\"radialaxis\":{\"gridcolor\":\"#EBF0F8\",\"linecolor\":\"#EBF0F8\",\"ticks\":\"\"}},\"scene\":{\"xaxis\":{\"backgroundcolor\":\"white\",\"gridcolor\":\"#DFE8F3\",\"gridwidth\":2,\"linecolor\":\"#EBF0F8\",\"showbackground\":true,\"ticks\":\"\",\"zerolinecolor\":\"#EBF0F8\"},\"yaxis\":{\"backgroundcolor\":\"white\",\"gridcolor\":\"#DFE8F3\",\"gridwidth\":2,\"linecolor\":\"#EBF0F8\",\"showbackground\":true,\"ticks\":\"\",\"zerolinecolor\":\"#EBF0F8\"},\"zaxis\":{\"backgroundcolor\":\"white\",\"gridcolor\":\"#DFE8F3\",\"gridwidth\":2,\"linecolor\":\"#EBF0F8\",\"showbackground\":true,\"ticks\":\"\",\"zerolinecolor\":\"#EBF0F8\"}},\"shapedefaults\":{\"line\":{\"color\":\"#2a3f5f\"}},\"ternary\":{\"aaxis\":{\"gridcolor\":\"#DFE8F3\",\"linecolor\":\"#A2B1C6\",\"ticks\":\"\"},\"baxis\":{\"gridcolor\":\"#DFE8F3\",\"linecolor\":\"#A2B1C6\",\"ticks\":\"\"},\"bgcolor\":\"white\",\"caxis\":{\"gridcolor\":\"#DFE8F3\",\"linecolor\":\"#A2B1C6\",\"ticks\":\"\"}},\"title\":{\"x\":0.05},\"xaxis\":{\"automargin\":true,\"gridcolor\":\"#EBF0F8\",\"linecolor\":\"#EBF0F8\",\"ticks\":\"\",\"title\":{\"standoff\":15},\"zerolinecolor\":\"#EBF0F8\",\"zerolinewidth\":2},\"yaxis\":{\"automargin\":true,\"gridcolor\":\"#EBF0F8\",\"linecolor\":\"#EBF0F8\",\"ticks\":\"\",\"title\":{\"standoff\":15},\"zerolinecolor\":\"#EBF0F8\",\"zerolinewidth\":2}}},\"title\":{\"text\":\"[2021-09-05 08:50:12 AM] Episode: 2/2 Step: 151/200\"},\"xaxis\":{\"anchor\":\"y\",\"domain\":[0.0,1.0],\"gridcolor\":\"Gainsboro\",\"linecolor\":\"Grey\",\"matches\":\"x4\",\"rangeslider\":{\"visible\":false},\"showticklabels\":false,\"title\":{\"font\":{\"size\":12},\"standoff\":7,\"text\":\"Price\"}},\"xaxis2\":{\"anchor\":\"y2\",\"domain\":[0.0,1.0],\"gridcolor\":\"Gainsboro\",\"linecolor\":\"Grey\",\"matches\":\"x4\",\"showticklabels\":false,\"title\":{\"font\":{\"size\":12},\"standoff\":7,\"text\":\"Volume\"}},\"xaxis3\":{\"anchor\":\"y3\",\"domain\":[0.0,1.0],\"gridcolor\":\"Gainsboro\",\"linecolor\":\"Grey\",\"matches\":\"x4\",\"showticklabels\":false,\"title\":{\"font\":{\"size\":12},\"standoff\":7,\"text\":\"Performance\"}},\"xaxis4\":{\"anchor\":\"y4\",\"domain\":[0.0,1.0],\"gridcolor\":\"Gainsboro\",\"linecolor\":\"Grey\",\"title\":{\"font\":{\"size\":12},\"standoff\":7,\"text\":\"Net Worth\"}},\"yaxis\":{\"anchor\":\"x\",\"domain\":[0.49950000000000006,1.0],\"gridcolor\":\"Gainsboro\",\"linecolor\":\"Grey\"},\"yaxis2\":{\"anchor\":\"x2\",\"domain\":[0.333,0.46950000000000003],\"gridcolor\":\"Gainsboro\",\"linecolor\":\"Grey\"},\"yaxis3\":{\"anchor\":\"x3\",\"domain\":[0.1665,0.30300000000000005],\"gridcolor\":\"Gainsboro\",\"linecolor\":\"Grey\"},\"yaxis4\":{\"anchor\":\"x4\",\"domain\":[0.0,0.1365],\"gridcolor\":\"Gainsboro\",\"linecolor\":\"Grey\"}},                        {\"responsive\": true}                    ).then(function(){\n",
       "                            \n",
       "var gd = document.getElementById('7863188b-39b9-413d-89ef-e351c7472099');\n",
       "var x = new MutationObserver(function (mutations, observer) {{\n",
       "        var display = window.getComputedStyle(gd).display;\n",
       "        if (!display || display === 'none') {{\n",
       "            console.log([gd, 'removed!']);\n",
       "            Plotly.purge(gd);\n",
       "            observer.disconnect();\n",
       "        }}\n",
       "}});\n",
       "\n",
       "// Listen for the removal of the full notebook cells\n",
       "var notebookContainer = gd.closest('#notebook-container');\n",
       "if (notebookContainer) {{\n",
       "    x.observe(notebookContainer, {childList: true});\n",
       "}}\n",
       "\n",
       "// Listen for the clearing of the current output cell\n",
       "var outputEl = gd.closest('.output');\n",
       "if (outputEl) {{\n",
       "    x.observe(outputEl, {childList: true});\n",
       "}}\n",
       "\n",
       "                        })                };                            </script>        </div>\n",
       "</body>\n",
       "</html>"
      ]
     },
     "metadata": {},
     "output_type": "display_data"
    },
    {
     "data": {
      "application/vnd.jupyter.widget-view+json": {
       "model_id": "9bcf0bbf1c1c49859a2dfa40acce1038",
       "version_major": 2,
       "version_minor": 0
      },
      "text/plain": [
       "FigureWidget({\n",
       "    'data': [{'close': array([8740.99, 8739.  , 8728.49, 8708.32, 8795.9 , 8760.  , 8760.  , 87…"
      ]
     },
     "metadata": {},
     "output_type": "display_data"
    },
    {
     "data": {
      "text/html": [
       "<html>\n",
       "<head><meta charset=\"utf-8\" /></head>\n",
       "<body>\n",
       "    <div>            <script src=\"https://cdnjs.cloudflare.com/ajax/libs/mathjax/2.7.5/MathJax.js?config=TeX-AMS-MML_SVG\"></script><script type=\"text/javascript\">if (window.MathJax) {MathJax.Hub.Config({SVG: {font: \"STIX-Web\"}});}</script>                <script type=\"text/javascript\">window.PlotlyConfig = {MathJaxConfig: 'local'};</script>\n",
       "        <script src=\"https://cdn.plot.ly/plotly-2.4.2.min.js\"></script>                <div id=\"da05c8ab-8860-489a-9f3c-6020fe484149\" class=\"plotly-graph-div\" style=\"height:525px; width:100%;\"></div>            <script type=\"text/javascript\">                                    window.PLOTLYENV=window.PLOTLYENV || {};                                    if (document.getElementById(\"da05c8ab-8860-489a-9f3c-6020fe484149\")) {                    Plotly.newPlot(                        \"da05c8ab-8860-489a-9f3c-6020fe484149\",                        [{\"close\":[8740.99,8739.0,8728.49,8708.32,8795.9,8760.0,8760.0,8759.23,8517.77,8520.3,8535.23,8546.34,8526.65,8555.6,8512.1,8492.28,8460.0,8474.99,8455.92,8326.28,8133.43,8164.79,8229.38,8220.4,8238.8,8232.99,8207.48,8243.45,8371.13,8373.0,8365.08,8179.99,8225.0,8285.8,8273.4,8297.4,8279.89,8252.72,8302.18,8295.85,8277.25,8346.59,8358.3,8375.1,8368.62,8366.72,8314.77,8363.7,8344.16,8247.4,8277.4,8291.67,8307.89,8298.9,8269.47,8300.98,8318.49,8306.39,8276.43,8257.69,8166.0,8176.33,8200.7,8155.41,8080.0,8067.03,7958.08,7974.25,7998.5,7991.99,8022.7,8042.97,7965.67,8088.95,8122.19,8107.99,8137.73,8115.0,8107.0,8094.4,8080.01,8117.09,8126.99,8110.95,8215.39,8231.42,8240.13,8235.0,8219.9,8248.87,8213.5,8200.99,8200.0,8237.3,8228.13,8240.83,8214.9,8170.07,8229.87,8205.87,8252.56,8365.0,8348.65,8303.99,8310.48,8310.0,8289.87,8304.99,8301.35,8313.12,8240.07,8199.99,8226.98,8231.2,8198.89,8215.85,8279.99,8255.08,8270.4,8244.24,8239.12,8267.14,8282.27,8350.62,8336.6,8336.91,8311.21,8312.09,8345.19,8377.2,8481.11,8516.36,8524.0,8517.04,8558.5,8521.99,8484.93,8518.48,8488.99,8466.72,8492.55,8494.28,8510.95,8498.64,8551.1,8524.22,8510.11,8475.62,8476.58,8467.13,8499.84,8490.42,8407.09,8409.42,8400.96,8383.14,8350.0,8373.01,8412.8,8385.57,8408.53,8391.76,8367.36,8280.24,8297.91,8333.99,8285.29,8280.0,8317.02,8320.16,8295.9,8245.47,8264.98,8200.0,8170.0,8217.0,8231.63,8232.8,8225.38,8200.01,8219.98,8187.98,8100.32,8076.99,7964.73,7984.08,7949.35,7900.61,7895.5,7960.0,7900.0,7921.99,7943.07,7856.37,7848.3,7852.68,7847.1,7849.31,7911.83,7901.01,7887.0],\"high\":[8796.68,8766.0,8750.27,8754.4,8865.0,8821.19,8798.6,8771.02,8761.7,8553.67,8589.1,8579.48,8555.51,8583.6,8569.92,8555.54,8557.51,8505.0,8505.33,8478.29,8339.81,8217.44,8252.72,8248.63,8267.12,8255.0,8261.24,8263.93,8455.66,8439.44,8399.1,8381.73,8229.91,8377.29,8329.1,8350.0,8346.95,8377.29,8311.35,8319.96,8398.24,8372.58,8399.99,8386.53,8400.0,8500.0,8381.0,8371.3,8382.41,8351.0,8292.99,8325.8,8318.99,8324.9,8335.56,8309.4,8377.29,8330.41,8328.23,8284.36,8274.83,8200.0,8232.14,8213.97,8155.41,8108.28,8068.92,8019.9,8026.66,8025.0,8104.69,8061.39,8045.99,8170.71,8144.16,8139.99,8152.99,8137.73,8143.72,8129.99,8106.76,8139.0,8152.04,8146.99,8232.14,8275.1,8256.12,8274.1,8255.8,8253.97,8261.09,8235.76,8227.0,8273.36,8264.21,8250.0,8250.86,8235.77,8232.12,8232.14,8252.72,8370.0,8395.0,8374.48,8331.0,8319.43,8323.4,8314.55,8330.62,8314.8,8323.99,8263.03,8247.78,8253.75,8237.89,8235.0,8279.99,8290.0,8278.71,8275.34,8279.31,8279.98,8294.04,8356.4,8374.94,8354.83,8360.45,8337.14,8351.97,8377.29,8549.0,8531.9,8551.79,8529.9,8590.0,8576.1,8549.89,8531.89,8550.0,8493.29,8522.98,8517.0,8537.29,8524.51,8589.1,8589.07,8536.92,8524.03,8497.8,8498.0,8513.5,8510.0,8494.7,8427.29,8419.03,8415.47,8389.99,8397.57,8455.0,8429.66,8412.61,8424.0,8417.65,8369.7,8326.5,8336.65,8333.99,8314.32,8355.97,8333.49,8325.6,8296.01,8264.98,8271.31,8200.0,8232.14,8246.0,8248.94,8259.95,8242.49,8232.04,8230.9,8205.0,8118.98,8103.07,8040.95,8032.01,7960.25,7920.0,7960.0,7960.0,7935.0,7960.99,7951.38,7888.92,7870.0,7909.75,7882.27,7949.27,7944.73,7916.48],\"low\":[8707.28,8721.11,8660.53,8701.35,8695.11,8740.54,8741.52,8700.0,8467.42,8477.89,8500.78,8500.0,8400.0,8451.05,8461.38,8481.24,8420.37,8450.0,8430.94,8275.02,8100.01,8122.56,8157.01,8166.25,8176.91,8213.79,8200.0,8207.48,8237.1,8370.0,8356.4,8145.1,8173.6,8211.8,8201.0,8250.9,8266.46,8252.72,8232.14,8268.37,8277.25,8277.25,8314.78,8314.77,8350.07,8331.39,8314.77,8275.45,8335.49,8191.14,8227.7,8264.13,8249.93,8269.52,8219.44,8262.68,8286.65,8289.87,8232.14,8232.14,8110.02,8154.95,8168.6,8151.0,7980.0,8005.95,7929.53,7931.03,7950.0,7980.58,7991.99,7992.75,7953.4,7965.67,8085.94,8078.48,8092.9,8049.22,8079.46,8062.12,8043.96,8063.1,8088.46,8094.43,8088.46,8191.14,8212.0,8224.5,8211.0,8211.01,8210.03,8158.27,8177.65,8179.41,8221.92,8217.32,8213.52,8141.08,8146.1,8186.03,8197.09,8231.21,8323.82,8296.0,8296.31,8282.65,8280.0,8273.36,8290.08,8277.93,8240.07,8191.14,8178.0,8193.7,8180.0,8170.71,8215.53,8240.02,8237.17,8237.17,8239.12,8227.79,8247.57,8274.24,8326.1,8320.61,8281.31,8269.85,8311.16,8336.11,8369.86,8471.51,8511.0,8476.66,8507.68,8509.24,8482.53,8484.93,8450.0,8434.47,8461.1,8481.0,8480.0,8488.1,8471.09,8509.2,8482.64,8469.0,8440.4,8440.52,8461.8,8480.0,8358.17,8380.73,8370.0,8383.12,8320.0,8349.17,8357.11,8370.58,8367.21,8376.99,8335.6,8252.72,8264.49,8282.59,8271.09,8261.52,8280.0,8297.0,8290.0,8220.0,8230.45,8180.0,8119.38,8170.0,8189.84,8210.76,8212.68,8200.0,8186.0,8161.77,8063.15,8050.01,7951.41,7964.73,7949.35,7861.32,7865.0,7886.48,7870.35,7885.2,7896.41,7811.62,7808.05,7808.0,7836.79,7801.02,7847.36,7883.0,7850.72],\"name\":\"Price\",\"open\":[8733.86,8740.99,8739.0,8728.49,8708.32,8795.9,8760.0,8760.0,8759.23,8517.77,8520.3,8535.23,8546.34,8526.65,8555.6,8512.1,8492.28,8460.0,8474.99,8455.92,8326.28,8133.43,8164.79,8229.38,8220.4,8238.8,8232.99,8207.48,8243.45,8371.13,8373.0,8365.08,8179.99,8225.0,8285.8,8273.4,8297.4,8279.89,8252.72,8302.18,8295.85,8277.25,8346.59,8358.3,8375.1,8368.62,8366.72,8314.77,8363.7,8344.16,8247.4,8277.4,8291.67,8307.89,8298.9,8269.47,8300.98,8318.49,8306.39,8276.43,8257.69,8166.0,8176.33,8200.7,8155.41,8080.0,8067.03,7958.08,7974.25,7998.5,7991.99,8022.7,8042.97,7965.67,8088.95,8122.19,8107.99,8137.73,8115.0,8107.0,8094.4,8080.01,8117.09,8126.99,8110.95,8215.39,8231.42,8240.13,8235.0,8219.9,8248.87,8213.5,8200.99,8200.0,8237.3,8228.13,8240.83,8214.9,8170.07,8229.87,8205.87,8252.56,8365.0,8348.65,8303.99,8310.48,8310.0,8289.87,8304.99,8301.35,8313.12,8240.07,8199.99,8226.98,8231.2,8198.89,8215.85,8279.99,8255.08,8270.4,8244.24,8239.12,8267.14,8282.27,8350.62,8336.6,8336.91,8311.21,8312.09,8345.19,8377.2,8481.11,8516.36,8524.0,8517.04,8558.5,8521.99,8484.93,8518.48,8488.99,8466.72,8492.55,8494.28,8510.95,8498.64,8551.1,8524.22,8510.11,8475.62,8476.58,8467.13,8499.84,8490.42,8407.09,8409.42,8400.96,8383.14,8350.0,8373.01,8412.8,8385.57,8408.53,8391.76,8367.36,8280.24,8297.91,8333.99,8285.29,8280.0,8317.02,8320.16,8295.9,8245.47,8264.98,8200.0,8170.0,8217.0,8231.63,8232.8,8225.38,8200.01,8219.98,8187.98,8100.32,8076.99,7964.73,7984.08,7949.35,7900.61,7895.5,7960.0,7900.0,7921.99,7943.07,7856.37,7848.3,7852.68,7847.1,7849.31,7911.83,7901.01],\"showlegend\":false,\"type\":\"candlestick\",\"uid\":\"01cfb1c8-0b02-4886-8b0a-96261fa2aa5c\",\"xaxis\":\"x\",\"yaxis\":\"y\"},{\"marker\":{\"color\":\"DodgerBlue\"},\"name\":\"Volume\",\"showlegend\":false,\"type\":\"bar\",\"uid\":\"2a7afce9-70fd-4d19-aed6-6facf6c7ebb6\",\"xaxis\":\"x2\",\"y\":[559.93,273.58,917.79,182.62,1260.69,324.11,324.2,730.67,1341.75,792.07,385.69,475.08,877.26,670.49,610.97,168.99,305.92,136.05,154.26,1070.93,1710.2,492.8,630.72,620.93,586.34,304.52,450.97,182.36,915.32,319.29,362.01,1046.38,357.91,561.2,322.53,1073.71,237.21,251.2,359.73,117.23,363.17,214.18,171.64,258.58,299.52,718.98,119.7,405.25,210.77,714.82,215.97,164.2,201.55,203.41,886.82,95.49,499.67,172.77,355.39,255.27,591.06,133.1,149.13,87.55,1061.54,286.94,524.42,316.0,441.43,189.7,844.94,155.34,257.56,610.69,217.97,173.18,218.06,372.97,484.39,248.1,162.35,303.42,290.69,160.93,369.4,487.27,93.35,96.68,72.14,90.22,168.52,203.15,71.42,464.56,57.0,89.42,49.47,200.05,254.37,65.05,118.19,452.4,181.03,288.04,145.78,110.14,55.48,80.87,67.01,59.16,121.26,244.37,156.87,80.48,139.32,93.52,200.23,97.4,68.08,47.0,36.65,28.75,182.85,400.18,288.1,182.94,777.81,493.59,118.63,174.37,901.75,222.45,113.8,84.2,261.44,168.78,111.07,122.12,267.32,210.39,211.36,146.22,93.39,89.04,307.59,307.2,164.24,151.21,399.77,362.01,260.85,232.32,1109.45,348.5,210.57,274.92,277.83,99.57,273.12,129.47,113.05,87.6,159.37,433.28,133.29,200.57,210.33,206.4,357.53,107.43,116.54,479.07,290.38,812.96,1542.87,430.36,312.54,132.75,333.64,205.86,120.33,263.1,457.64,451.55,962.22,381.04,386.95,905.87,453.48,542.31,476.48,341.79,654.23,769.1,719.94,523.05,409.37,255.12,551.86,340.62,488.69],\"yaxis\":\"y2\"},{\"mode\":\"lines\",\"name\":\"bitstamp:/USD-BTC\",\"type\":\"scatter\",\"uid\":\"aa25b938-fd39-4f85-817e-a103f1cfec50\",\"xaxis\":\"x3\",\"y\":[8740.99,8739.0,8728.49,8708.32,8795.9,8760.0,8760.0,8759.23,8517.77,8520.3,8535.23,8546.34,8526.65,8555.6,8512.1,8492.28,8460.0,8474.99,8455.92,8326.28,8133.43,8164.79,8229.38,8220.4,8238.8,8232.99,8207.48,8243.45,8371.13,8373.0,8365.08,8179.99,8225.0,8285.8,8273.4,8297.4,8279.89,8252.72,8302.18,8295.85,8277.25,8346.59,8358.3,8375.1,8368.62,8366.72,8314.77,8363.7,8344.16,8247.4,8277.4,8291.67,8307.89,8298.9,8269.47,8300.98,8318.49,8306.39,8276.43,8257.69,8166.0,8176.33,8200.7,8155.41,8080.0,8067.03,7958.08,7974.25,7998.5,7991.99,8022.7,8042.97,7965.67,8088.95,8122.19,8107.99,8137.73,8115.0,8107.0,8094.4,8080.01,8117.09,8126.99,8110.95,8215.39,8231.42,8240.13,8235.0,8219.9,8248.87,8213.5,8200.99,8200.0,8237.3,8228.13,8240.83,8214.9,8170.07,8229.87,8205.87,8252.56,8365.0,8348.65,8303.99,8310.48,8310.0,8289.87,8304.99,8301.35,8313.12,8240.07,8199.99,8226.98,8231.2,8198.89,8215.85,8279.99,8255.08,8270.4,8244.24,8239.12,8267.14,8282.27,8350.62,8336.6,8336.91,8311.21,8312.09,8345.19,8377.2,8481.11,8516.36,8524.0,8517.04,8558.5,8521.99,8484.93,8518.48,8488.99,8466.72,8492.55,8494.28,8510.95,8498.64,8551.1,8524.22,8510.11,8475.62,8476.58,8467.13,8499.84,8490.42,8407.09,8409.42,8400.96,8383.14,8350.0,8373.01,8412.8,8385.57,8408.53,8391.76,8367.36,8280.24,8297.91,8333.99,8285.29,8280.0,8317.02,8320.16,8295.9,8245.47,8264.98,8200.0,8170.0,8217.0,8231.63,8232.8,8225.38,8200.01,8219.98,8187.98,8100.32,8076.99,7964.73,7984.08,7949.35,7900.61,7895.5,7960.0,7900.0,7921.99,7943.07,7856.37,7848.3,7852.68,7847.1,7849.31,7911.83,7901.01,7887.0],\"yaxis\":\"y3\"},{\"mode\":\"lines\",\"name\":\"bitstamp:/USD:/free\",\"type\":\"scatter\",\"uid\":\"a0fc54b0-38cc-433f-9e09-2e99cd52dd35\",\"xaxis\":\"x3\",\"y\":[10000.0,10000.0,10000.0,10000.0,10000.0,10000.0,10000.0,10000.0,10000.0,4000.0,4000.0,4000.0,4000.0,4000.0,800.0,800.0,800.0,800.0,800.0,800.0,3895.57,9590.51,9590.51,9590.51,9590.51,9590.51,9590.51,9590.51,7672.41,7672.41,7672.41,7672.41,7672.41,7672.41,7672.41,7672.41,7672.41,7672.41,7672.41,7672.41,3836.21,3836.21,3836.21,3836.21,3836.21,3836.21,3836.21,3836.21,3836.21,3836.21,3836.21,3836.21,3836.21,0.0,0.0,0.0,0.0,0.0,0.0,0.0,0.0,0.0,0.0,0.0,0.0,0.0,0.0,7310.63,7310.63,7310.63,7310.63,7310.63,7310.63,7310.63,7310.63,7310.63,7310.63,7310.63,7310.63,7310.63,7310.63,7310.63,7310.63,7310.63,2924.25,7340.49,4404.29,4404.29,4404.29,4404.29,4404.29,4404.29,4404.29,4404.29,4404.29,4404.29,4404.29,4404.29,4404.29,4404.29,4404.29,4404.29,4404.29,4404.29,4404.29,4404.29,4404.29,4404.29,4404.29,4404.29,4404.29,4404.29,4404.29,4404.29,4404.29,4404.29,4404.29,4404.29,4404.29,4404.29,4404.29,4404.29,4404.29,4404.29,4404.29,4404.29,4404.29,2202.15,2202.15,2202.15,2202.15,7442.98,9412.71,3765.08,3765.08,3765.08,3765.08,3765.08,3765.08,1129.52,1129.52,1129.52,1129.52,1129.52,1129.52,1129.52,1129.52,1129.52,1129.52,1129.52,1129.52,1129.52,1129.52,1129.52,1129.52,1129.52,1129.52,1129.52,1129.52,1129.52,1129.52,1129.52,1129.52,1129.52,1129.52,1129.52,1129.52,1129.52,1129.52,1129.52,1129.52,1129.52,1129.52,1129.52,1129.52,6510.18,6510.18,6510.18,6510.18,6510.18,6510.18,6510.18,6510.18,6510.18,1953.05,4411.03,4411.03,4411.03,4411.03,2205.52,2205.52,2205.52,2205.52,2205.52,2205.52,2205.52,2205.52,2205.52,2205.52,2205.52,2205.52],\"yaxis\":\"y3\"},{\"mode\":\"lines\",\"name\":\"bitstamp:/USD:/locked\",\"type\":\"scatter\",\"uid\":\"2722bdc7-4f3f-44bf-abd7-c617032d27e5\",\"xaxis\":\"x3\",\"y\":[0.0,0.0,0.0,0.0,0.0,0.0,0.0,0.0,0.0,0.0,0.0,0.0,0.0,0.0,0.0,0.0,0.0,0.0,0.0,0.0,0.0,0.0,0.0,0.0,0.0,0.0,0.0,0.0,0.0,0.0,0.0,0.0,0.0,0.0,0.0,0.0,0.0,0.0,0.0,0.0,0.0,0.0,0.0,0.0,0.0,0.0,0.0,0.0,0.0,0.0,0.0,0.0,0.0,0.0,0.0,0.0,0.0,0.0,0.0,0.0,0.0,0.0,0.0,0.0,0.0,0.0,0.0,0.0,0.0,0.0,0.0,0.0,0.0,0.0,0.0,0.0,0.0,0.0,0.0,0.0,0.0,0.0,0.0,0.0,0.0,0.0,0.0,0.0,0.0,0.0,0.0,0.0,0.0,0.0,0.0,0.0,0.0,0.0,0.0,0.0,0.0,0.0,0.0,0.0,0.0,0.0,0.0,0.0,0.0,0.0,0.0,0.0,0.0,0.0,0.0,0.0,0.0,0.0,0.0,0.0,0.0,0.0,0.0,0.0,0.0,0.0,0.0,0.0,0.0,0.0,0.0,0.0,0.0,0.0,0.0,0.0,0.0,0.0,0.0,0.0,0.0,0.0,0.0,0.0,0.0,0.0,0.0,0.0,0.0,0.0,0.0,0.0,0.0,0.0,0.0,0.0,0.0,0.0,0.0,0.0,0.0,0.0,0.0,0.0,0.0,0.0,0.0,0.0,0.0,0.0,0.0,0.0,0.0,0.0,0.0,0.0,0.0,0.0,0.0,0.0,0.0,0.0,0.0,0.0,0.0,0.0,0.0,0.0,0.0,0.0,0.0,0.0,0.0,0.0,0.0,0.0,0.0,0.0,0.0,0.0,0.0],\"yaxis\":\"y3\"},{\"mode\":\"lines\",\"name\":\"bitstamp:/USD:/total\",\"type\":\"scatter\",\"uid\":\"50a887ba-dc1c-49e1-9919-2c6a5f1ce675\",\"xaxis\":\"x3\",\"y\":[10000.0,10000.0,10000.0,10000.0,10000.0,10000.0,10000.0,10000.0,10000.0,4000.0,4000.0,4000.0,4000.0,4000.0,800.0,800.0,800.0,800.0,800.0,800.0,3895.57,9590.51,9590.51,9590.51,9590.51,9590.51,9590.51,9590.51,7672.41,7672.41,7672.41,7672.41,7672.41,7672.41,7672.41,7672.41,7672.41,7672.41,7672.41,7672.41,3836.21,3836.21,3836.21,3836.21,3836.21,3836.21,3836.21,3836.21,3836.21,3836.21,3836.21,3836.21,3836.21,0.0,0.0,0.0,0.0,0.0,0.0,0.0,0.0,0.0,0.0,0.0,0.0,0.0,0.0,7310.63,7310.63,7310.63,7310.63,7310.63,7310.63,7310.63,7310.63,7310.63,7310.63,7310.63,7310.63,7310.63,7310.63,7310.63,7310.63,7310.63,2924.25,7340.49,4404.29,4404.29,4404.29,4404.29,4404.29,4404.29,4404.29,4404.29,4404.29,4404.29,4404.29,4404.29,4404.29,4404.29,4404.29,4404.29,4404.29,4404.29,4404.29,4404.29,4404.29,4404.29,4404.29,4404.29,4404.29,4404.29,4404.29,4404.29,4404.29,4404.29,4404.29,4404.29,4404.29,4404.29,4404.29,4404.29,4404.29,4404.29,4404.29,4404.29,4404.29,2202.15,2202.15,2202.15,2202.15,7442.98,9412.71,3765.08,3765.08,3765.08,3765.08,3765.08,3765.08,1129.52,1129.52,1129.52,1129.52,1129.52,1129.52,1129.52,1129.52,1129.52,1129.52,1129.52,1129.52,1129.52,1129.52,1129.52,1129.52,1129.52,1129.52,1129.52,1129.52,1129.52,1129.52,1129.52,1129.52,1129.52,1129.52,1129.52,1129.52,1129.52,1129.52,1129.52,1129.52,1129.52,1129.52,1129.52,1129.52,6510.18,6510.18,6510.18,6510.18,6510.18,6510.18,6510.18,6510.18,6510.18,1953.05,4411.03,4411.03,4411.03,4411.03,2205.52,2205.52,2205.52,2205.52,2205.52,2205.52,2205.52,2205.52,2205.52,2205.52,2205.52,2205.52],\"yaxis\":\"y3\"},{\"mode\":\"lines\",\"name\":\"bitstamp:/BTC:/free\",\"type\":\"scatter\",\"uid\":\"6a76eb19-21b7-4b89-a4c7-dd64c09913ed\",\"xaxis\":\"x3\",\"y\":[10.0,10.0,10.0,10.0,10.0,10.0,10.0,10.0,10.0,10.0,10.0,10.0,10.0,10.0,10.0,10.0,10.0,10.0,10.0,10.0,10.0,10.0,10.0,10.0,10.0,10.0,10.0,10.0,10.0,10.0,10.0,10.0,10.0,10.0,10.0,10.0,10.0,10.0,10.0,10.0,10.0,10.0,10.0,10.0,10.0,10.0,10.0,10.0,10.0,10.0,10.0,10.0,10.0,10.0,10.0,10.0,10.0,10.0,10.0,10.0,10.0,10.0,10.0,10.0,10.0,10.0,10.0,10.0,10.0,10.0,10.0,10.0,10.0,10.0,10.0,10.0,10.0,10.0,10.0,10.0,10.0,10.0,10.0,10.0,10.0,10.0,10.0,10.0,10.0,10.0,10.0,10.0,10.0,10.0,10.0,10.0,10.0,10.0,10.0,10.0,10.0,10.0,10.0,10.0,10.0,10.0,10.0,10.0,10.0,10.0,10.0,10.0,10.0,10.0,10.0,10.0,10.0,10.0,10.0,10.0,10.0,10.0,10.0,10.0,10.0,10.0,10.0,10.0,10.0,10.0,10.0,10.0,10.0,10.0,10.0,10.0,10.0,10.0,10.0,10.0,10.0,10.0,10.0,10.0,10.0,10.0,10.0,10.0,10.0,10.0,10.0,10.0,10.0,10.0,10.0,10.0,10.0,10.0,10.0,10.0,10.0,10.0,10.0,10.0,10.0,10.0,10.0,10.0,10.0,10.0,10.0,10.0,10.0,10.0,10.0,10.0,10.0,10.0,10.0,10.0,10.0,10.0,10.0,10.0,10.0,10.0,10.0,10.0,10.0,10.0,10.0,10.0,10.0,10.0,10.0,10.0,10.0,10.0,10.0,10.0,10.0],\"yaxis\":\"y3\"},{\"mode\":\"lines\",\"name\":\"bitstamp:/BTC:/locked\",\"type\":\"scatter\",\"uid\":\"5ab63988-9d48-4993-9003-f90c3460589b\",\"xaxis\":\"x3\",\"y\":[0.0,0.0,0.0,0.0,0.0,0.0,0.0,0.0,0.0,0.70229649,0.70229649,0.70229649,0.70229649,0.70229649,1.07519845,1.07519845,1.07519845,1.07519845,1.07519845,1.07519845,0.70229649,0.0,0.0,0.0,0.0,0.0,0.0,0.0,0.23198418,0.23198418,0.23198418,0.23198418,0.23198418,0.23198418,0.23198418,0.23198418,0.23198418,0.23198418,0.23198418,0.23198418,0.69302072,0.69302072,0.69302072,0.69302072,0.69302072,0.69302072,0.69302072,0.69302072,0.69302072,0.69302072,0.69302072,0.69302072,0.69302072,1.15339032,1.15339032,1.15339032,1.15339032,1.15339032,1.15339032,1.15339032,1.15339032,1.15339032,1.15339032,1.15339032,1.15339032,1.15339032,1.15339032,0.23198418,0.23198418,0.23198418,0.23198418,0.23198418,0.23198418,0.23198418,0.23198418,0.23198418,0.23198418,0.23198418,0.23198418,0.23198418,0.23198418,0.23198418,0.23198418,0.23198418,0.771159,0.23198418,0.58762027,0.58762027,0.58762027,0.58762027,0.58762027,0.58762027,0.58762027,0.58762027,0.58762027,0.58762027,0.58762027,0.58762027,0.58762027,0.58762027,0.58762027,0.58762027,0.58762027,0.58762027,0.58762027,0.58762027,0.58762027,0.58762027,0.58762027,0.58762027,0.58762027,0.58762027,0.58762027,0.58762027,0.58762027,0.58762027,0.58762027,0.58762027,0.58762027,0.58762027,0.58762027,0.58762027,0.58762027,0.58762027,0.58762027,0.58762027,0.58762027,0.85178517,0.85178517,0.85178517,0.85178517,0.23198418,0.0,0.66056898,0.66056898,0.66056898,0.66056898,0.66056898,0.66056898,0.97010521,0.97010521,0.97010521,0.97010521,0.97010521,0.97010521,0.97010521,0.97010521,0.97010521,0.97010521,0.97010521,0.97010521,0.97010521,0.97010521,0.97010521,0.97010521,0.97010521,0.97010521,0.97010521,0.97010521,0.97010521,0.97010521,0.97010521,0.97010521,0.97010521,0.97010521,0.97010521,0.97010521,0.97010521,0.97010521,0.97010521,0.97010521,0.97010521,0.97010521,0.97010521,0.97010521,0.30953623,0.30953623,0.30953623,0.30953623,0.30953623,0.30953623,0.30953623,0.30953623,0.30953623,0.87205519,0.56251896,0.56251896,0.56251896,0.56251896,0.84101811,0.84101811,0.84101811,0.84101811,0.84101811,0.84101811,0.84101811,0.84101811,0.84101811,0.84101811,0.84101811,0.84101811],\"yaxis\":\"y3\"},{\"mode\":\"lines\",\"name\":\"bitstamp:/BTC:/total\",\"type\":\"scatter\",\"uid\":\"0711e7d8-cb3d-4ac5-a15a-06b73d5fd047\",\"xaxis\":\"x3\",\"y\":[10.0,10.0,10.0,10.0,10.0,10.0,10.0,10.0,10.0,10.70229649,10.70229649,10.70229649,10.70229649,10.70229649,11.07519845,11.07519845,11.07519845,11.07519845,11.07519845,11.07519845,10.70229649,10.0,10.0,10.0,10.0,10.0,10.0,10.0,10.23198418,10.23198418,10.23198418,10.23198418,10.23198418,10.23198418,10.23198418,10.23198418,10.23198418,10.23198418,10.23198418,10.23198418,10.69302072,10.69302072,10.69302072,10.69302072,10.69302072,10.69302072,10.69302072,10.69302072,10.69302072,10.69302072,10.69302072,10.69302072,10.69302072,11.15339032,11.15339032,11.15339032,11.15339032,11.15339032,11.15339032,11.15339032,11.15339032,11.15339032,11.15339032,11.15339032,11.15339032,11.15339032,11.15339032,10.23198418,10.23198418,10.23198418,10.23198418,10.23198418,10.23198418,10.23198418,10.23198418,10.23198418,10.23198418,10.23198418,10.23198418,10.23198418,10.23198418,10.23198418,10.23198418,10.23198418,10.771159,10.23198418,10.58762027,10.58762027,10.58762027,10.58762027,10.58762027,10.58762027,10.58762027,10.58762027,10.58762027,10.58762027,10.58762027,10.58762027,10.58762027,10.58762027,10.58762027,10.58762027,10.58762027,10.58762027,10.58762027,10.58762027,10.58762027,10.58762027,10.58762027,10.58762027,10.58762027,10.58762027,10.58762027,10.58762027,10.58762027,10.58762027,10.58762027,10.58762027,10.58762027,10.58762027,10.58762027,10.58762027,10.58762027,10.58762027,10.58762027,10.58762027,10.58762027,10.85178517,10.85178517,10.85178517,10.85178517,10.23198418,10.0,10.66056898,10.66056898,10.66056898,10.66056898,10.66056898,10.66056898,10.97010521,10.97010521,10.97010521,10.97010521,10.97010521,10.97010521,10.97010521,10.97010521,10.97010521,10.97010521,10.97010521,10.97010521,10.97010521,10.97010521,10.97010521,10.97010521,10.97010521,10.97010521,10.97010521,10.97010521,10.97010521,10.97010521,10.97010521,10.97010521,10.97010521,10.97010521,10.97010521,10.97010521,10.97010521,10.97010521,10.97010521,10.97010521,10.97010521,10.97010521,10.97010521,10.97010521,10.30953623,10.30953623,10.30953623,10.30953623,10.30953623,10.30953623,10.30953623,10.30953623,10.30953623,10.87205519,10.56251896,10.56251896,10.56251896,10.56251896,10.84101811,10.84101811,10.84101811,10.84101811,10.84101811,10.84101811,10.84101811,10.84101811,10.84101811,10.84101811,10.84101811,10.84101811],\"yaxis\":\"y3\"},{\"mode\":\"lines\",\"name\":\"bitstamp:/BTC:/worth\",\"type\":\"scatter\",\"uid\":\"1becf59d-1ba7-4f9d-bc78-fb6131df7711\",\"xaxis\":\"x3\",\"y\":[87409.9,87390.0,87284.9,87083.2,87959.0,87600.0,87600.0,87592.29999999999,85177.70000000001,91186.77678374699,91346.5620703427,91465.4645843466,91254.7363664585,91564.56784984401,94273.196726245,94053.68629296601,93696.178887,93862.1961117655,93650.992077324,92215.203350266,87046.3793406607,81647.9,82293.79999999999,82204.0,82388.0,82329.9,82074.79999999999,82434.5,85653.26972872339,85672.40353914,85591.3662244344,83697.5282725582,84158.0698805,84780.174518644,84653.29791481199,84898.86553513199,84719.7034921402,84441.70048196959,84947.7744195124,84883.005959653,88508.80575462,89250.2598113448,89375.475083976,89555.117832072,89485.82705780641,89465.51031843839,88910.00789203441,89433.217395864,89224.2757709952,88189.61908612799,88510.40970772799,88662.9991134024,88836.43990948079,92560.870926648,92232.62664953039,92584.0699785136,92779.3658430168,92644.40982014479,92310.2542461576,92101.2397115608,91078.58535312,91193.7998751256,91465.60799722401,90960.4709496312,90119.3937856,89974.7343131496,88759.5724377856,81592.399847365,81840.52546373,81773.9152467182,82088.13948088599,82295.5418002146,81504.6094231006,82766.008432811,83106.1195869542,82960.8254115982,83265.12462111139,83032.55162069999,82950.69574725999,82821.77274659199,82674.5344942418,83053.9364676362,83155.2331110182,82991.112084771,88489.27193701,84223.7592189356,87243.36741543509,87189.05292345,87029.179857373,87335.90321659492,86961.419087645,86828.9679580673,86818.486214,87213.404450071,87116.3159721951,87250.7787496241,86976.241756023,86501.5987393189,87134.73843146491,86880.6355449849,87374.9715353912,88565.44355855,88392.3359671355,87919.4928458773,87988.2065014296,87983.1244437,87769.99564766491,87930.0804661473,87891.54152836451,88016.15781894242,87242.7321582189,86818.3803377973,87104.1402088846,87148.81996642401,86806.7339555003,86986.2999952795,87665.3899593973,87401.6523384716,87563.854681008,87286.8825347448,87232.6739189624,87529.33903892779,87689.5297336129,88413.19357906742,88264.755142882,88268.03730516571,87995.9354642267,90201.01499370529,90560.2090828323,90907.574726124,92035.1837231387,87139.2607911848,85240.0,90796.49242541922,91238.47961533001,90849.26224187021,90454.18155547141,90811.8436447504,90497.4634655302,92880.80918361119,93164.16700118549,93183.1452831988,93366.01693704951,93230.97494191439,93806.466661231,93511.59023318619,93356.80204867311,92978.4431199802,92988.9744209818,92885.30692674729,93244.1390681664,93140.8006770882,92226.6618099389,92252.2221550782,92159.4150650016,91963.92779015939,91600.3785035,91852.8006243821,92289.30111068799,91990.5851458197,92242.4587614413,92058.4900970696,91790.8195299456,90835.1039640504,91028.9457231111,91424.7471190879,90890.5029953609,90832.4711388,91238.5844336742,91273.0305640336,91006.895811639,90453.67340589869,90667.70015854579,89954.862722,89625.7595657,84713.45920191001,84864.2877169549,84876.349874344,84799.8531155174,84538.30018136231,84744.18161987541,84414.27646051541,83510.5425145936,83270.02103434771,86592.98413344868,84331.99637815681,83965.160094676,83450.3429205656,83396.36844868,86294.5041556,85644.043069,85882.4370572389,86110.9657189977,85171.04944886071,85083.562432713,85131.04609203481,85070.553210981,85094.51186100411,85772.2923132413,85654.99249729111,85503.10983357001],\"yaxis\":\"y3\"},{\"mode\":\"lines\",\"name\":\"net_worth\",\"type\":\"scatter\",\"uid\":\"10a610f8-6895-40c9-9719-263d90a858e5\",\"xaxis\":\"x3\",\"y\":[97409.9,97390.0,97284.9,97083.2,97959.0,97600.0,97600.0,97592.29999999999,95177.70000000001,95186.77678374699,95346.5620703427,95465.4645843466,95254.7363664585,95564.56784984401,95073.196726245,94853.68629296601,94496.178887,94662.1961117655,94450.992077324,93015.203350266,90941.9493406607,91238.40999999999,91884.30999999998,91794.51,91978.51,91920.40999999999,91665.30999999998,92025.01,93325.6797287234,93344.81353914,93263.7762244344,91369.9382725582,91830.4798805,92452.584518644,92325.707914812,92571.275535132,92392.1134921402,92114.11048196959,92620.1844195124,92555.41595965301,92345.01575462,93086.46981134481,93211.685083976,93391.32783207201,93322.03705780642,93301.7203184384,92746.21789203442,93269.42739586401,93060.4857709952,92025.829086128,92346.619707728,92499.20911340241,92672.6499094808,92560.870926648,92232.62664953039,92584.0699785136,92779.3658430168,92644.40982014479,92310.2542461576,92101.2397115608,91078.58535312,91193.7998751256,91465.60799722401,90960.4709496312,90119.3937856,89974.7343131496,88759.5724377856,88903.029847365,89151.15546373,89084.5452467182,89398.769480886,89606.17180021461,88815.2394231006,90076.638432811,90416.7495869542,90271.4554115982,90575.7546211114,90343.1816207,90261.32574726,90132.402746592,89985.1644942418,90364.5664676362,90465.8631110182,90301.742084771,91413.52193701,91564.2492189356,91647.65741543508,91593.34292344999,91433.469857373,91740.19321659491,91365.709087645,91233.25795806729,91222.776214,91617.694450071,91520.60597219509,91655.0687496241,91380.53175602299,90905.88873931889,91539.0284314649,91284.9255449849,91779.2615353912,92969.73355855,92796.6259671355,92323.7828458773,92392.49650142959,92387.41444369999,92174.2856476649,92334.37046614729,92295.8315283645,92420.44781894241,91647.0221582189,91222.67033779729,91508.43020888459,91553.109966424,91211.02395550029,91390.5899952795,92069.6799593973,91805.94233847159,91968.144681008,91691.1725347448,91636.9639189624,91933.62903892779,92093.8197336129,92817.48357906741,92669.045142882,92672.3273051657,92400.22546422669,92403.16499370529,92762.35908283229,93109.724726124,94237.3337231387,94582.2407911848,94652.70999999999,94561.57242541922,95003.55961533001,94614.34224187021,94219.26155547141,94576.92364475041,94262.54346553021,94010.32918361119,94293.68700118549,94312.6652831988,94495.53693704952,94360.4949419144,94935.986661231,94641.11023318619,94486.32204867312,94107.96311998021,94118.4944209818,94014.8269267473,94373.65906816641,94270.32067708821,93356.1818099389,93381.7421550782,93288.9350650016,93093.4477901594,92729.89850350001,92982.3206243821,93418.82111068799,93120.1051458197,93371.9787614413,93188.01009706961,92920.3395299456,91964.6239640504,92158.4657231111,92554.2671190879,92020.02299536091,91961.9911388,92368.1044336742,92402.5505640336,92136.415811639,91583.1934058987,91797.2201585458,91084.38272200001,90755.27956570001,91223.63920191,91374.46771695491,91386.529874344,91310.0331155174,91048.4801813623,91254.36161987542,90924.45646051542,90020.7225145936,89780.2010343477,88546.03413344869,88743.0263781568,88376.190094676,87861.3729205656,87807.39844868,88500.02415560001,87849.56306900001,88087.9570572389,88316.4857189977,87376.56944886071,87289.08243271301,87336.56609203482,87276.073210981,87300.03186100411,87977.8123132413,87860.51249729111,87708.62983357001],\"yaxis\":\"y3\"},{\"marker\":{\"color\":\"DarkGreen\"},\"mode\":\"lines\",\"name\":\"Net Worth\",\"type\":\"scatter\",\"uid\":\"2828561d-d4ab-4f23-a15e-030b3891fe09\",\"xaxis\":\"x4\",\"y\":[97409.9,97390.0,97284.9,97083.2,97959.0,97600.0,97600.0,97592.29999999999,95177.70000000001,95186.77678374699,95346.5620703427,95465.4645843466,95254.7363664585,95564.56784984401,95073.196726245,94853.68629296601,94496.178887,94662.1961117655,94450.992077324,93015.203350266,90941.9493406607,91238.40999999999,91884.30999999998,91794.51,91978.51,91920.40999999999,91665.30999999998,92025.01,93325.6797287234,93344.81353914,93263.7762244344,91369.9382725582,91830.4798805,92452.584518644,92325.707914812,92571.275535132,92392.1134921402,92114.11048196959,92620.1844195124,92555.41595965301,92345.01575462,93086.46981134481,93211.685083976,93391.32783207201,93322.03705780642,93301.7203184384,92746.21789203442,93269.42739586401,93060.4857709952,92025.829086128,92346.619707728,92499.20911340241,92672.6499094808,92560.870926648,92232.62664953039,92584.0699785136,92779.3658430168,92644.40982014479,92310.2542461576,92101.2397115608,91078.58535312,91193.7998751256,91465.60799722401,90960.4709496312,90119.3937856,89974.7343131496,88759.5724377856,88903.029847365,89151.15546373,89084.5452467182,89398.769480886,89606.17180021461,88815.2394231006,90076.638432811,90416.7495869542,90271.4554115982,90575.7546211114,90343.1816207,90261.32574726,90132.402746592,89985.1644942418,90364.5664676362,90465.8631110182,90301.742084771,91413.52193701,91564.2492189356,91647.65741543508,91593.34292344999,91433.469857373,91740.19321659491,91365.709087645,91233.25795806729,91222.776214,91617.694450071,91520.60597219509,91655.0687496241,91380.53175602299,90905.88873931889,91539.0284314649,91284.9255449849,91779.2615353912,92969.73355855,92796.6259671355,92323.7828458773,92392.49650142959,92387.41444369999,92174.2856476649,92334.37046614729,92295.8315283645,92420.44781894241,91647.0221582189,91222.67033779729,91508.43020888459,91553.109966424,91211.02395550029,91390.5899952795,92069.6799593973,91805.94233847159,91968.144681008,91691.1725347448,91636.9639189624,91933.62903892779,92093.8197336129,92817.48357906741,92669.045142882,92672.3273051657,92400.22546422669,92403.16499370529,92762.35908283229,93109.724726124,94237.3337231387,94582.2407911848,94652.70999999999,94561.57242541922,95003.55961533001,94614.34224187021,94219.26155547141,94576.92364475041,94262.54346553021,94010.32918361119,94293.68700118549,94312.6652831988,94495.53693704952,94360.4949419144,94935.986661231,94641.11023318619,94486.32204867312,94107.96311998021,94118.4944209818,94014.8269267473,94373.65906816641,94270.32067708821,93356.1818099389,93381.7421550782,93288.9350650016,93093.4477901594,92729.89850350001,92982.3206243821,93418.82111068799,93120.1051458197,93371.9787614413,93188.01009706961,92920.3395299456,91964.6239640504,92158.4657231111,92554.2671190879,92020.02299536091,91961.9911388,92368.1044336742,92402.5505640336,92136.415811639,91583.1934058987,91797.2201585458,91084.38272200001,90755.27956570001,91223.63920191,91374.46771695491,91386.529874344,91310.0331155174,91048.4801813623,91254.36161987542,90924.45646051542,90020.7225145936,89780.2010343477,88546.03413344869,88743.0263781568,88376.190094676,87861.3729205656,87807.39844868,88500.02415560001,87849.56306900001,88087.9570572389,88316.4857189977,87376.56944886071,87289.08243271301,87336.56609203482,87276.073210981,87300.03186100411,87977.8123132413,87860.51249729111,87708.62983357001],\"yaxis\":\"y4\"}],                        {\"annotations\":[{\"arrowcolor\":\"DarkGreen\",\"arrowhead\":2,\"arrowsize\":0.8,\"arrowwidth\":4,\"ax\":0,\"ay\":15,\"hoverlabel\":{\"bgcolor\":\"DarkGreen\"},\"hovertext\":\"Step 40 [2018-05-16 21:00:00]<br>BUY 0.46103654 BTC @ 8295.85 USD MARKET<br>Total: 3824.69 USD - Comm.: 11.51 USD\",\"opacity\":0.6,\"showarrow\":true,\"x\":39,\"xref\":\"x\",\"y\":8295.85,\"yref\":\"y\"},{\"arrowcolor\":\"DarkGreen\",\"arrowhead\":2,\"arrowsize\":0.8,\"arrowwidth\":4,\"ax\":0,\"ay\":15,\"hoverlabel\":{\"bgcolor\":\"DarkGreen\"},\"hovertext\":\"Step 28 [2018-05-16 09:00:00]<br>BUY 0.23198418 BTC @ 8243.45 USD MARKET<br>Total: 1912.35 USD - Comm.: 5.75 USD\",\"opacity\":0.6,\"showarrow\":true,\"x\":27,\"xref\":\"x\",\"y\":8243.45,\"yref\":\"y\"},{\"arrowcolor\":\"FireBrick\",\"arrowhead\":2,\"arrowsize\":0.8,\"arrowwidth\":4,\"ax\":0,\"ay\":-15,\"hoverlabel\":{\"bgcolor\":\"FireBrick\"},\"hovertext\":\"Step 21 [2018-05-16 02:00:00]<br>SELL 0.7001896 BTC @ 8133.43 USD MARKET<br>Total: 5694.94 USD - Comm.: 0.00210689 BTC\",\"opacity\":0.6,\"showarrow\":true,\"x\":20,\"xref\":\"x\",\"y\":8133.43,\"yref\":\"y\"},{\"arrowcolor\":\"FireBrick\",\"arrowhead\":2,\"arrowsize\":0.8,\"arrowwidth\":4,\"ax\":0,\"ay\":-15,\"hoverlabel\":{\"bgcolor\":\"FireBrick\"},\"hovertext\":\"Step 20 [2018-05-16 01:00:00]<br>SELL 0.37178325 BTC @ 8326.28 USD MARKET<br>Total: 3095.57 USD - Comm.: 0.00111871 BTC\",\"opacity\":0.6,\"showarrow\":true,\"x\":19,\"xref\":\"x\",\"y\":8326.28,\"yref\":\"y\"},{\"arrowcolor\":\"DarkGreen\",\"arrowhead\":2,\"arrowsize\":0.8,\"arrowwidth\":4,\"ax\":0,\"ay\":15,\"hoverlabel\":{\"bgcolor\":\"DarkGreen\"},\"hovertext\":\"Step 14 [2018-05-15 19:00:00]<br>BUY 0.37290196 BTC @ 8555.6 USD MARKET<br>Total: 3190.4 USD - Comm.: 9.60 USD\",\"opacity\":0.6,\"showarrow\":true,\"x\":13,\"xref\":\"x\",\"y\":8555.6,\"yref\":\"y\"},{\"arrowcolor\":\"DarkGreen\",\"arrowhead\":2,\"arrowsize\":0.8,\"arrowwidth\":4,\"ax\":0,\"ay\":15,\"hoverlabel\":{\"bgcolor\":\"DarkGreen\"},\"hovertext\":\"Step 9 [2018-05-15 14:00:00]<br>BUY 0.70229649 BTC @ 8517.77 USD MARKET<br>Total: 5982.0 USD - Comm.: 18.00 USD\",\"opacity\":0.6,\"showarrow\":true,\"x\":8,\"xref\":\"x\",\"y\":8517.77,\"yref\":\"y\"},{\"arrowcolor\":\"DarkGreen\",\"arrowhead\":2,\"arrowsize\":0.8,\"arrowwidth\":4,\"ax\":0,\"ay\":15,\"hoverlabel\":{\"bgcolor\":\"DarkGreen\"},\"hovertext\":\"Step 86 [2018-05-18 19:00:00]<br>BUY 0.35563609 BTC @ 8231.42 USD MARKET<br>Total: 2927.39 USD - Comm.: 8.81 USD\",\"opacity\":0.6,\"showarrow\":true,\"x\":85,\"xref\":\"x\",\"y\":8231.42,\"yref\":\"y\"},{\"arrowcolor\":\"FireBrick\",\"arrowhead\":2,\"arrowsize\":0.8,\"arrowwidth\":4,\"ax\":0,\"ay\":-15,\"hoverlabel\":{\"bgcolor\":\"FireBrick\"},\"hovertext\":\"Step 85 [2018-05-18 18:00:00]<br>SELL 0.5375573 BTC @ 8215.39 USD MARKET<br>Total: 4416.24 USD - Comm.: 0.00161752 BTC\",\"opacity\":0.6,\"showarrow\":true,\"x\":84,\"xref\":\"x\",\"y\":8215.39,\"yref\":\"y\"},{\"arrowcolor\":\"DarkGreen\",\"arrowhead\":2,\"arrowsize\":0.8,\"arrowwidth\":4,\"ax\":0,\"ay\":15,\"hoverlabel\":{\"bgcolor\":\"DarkGreen\"},\"hovertext\":\"Step 84 [2018-05-18 17:00:00]<br>BUY 0.53917482 BTC @ 8110.95 USD MARKET<br>Total: 4373.22 USD - Comm.: 13.16 USD\",\"opacity\":0.6,\"showarrow\":true,\"x\":83,\"xref\":\"x\",\"y\":8110.95,\"yref\":\"y\"},{\"arrowcolor\":\"FireBrick\",\"arrowhead\":2,\"arrowsize\":0.8,\"arrowwidth\":4,\"ax\":0,\"ay\":-15,\"hoverlabel\":{\"bgcolor\":\"FireBrick\"},\"hovertext\":\"Step 67 [2018-05-18 00:00:00]<br>SELL 0.45898849 BTC @ 7958.08 USD MARKET<br>Total: 3652.67 USD - Comm.: 0.00138111 BTC\",\"opacity\":0.6,\"showarrow\":true,\"x\":66,\"xref\":\"x\",\"y\":7958.08,\"yref\":\"y\"},{\"arrowcolor\":\"FireBrick\",\"arrowhead\":2,\"arrowsize\":0.8,\"arrowwidth\":4,\"ax\":0,\"ay\":-15,\"hoverlabel\":{\"bgcolor\":\"FireBrick\"},\"hovertext\":\"Step 67 [2018-05-18 00:00:00]<br>SELL 0.45965343 BTC @ 7958.08 USD MARKET<br>Total: 3657.96 USD - Comm.: 0.00138311 BTC\",\"opacity\":0.6,\"showarrow\":true,\"x\":66,\"xref\":\"x\",\"y\":7958.08,\"yref\":\"y\"},{\"arrowcolor\":\"DarkGreen\",\"arrowhead\":2,\"arrowsize\":0.8,\"arrowwidth\":4,\"ax\":0,\"ay\":15,\"hoverlabel\":{\"bgcolor\":\"DarkGreen\"},\"hovertext\":\"Step 53 [2018-05-17 10:00:00]<br>BUY 0.4603696 BTC @ 8307.89 USD MARKET<br>Total: 3824.7 USD - Comm.: 11.51 USD\",\"opacity\":0.6,\"showarrow\":true,\"x\":52,\"xref\":\"x\",\"y\":8307.89,\"yref\":\"y\"},{\"arrowcolor\":\"DarkGreen\",\"arrowhead\":2,\"arrowsize\":0.8,\"arrowwidth\":4,\"ax\":0,\"ay\":15,\"hoverlabel\":{\"bgcolor\":\"DarkGreen\"},\"hovertext\":\"Step 139 [2018-05-21 00:00:00]<br>BUY 0.30953623 BTC @ 8488.99 USD MARKET<br>Total: 2627.65 USD - Comm.: 7.91 USD\",\"opacity\":0.6,\"showarrow\":true,\"x\":138,\"xref\":\"x\",\"y\":8488.99,\"yref\":\"y\"},{\"arrowcolor\":\"DarkGreen\",\"arrowhead\":2,\"arrowsize\":0.8,\"arrowwidth\":4,\"ax\":0,\"ay\":15,\"hoverlabel\":{\"bgcolor\":\"DarkGreen\"},\"hovertext\":\"Step 133 [2018-05-20 18:00:00]<br>BUY 0.66056898 BTC @ 8524.0 USD MARKET<br>Total: 5630.69 USD - Comm.: 16.94 USD\",\"opacity\":0.6,\"showarrow\":true,\"x\":132,\"xref\":\"x\",\"y\":8524.0,\"yref\":\"y\"},{\"arrowcolor\":\"FireBrick\",\"arrowhead\":2,\"arrowsize\":0.8,\"arrowwidth\":4,\"ax\":0,\"ay\":-15,\"hoverlabel\":{\"bgcolor\":\"FireBrick\"},\"hovertext\":\"Step 132 [2018-05-20 17:00:00]<br>SELL 0.23128823 BTC @ 8516.36 USD MARKET<br>Total: 1969.73 USD - Comm.: 0.00069595 BTC\",\"opacity\":0.6,\"showarrow\":true,\"x\":131,\"xref\":\"x\",\"y\":8516.36,\"yref\":\"y\"},{\"arrowcolor\":\"FireBrick\",\"arrowhead\":2,\"arrowsize\":0.8,\"arrowwidth\":4,\"ax\":0,\"ay\":-15,\"hoverlabel\":{\"bgcolor\":\"FireBrick\"},\"hovertext\":\"Step 131 [2018-05-20 16:00:00]<br>SELL 0.26337241 BTC @ 8481.11 USD MARKET<br>Total: 2233.69 USD - Comm.: 0.00079249 BTC\",\"opacity\":0.6,\"showarrow\":true,\"x\":130,\"xref\":\"x\",\"y\":8481.11,\"yref\":\"y\"},{\"arrowcolor\":\"FireBrick\",\"arrowhead\":2,\"arrowsize\":0.8,\"arrowwidth\":4,\"ax\":0,\"ay\":-15,\"hoverlabel\":{\"bgcolor\":\"FireBrick\"},\"hovertext\":\"Step 131 [2018-05-20 16:00:00]<br>SELL 0.35456918 BTC @ 8481.11 USD MARKET<br>Total: 3007.14 USD - Comm.: 0.00106691 BTC\",\"opacity\":0.6,\"showarrow\":true,\"x\":130,\"xref\":\"x\",\"y\":8481.11,\"yref\":\"y\"},{\"arrowcolor\":\"DarkGreen\",\"arrowhead\":2,\"arrowsize\":0.8,\"arrowwidth\":4,\"ax\":0,\"ay\":15,\"hoverlabel\":{\"bgcolor\":\"DarkGreen\"},\"hovertext\":\"Step 127 [2018-05-20 12:00:00]<br>BUY 0.2641649 BTC @ 8311.21 USD MARKET<br>Total: 2195.53 USD - Comm.: 6.61 USD\",\"opacity\":0.6,\"showarrow\":true,\"x\":126,\"xref\":\"x\",\"y\":8311.21,\"yref\":\"y\"},{\"arrowcolor\":\"DarkGreen\",\"arrowhead\":2,\"arrowsize\":0.8,\"arrowwidth\":4,\"ax\":0,\"ay\":15,\"hoverlabel\":{\"bgcolor\":\"DarkGreen\"},\"hovertext\":\"Step 189 [2018-05-23 02:00:00]<br>BUY 0.27849915 BTC @ 7895.5 USD MARKET<br>Total: 2198.89 USD - Comm.: 6.62 USD\",\"opacity\":0.6,\"showarrow\":true,\"x\":188,\"xref\":\"x\",\"y\":7895.5,\"yref\":\"y\"},{\"arrowcolor\":\"FireBrick\",\"arrowhead\":2,\"arrowsize\":0.8,\"arrowwidth\":4,\"ax\":0,\"ay\":-15,\"hoverlabel\":{\"bgcolor\":\"FireBrick\"},\"hovertext\":\"Step 185 [2018-05-22 22:00:00]<br>SELL 0.30860762 BTC @ 7964.73 USD MARKET<br>Total: 2457.98 USD - Comm.: 0.00092861 BTC\",\"opacity\":0.6,\"showarrow\":true,\"x\":184,\"xref\":\"x\",\"y\":7964.73,\"yref\":\"y\"},{\"arrowcolor\":\"DarkGreen\",\"arrowhead\":2,\"arrowsize\":0.8,\"arrowwidth\":4,\"ax\":0,\"ay\":15,\"hoverlabel\":{\"bgcolor\":\"DarkGreen\"},\"hovertext\":\"Step 184 [2018-05-22 21:00:00]<br>BUY 0.56251896 BTC @ 8076.99 USD MARKET<br>Total: 4543.46 USD - Comm.: 13.67 USD\",\"opacity\":0.6,\"showarrow\":true,\"x\":183,\"xref\":\"x\",\"y\":8076.99,\"yref\":\"y\"},{\"arrowcolor\":\"FireBrick\",\"arrowhead\":2,\"arrowsize\":0.8,\"arrowwidth\":4,\"ax\":0,\"ay\":-15,\"hoverlabel\":{\"bgcolor\":\"FireBrick\"},\"hovertext\":\"Step 175 [2018-05-22 12:00:00]<br>SELL 0.65858727 BTC @ 8170.0 USD MARKET<br>Total: 5380.66 USD - Comm.: 0.00198171 BTC\",\"opacity\":0.6,\"showarrow\":true,\"x\":174,\"xref\":\"x\",\"y\":8170.0,\"yref\":\"y\"}],\"margin\":{\"t\":50},\"template\":{\"data\":{\"bar\":[{\"error_x\":{\"color\":\"#2a3f5f\"},\"error_y\":{\"color\":\"#2a3f5f\"},\"marker\":{\"line\":{\"color\":\"white\",\"width\":0.5},\"pattern\":{\"fillmode\":\"overlay\",\"size\":10,\"solidity\":0.2}},\"type\":\"bar\"}],\"barpolar\":[{\"marker\":{\"line\":{\"color\":\"white\",\"width\":0.5},\"pattern\":{\"fillmode\":\"overlay\",\"size\":10,\"solidity\":0.2}},\"type\":\"barpolar\"}],\"carpet\":[{\"aaxis\":{\"endlinecolor\":\"#2a3f5f\",\"gridcolor\":\"#C8D4E3\",\"linecolor\":\"#C8D4E3\",\"minorgridcolor\":\"#C8D4E3\",\"startlinecolor\":\"#2a3f5f\"},\"baxis\":{\"endlinecolor\":\"#2a3f5f\",\"gridcolor\":\"#C8D4E3\",\"linecolor\":\"#C8D4E3\",\"minorgridcolor\":\"#C8D4E3\",\"startlinecolor\":\"#2a3f5f\"},\"type\":\"carpet\"}],\"choropleth\":[{\"colorbar\":{\"outlinewidth\":0,\"ticks\":\"\"},\"type\":\"choropleth\"}],\"contour\":[{\"colorbar\":{\"outlinewidth\":0,\"ticks\":\"\"},\"colorscale\":[[0.0,\"#0d0887\"],[0.1111111111111111,\"#46039f\"],[0.2222222222222222,\"#7201a8\"],[0.3333333333333333,\"#9c179e\"],[0.4444444444444444,\"#bd3786\"],[0.5555555555555556,\"#d8576b\"],[0.6666666666666666,\"#ed7953\"],[0.7777777777777778,\"#fb9f3a\"],[0.8888888888888888,\"#fdca26\"],[1.0,\"#f0f921\"]],\"type\":\"contour\"}],\"contourcarpet\":[{\"colorbar\":{\"outlinewidth\":0,\"ticks\":\"\"},\"type\":\"contourcarpet\"}],\"heatmap\":[{\"colorbar\":{\"outlinewidth\":0,\"ticks\":\"\"},\"colorscale\":[[0.0,\"#0d0887\"],[0.1111111111111111,\"#46039f\"],[0.2222222222222222,\"#7201a8\"],[0.3333333333333333,\"#9c179e\"],[0.4444444444444444,\"#bd3786\"],[0.5555555555555556,\"#d8576b\"],[0.6666666666666666,\"#ed7953\"],[0.7777777777777778,\"#fb9f3a\"],[0.8888888888888888,\"#fdca26\"],[1.0,\"#f0f921\"]],\"type\":\"heatmap\"}],\"heatmapgl\":[{\"colorbar\":{\"outlinewidth\":0,\"ticks\":\"\"},\"colorscale\":[[0.0,\"#0d0887\"],[0.1111111111111111,\"#46039f\"],[0.2222222222222222,\"#7201a8\"],[0.3333333333333333,\"#9c179e\"],[0.4444444444444444,\"#bd3786\"],[0.5555555555555556,\"#d8576b\"],[0.6666666666666666,\"#ed7953\"],[0.7777777777777778,\"#fb9f3a\"],[0.8888888888888888,\"#fdca26\"],[1.0,\"#f0f921\"]],\"type\":\"heatmapgl\"}],\"histogram\":[{\"marker\":{\"pattern\":{\"fillmode\":\"overlay\",\"size\":10,\"solidity\":0.2}},\"type\":\"histogram\"}],\"histogram2d\":[{\"colorbar\":{\"outlinewidth\":0,\"ticks\":\"\"},\"colorscale\":[[0.0,\"#0d0887\"],[0.1111111111111111,\"#46039f\"],[0.2222222222222222,\"#7201a8\"],[0.3333333333333333,\"#9c179e\"],[0.4444444444444444,\"#bd3786\"],[0.5555555555555556,\"#d8576b\"],[0.6666666666666666,\"#ed7953\"],[0.7777777777777778,\"#fb9f3a\"],[0.8888888888888888,\"#fdca26\"],[1.0,\"#f0f921\"]],\"type\":\"histogram2d\"}],\"histogram2dcontour\":[{\"colorbar\":{\"outlinewidth\":0,\"ticks\":\"\"},\"colorscale\":[[0.0,\"#0d0887\"],[0.1111111111111111,\"#46039f\"],[0.2222222222222222,\"#7201a8\"],[0.3333333333333333,\"#9c179e\"],[0.4444444444444444,\"#bd3786\"],[0.5555555555555556,\"#d8576b\"],[0.6666666666666666,\"#ed7953\"],[0.7777777777777778,\"#fb9f3a\"],[0.8888888888888888,\"#fdca26\"],[1.0,\"#f0f921\"]],\"type\":\"histogram2dcontour\"}],\"mesh3d\":[{\"colorbar\":{\"outlinewidth\":0,\"ticks\":\"\"},\"type\":\"mesh3d\"}],\"parcoords\":[{\"line\":{\"colorbar\":{\"outlinewidth\":0,\"ticks\":\"\"}},\"type\":\"parcoords\"}],\"pie\":[{\"automargin\":true,\"type\":\"pie\"}],\"scatter\":[{\"marker\":{\"colorbar\":{\"outlinewidth\":0,\"ticks\":\"\"}},\"type\":\"scatter\"}],\"scatter3d\":[{\"line\":{\"colorbar\":{\"outlinewidth\":0,\"ticks\":\"\"}},\"marker\":{\"colorbar\":{\"outlinewidth\":0,\"ticks\":\"\"}},\"type\":\"scatter3d\"}],\"scattercarpet\":[{\"marker\":{\"colorbar\":{\"outlinewidth\":0,\"ticks\":\"\"}},\"type\":\"scattercarpet\"}],\"scattergeo\":[{\"marker\":{\"colorbar\":{\"outlinewidth\":0,\"ticks\":\"\"}},\"type\":\"scattergeo\"}],\"scattergl\":[{\"marker\":{\"colorbar\":{\"outlinewidth\":0,\"ticks\":\"\"}},\"type\":\"scattergl\"}],\"scattermapbox\":[{\"marker\":{\"colorbar\":{\"outlinewidth\":0,\"ticks\":\"\"}},\"type\":\"scattermapbox\"}],\"scatterpolar\":[{\"marker\":{\"colorbar\":{\"outlinewidth\":0,\"ticks\":\"\"}},\"type\":\"scatterpolar\"}],\"scatterpolargl\":[{\"marker\":{\"colorbar\":{\"outlinewidth\":0,\"ticks\":\"\"}},\"type\":\"scatterpolargl\"}],\"scatterternary\":[{\"marker\":{\"colorbar\":{\"outlinewidth\":0,\"ticks\":\"\"}},\"type\":\"scatterternary\"}],\"surface\":[{\"colorbar\":{\"outlinewidth\":0,\"ticks\":\"\"},\"colorscale\":[[0.0,\"#0d0887\"],[0.1111111111111111,\"#46039f\"],[0.2222222222222222,\"#7201a8\"],[0.3333333333333333,\"#9c179e\"],[0.4444444444444444,\"#bd3786\"],[0.5555555555555556,\"#d8576b\"],[0.6666666666666666,\"#ed7953\"],[0.7777777777777778,\"#fb9f3a\"],[0.8888888888888888,\"#fdca26\"],[1.0,\"#f0f921\"]],\"type\":\"surface\"}],\"table\":[{\"cells\":{\"fill\":{\"color\":\"#EBF0F8\"},\"line\":{\"color\":\"white\"}},\"header\":{\"fill\":{\"color\":\"#C8D4E3\"},\"line\":{\"color\":\"white\"}},\"type\":\"table\"}]},\"layout\":{\"annotationdefaults\":{\"arrowcolor\":\"#2a3f5f\",\"arrowhead\":0,\"arrowwidth\":1},\"autotypenumbers\":\"strict\",\"coloraxis\":{\"colorbar\":{\"outlinewidth\":0,\"ticks\":\"\"}},\"colorscale\":{\"diverging\":[[0,\"#8e0152\"],[0.1,\"#c51b7d\"],[0.2,\"#de77ae\"],[0.3,\"#f1b6da\"],[0.4,\"#fde0ef\"],[0.5,\"#f7f7f7\"],[0.6,\"#e6f5d0\"],[0.7,\"#b8e186\"],[0.8,\"#7fbc41\"],[0.9,\"#4d9221\"],[1,\"#276419\"]],\"sequential\":[[0.0,\"#0d0887\"],[0.1111111111111111,\"#46039f\"],[0.2222222222222222,\"#7201a8\"],[0.3333333333333333,\"#9c179e\"],[0.4444444444444444,\"#bd3786\"],[0.5555555555555556,\"#d8576b\"],[0.6666666666666666,\"#ed7953\"],[0.7777777777777778,\"#fb9f3a\"],[0.8888888888888888,\"#fdca26\"],[1.0,\"#f0f921\"]],\"sequentialminus\":[[0.0,\"#0d0887\"],[0.1111111111111111,\"#46039f\"],[0.2222222222222222,\"#7201a8\"],[0.3333333333333333,\"#9c179e\"],[0.4444444444444444,\"#bd3786\"],[0.5555555555555556,\"#d8576b\"],[0.6666666666666666,\"#ed7953\"],[0.7777777777777778,\"#fb9f3a\"],[0.8888888888888888,\"#fdca26\"],[1.0,\"#f0f921\"]]},\"colorway\":[\"#636efa\",\"#EF553B\",\"#00cc96\",\"#ab63fa\",\"#FFA15A\",\"#19d3f3\",\"#FF6692\",\"#B6E880\",\"#FF97FF\",\"#FECB52\"],\"font\":{\"color\":\"#2a3f5f\"},\"geo\":{\"bgcolor\":\"white\",\"lakecolor\":\"white\",\"landcolor\":\"white\",\"showlakes\":true,\"showland\":true,\"subunitcolor\":\"#C8D4E3\"},\"hoverlabel\":{\"align\":\"left\"},\"hovermode\":\"closest\",\"mapbox\":{\"style\":\"light\"},\"paper_bgcolor\":\"white\",\"plot_bgcolor\":\"white\",\"polar\":{\"angularaxis\":{\"gridcolor\":\"#EBF0F8\",\"linecolor\":\"#EBF0F8\",\"ticks\":\"\"},\"bgcolor\":\"white\",\"radialaxis\":{\"gridcolor\":\"#EBF0F8\",\"linecolor\":\"#EBF0F8\",\"ticks\":\"\"}},\"scene\":{\"xaxis\":{\"backgroundcolor\":\"white\",\"gridcolor\":\"#DFE8F3\",\"gridwidth\":2,\"linecolor\":\"#EBF0F8\",\"showbackground\":true,\"ticks\":\"\",\"zerolinecolor\":\"#EBF0F8\"},\"yaxis\":{\"backgroundcolor\":\"white\",\"gridcolor\":\"#DFE8F3\",\"gridwidth\":2,\"linecolor\":\"#EBF0F8\",\"showbackground\":true,\"ticks\":\"\",\"zerolinecolor\":\"#EBF0F8\"},\"zaxis\":{\"backgroundcolor\":\"white\",\"gridcolor\":\"#DFE8F3\",\"gridwidth\":2,\"linecolor\":\"#EBF0F8\",\"showbackground\":true,\"ticks\":\"\",\"zerolinecolor\":\"#EBF0F8\"}},\"shapedefaults\":{\"line\":{\"color\":\"#2a3f5f\"}},\"ternary\":{\"aaxis\":{\"gridcolor\":\"#DFE8F3\",\"linecolor\":\"#A2B1C6\",\"ticks\":\"\"},\"baxis\":{\"gridcolor\":\"#DFE8F3\",\"linecolor\":\"#A2B1C6\",\"ticks\":\"\"},\"bgcolor\":\"white\",\"caxis\":{\"gridcolor\":\"#DFE8F3\",\"linecolor\":\"#A2B1C6\",\"ticks\":\"\"}},\"title\":{\"x\":0.05},\"xaxis\":{\"automargin\":true,\"gridcolor\":\"#EBF0F8\",\"linecolor\":\"#EBF0F8\",\"ticks\":\"\",\"title\":{\"standoff\":15},\"zerolinecolor\":\"#EBF0F8\",\"zerolinewidth\":2},\"yaxis\":{\"automargin\":true,\"gridcolor\":\"#EBF0F8\",\"linecolor\":\"#EBF0F8\",\"ticks\":\"\",\"title\":{\"standoff\":15},\"zerolinecolor\":\"#EBF0F8\",\"zerolinewidth\":2}}},\"title\":{\"text\":\"[2021-09-05 08:50:16 AM] Episode: 2/2 Step: 201/200\"},\"xaxis\":{\"anchor\":\"y\",\"domain\":[0.0,1.0],\"gridcolor\":\"Gainsboro\",\"linecolor\":\"Grey\",\"matches\":\"x4\",\"rangeslider\":{\"visible\":false},\"showticklabels\":false,\"title\":{\"font\":{\"size\":12},\"standoff\":7,\"text\":\"Price\"}},\"xaxis2\":{\"anchor\":\"y2\",\"domain\":[0.0,1.0],\"gridcolor\":\"Gainsboro\",\"linecolor\":\"Grey\",\"matches\":\"x4\",\"showticklabels\":false,\"title\":{\"font\":{\"size\":12},\"standoff\":7,\"text\":\"Volume\"}},\"xaxis3\":{\"anchor\":\"y3\",\"domain\":[0.0,1.0],\"gridcolor\":\"Gainsboro\",\"linecolor\":\"Grey\",\"matches\":\"x4\",\"showticklabels\":false,\"title\":{\"font\":{\"size\":12},\"standoff\":7,\"text\":\"Performance\"}},\"xaxis4\":{\"anchor\":\"y4\",\"domain\":[0.0,1.0],\"gridcolor\":\"Gainsboro\",\"linecolor\":\"Grey\",\"title\":{\"font\":{\"size\":12},\"standoff\":7,\"text\":\"Net Worth\"}},\"yaxis\":{\"anchor\":\"x\",\"domain\":[0.49950000000000006,1.0],\"gridcolor\":\"Gainsboro\",\"linecolor\":\"Grey\"},\"yaxis2\":{\"anchor\":\"x2\",\"domain\":[0.333,0.46950000000000003],\"gridcolor\":\"Gainsboro\",\"linecolor\":\"Grey\"},\"yaxis3\":{\"anchor\":\"x3\",\"domain\":[0.1665,0.30300000000000005],\"gridcolor\":\"Gainsboro\",\"linecolor\":\"Grey\"},\"yaxis4\":{\"anchor\":\"x4\",\"domain\":[0.0,0.1365],\"gridcolor\":\"Gainsboro\",\"linecolor\":\"Grey\"}},                        {\"responsive\": true}                    ).then(function(){\n",
       "                            \n",
       "var gd = document.getElementById('da05c8ab-8860-489a-9f3c-6020fe484149');\n",
       "var x = new MutationObserver(function (mutations, observer) {{\n",
       "        var display = window.getComputedStyle(gd).display;\n",
       "        if (!display || display === 'none') {{\n",
       "            console.log([gd, 'removed!']);\n",
       "            Plotly.purge(gd);\n",
       "            observer.disconnect();\n",
       "        }}\n",
       "}});\n",
       "\n",
       "// Listen for the removal of the full notebook cells\n",
       "var notebookContainer = gd.closest('#notebook-container');\n",
       "if (notebookContainer) {{\n",
       "    x.observe(notebookContainer, {childList: true});\n",
       "}}\n",
       "\n",
       "// Listen for the clearing of the current output cell\n",
       "var outputEl = gd.closest('.output');\n",
       "if (outputEl) {{\n",
       "    x.observe(outputEl, {childList: true});\n",
       "}}\n",
       "\n",
       "                        })                };                            </script>        </div>\n",
       "</body>\n",
       "</html>"
      ]
     },
     "metadata": {},
     "output_type": "display_data"
    },
    {
     "name": "stdout",
     "output_type": "stream",
     "text": [
      "WARNING:tensorflow:Compiled the loaded model, but the compiled metrics have yet to be built. `model.compile_metrics` will be empty until you train or evaluate the model.\n"
     ]
    },
    {
     "name": "stderr",
     "output_type": "stream",
     "text": [
      "WARNING:tensorflow:Compiled the loaded model, but the compiled metrics have yet to be built. `model.compile_metrics` will be empty until you train or evaluate the model.\n"
     ]
    },
    {
     "data": {
      "text/plain": [
       "-1009854.7127037987"
      ]
     },
     "execution_count": 9,
     "metadata": {},
     "output_type": "execute_result"
    }
   ],
   "source": [
    "# training a DQN trading agent\n",
    "agent = DQNAgent(env)\n",
    "\n",
    "agent.train(n_steps=200, n_episodes=2, save_path=\"agents/\")"
   ]
  },
  {
   "cell_type": "code",
   "execution_count": 10,
   "metadata": {
    "colab": {
     "base_uri": "https://localhost:8080/",
     "height": 282
    },
    "id": "dtoYz5bOKGdo",
    "outputId": "fc4372f2-1d3f-4072-e452-2d91d41a2abe"
   },
   "outputs": [
    {
     "data": {
      "text/plain": [
       "<matplotlib.axes._subplots.AxesSubplot at 0x7f3c0eb8b2d0>"
      ]
     },
     "execution_count": 10,
     "metadata": {},
     "output_type": "execute_result"
    },
    {
     "data": {
      "image/png": "[encoded data removed]",
      "text/plain": [
       "<Figure size 432x288 with 1 Axes>"
      ]
     },
     "metadata": {
      "needs_background": "light"
     },
     "output_type": "display_data"
    }
   ],
   "source": [
    "%matplotlib inline\n",
    "\n",
    "performance = pd.DataFrame.from_dict(env.action_scheme.portfolio.performance, orient='index')\n",
    "performance.plot()"
   ]
  },
  {
   "cell_type": "code",
   "execution_count": 13,
   "metadata": {
    "colab": {
     "base_uri": "https://localhost:8080/",
     "height": 282
    },
    "id": "URT6-E9wVtIt",
    "outputId": "0b293bc2-46a6-4031-ea0c-9c8415f60d77"
   },
   "outputs": [
    {
     "data": {
      "text/plain": [
       "<matplotlib.axes._subplots.AxesSubplot at 0x7f3c0e461e90>"
      ]
     },
     "execution_count": 13,
     "metadata": {},
     "output_type": "execute_result"
    },
    {
     "data": {
      "image/png": "[encoded data removed]",
      "text/plain": [
       "<Figure size 432x288 with 1 Axes>"
      ]
     },
     "metadata": {
      "needs_background": "light"
     },
     "output_type": "display_data"
    }
   ],
   "source": [
    "performance[\"net_worth\"].plot()"
   ]
  },
  {
   "cell_type": "code",
   "execution_count": null,
   "metadata": {
    "id": "GymCxiqfV0VM"
   },
   "outputs": [],
   "source": []
  }
 ],
 "metadata": {
  "colab": {
   "collapsed_sections": [],
   "name": "train_and_evaluate.ipynb",
   "provenance": []
  },
  "kernelspec": {
   "display_name": "Python 3",
   "language": "python",
   "name": "python3"
  },
  "language_info": {
   "codemirror_mode": {
    "name": "ipython",
    "version": 3
   },
   "file_extension": ".py",
   "mimetype": "text/x-python",
   "name": "python",
   "nbconvert_exporter": "python",
   "pygments_lexer": "ipython3",
   "version": "3.8.8"
  },
  "widgets": {
   "application/vnd.jupyter.widget-state+json": {
    "9bcf0bbf1c1c49859a2dfa40acce1038": {
     "model_module": "jupyterlab-plotly",
     "model_module_version": "^5.3.1",
     "model_name": "FigureModel",
     "state": {
      "_config": {
       "plotlyServerURL": "https://plot.ly"
      },
      "_data": [
       {
        "name": "Price",
        "showlegend": false,
        "type": "candlestick",
        "uid": "01cfb1c8-0b02-4886-8b0a-96261fa2aa5c",
        "xaxis": "x",
        "yaxis": "y"
       },
       {
        "marker": {
         "color": "DodgerBlue"
        },
        "name": "Volume",
        "showlegend": false,
        "type": "bar",
        "uid": "2a7afce9-70fd-4d19-aed6-6facf6c7ebb6",
        "xaxis": "x2",
        "yaxis": "y2"
       },
       {
        "mode": "lines",
        "name": "bitstamp:/USD-BTC",
        "type": "scatter",
        "uid": "aa25b938-fd39-4f85-817e-a103f1cfec50",
        "xaxis": "x3",
        "yaxis": "y3"
       },
       {
        "mode": "lines",
        "name": "bitstamp:/USD:/free",
        "type": "scatter",
        "uid": "a0fc54b0-38cc-433f-9e09-2e99cd52dd35",
        "xaxis": "x3",
        "yaxis": "y3"
       },
       {
        "mode": "lines",
        "name": "bitstamp:/USD:/locked",
        "type": "scatter",
        "uid": "2722bdc7-4f3f-44bf-abd7-c617032d27e5",
        "xaxis": "x3",
        "yaxis": "y3"
       },
       {
        "mode": "lines",
        "name": "bitstamp:/USD:/total",
        "type": "scatter",
        "uid": "50a887ba-dc1c-49e1-9919-2c6a5f1ce675",
        "xaxis": "x3",
        "yaxis": "y3"
       },
       {
        "mode": "lines",
        "name": "bitstamp:/BTC:/free",
        "type": "scatter",
        "uid": "6a76eb19-21b7-4b89-a4c7-dd64c09913ed",
        "xaxis": "x3",
        "yaxis": "y3"
       },
       {
        "mode": "lines",
        "name": "bitstamp:/BTC:/locked",
        "type": "scatter",
        "uid": "5ab63988-9d48-4993-9003-f90c3460589b",
        "xaxis": "x3",
        "yaxis": "y3"
       },
       {
        "mode": "lines",
        "name": "bitstamp:/BTC:/total",
        "type": "scatter",
        "uid": "0711e7d8-cb3d-4ac5-a15a-06b73d5fd047",
        "xaxis": "x3",
        "yaxis": "y3"
       },
       {
        "mode": "lines",
        "name": "bitstamp:/BTC:/worth",
        "type": "scatter",
        "uid": "1becf59d-1ba7-4f9d-bc78-fb6131df7711",
        "xaxis": "x3",
        "yaxis": "y3"
       },
       {
        "mode": "lines",
        "name": "net_worth",
        "type": "scatter",
        "uid": "10a610f8-6895-40c9-9719-263d90a858e5",
        "xaxis": "x3",
        "yaxis": "y3"
       },
       {
        "marker": {
         "color": "DarkGreen"
        },
        "mode": "lines",
        "name": "Net Worth",
        "type": "scatter",
        "uid": "2828561d-d4ab-4f23-a15e-030b3891fe09",
        "xaxis": "x4",
        "yaxis": "y4"
       }
      ],
      "_dom_classes": [],
      "_js2py_layoutDelta": {},
      "_js2py_pointsCallback": {},
      "_js2py_relayout": {},
      "_js2py_restyle": {},
      "_js2py_traceDeltas": {},
      "_js2py_update": {},
      "_last_layout_edit_id": 86,
      "_last_trace_edit_id": 73,
      "_layout": {
       "template": {
        "data": {
         "bar": [
          {
           "error_x": {
            "color": "#2a3f5f"
           },
           "error_y": {
            "color": "#2a3f5f"
           },
           "marker": {
            "line": {
             "color": "#E5ECF6",
             "width": 0.5
            },
            "pattern": {
             "fillmode": "overlay",
             "size": 10,
             "solidity": 0.2
            }
           },
           "type": "bar"
          }
         ],
         "barpolar": [
          {
           "marker": {
            "line": {
             "color": "#E5ECF6",
             "width": 0.5
            },
            "pattern": {
             "fillmode": "overlay",
             "size": 10,
             "solidity": 0.2
            }
           },
           "type": "barpolar"
          }
         ],
         "carpet": [
          {
           "aaxis": {
            "endlinecolor": "#2a3f5f",
            "gridcolor": "white",
            "linecolor": "white",
            "minorgridcolor": "white",
            "startlinecolor": "#2a3f5f"
           },
           "baxis": {
            "endlinecolor": "#2a3f5f",
            "gridcolor": "white",
            "linecolor": "white",
            "minorgridcolor": "white",
            "startlinecolor": "#2a3f5f"
           },
           "type": "carpet"
          }
         ],
         "choropleth": [
          {
           "colorbar": {
            "outlinewidth": 0,
            "ticks": ""
           },
           "type": "choropleth"
          }
         ],
         "contour": [
          {
           "colorbar": {
            "outlinewidth": 0,
            "ticks": ""
           },
           "colorscale": [
            [
             0,
             "#0d0887"
            ],
            [
             0.1111111111111111,
             "#46039f"
            ],
            [
             0.2222222222222222,
             "#7201a8"
            ],
            [
             0.3333333333333333,
             "#9c179e"
            ],
            [
             0.4444444444444444,
             "#bd3786"
            ],
            [
             0.5555555555555556,
             "#d8576b"
            ],
            [
             0.6666666666666666,
             "#ed7953"
            ],
            [
             0.7777777777777778,
             "#fb9f3a"
            ],
            [
             0.8888888888888888,
             "#fdca26"
            ],
            [
             1,
             "#f0f921"
            ]
           ],
           "type": "contour"
          }
         ],
         "contourcarpet": [
          {
           "colorbar": {
            "outlinewidth": 0,
            "ticks": ""
           },
           "type": "contourcarpet"
          }
         ],
         "heatmap": [
          {
           "colorbar": {
            "outlinewidth": 0,
            "ticks": ""
           },
           "colorscale": [
            [
             0,
             "#0d0887"
            ],
            [
             0.1111111111111111,
             "#46039f"
            ],
            [
             0.2222222222222222,
             "#7201a8"
            ],
            [
             0.3333333333333333,
             "#9c179e"
            ],
            [
             0.4444444444444444,
             "#bd3786"
            ],
            [
             0.5555555555555556,
             "#d8576b"
            ],
            [
             0.6666666666666666,
             "#ed7953"
            ],
            [
             0.7777777777777778,
             "#fb9f3a"
            ],
            [
             0.8888888888888888,
             "#fdca26"
            ],
            [
             1,
             "#f0f921"
            ]
           ],
           "type": "heatmap"
          }
         ],
         "heatmapgl": [
          {
           "colorbar": {
            "outlinewidth": 0,
            "ticks": ""
           },
           "colorscale": [
            [
             0,
             "#0d0887"
            ],
            [
             0.1111111111111111,
             "#46039f"
            ],
            [
             0.2222222222222222,
             "#7201a8"
            ],
            [
             0.3333333333333333,
             "#9c179e"
            ],
            [
             0.4444444444444444,
             "#bd3786"
            ],
            [
             0.5555555555555556,
             "#d8576b"
            ],
            [
             0.6666666666666666,
             "#ed7953"
            ],
            [
             0.7777777777777778,
             "#fb9f3a"
            ],
            [
             0.8888888888888888,
             "#fdca26"
            ],
            [
             1,
             "#f0f921"
            ]
           ],
           "type": "heatmapgl"
          }
         ],
         "histogram": [
          {
           "marker": {
            "pattern": {
             "fillmode": "overlay",
             "size": 10,
             "solidity": 0.2
            }
           },
           "type": "histogram"
          }
         ],
         "histogram2d": [
          {
           "colorbar": {
            "outlinewidth": 0,
            "ticks": ""
           },
           "colorscale": [
            [
             0,
             "#0d0887"
            ],
            [
             0.1111111111111111,
             "#46039f"
            ],
            [
             0.2222222222222222,
             "#7201a8"
            ],
            [
             0.3333333333333333,
             "#9c179e"
            ],
            [
             0.4444444444444444,
             "#bd3786"
            ],
            [
             0.5555555555555556,
             "#d8576b"
            ],
            [
             0.6666666666666666,
             "#ed7953"
            ],
            [
             0.7777777777777778,
             "#fb9f3a"
            ],
            [
             0.8888888888888888,
             "#fdca26"
            ],
            [
             1,
             "#f0f921"
            ]
           ],
           "type": "histogram2d"
          }
         ],
         "histogram2dcontour": [
          {
           "colorbar": {
            "outlinewidth": 0,
            "ticks": ""
           },
           "colorscale": [
            [
             0,
             "#0d0887"
            ],
            [
             0.1111111111111111,
             "#46039f"
            ],
            [
             0.2222222222222222,
             "#7201a8"
            ],
            [
             0.3333333333333333,
             "#9c179e"
            ],
            [
             0.4444444444444444,
             "#bd3786"
            ],
            [
             0.5555555555555556,
             "#d8576b"
            ],
            [
             0.6666666666666666,
             "#ed7953"
            ],
            [
             0.7777777777777778,
             "#fb9f3a"
            ],
            [
             0.8888888888888888,
             "#fdca26"
            ],
            [
             1,
             "#f0f921"
            ]
           ],
           "type": "histogram2dcontour"
          }
         ],
         "mesh3d": [
          {
           "colorbar": {
            "outlinewidth": 0,
            "ticks": ""
           },
           "type": "mesh3d"
          }
         ],
         "parcoords": [
          {
           "line": {
            "colorbar": {
             "outlinewidth": 0,
             "ticks": ""
            }
           },
           "type": "parcoords"
          }
         ],
         "pie": [
          {
           "automargin": true,
           "type": "pie"
          }
         ],
         "scatter": [
          {
           "marker": {
            "colorbar": {
             "outlinewidth": 0,
             "ticks": ""
            }
           },
           "type": "scatter"
          }
         ],
         "scatter3d": [
          {
           "line": {
            "colorbar": {
             "outlinewidth": 0,
             "ticks": ""
            }
           },
           "marker": {
            "colorbar": {
             "outlinewidth": 0,
             "ticks": ""
            }
           },
           "type": "scatter3d"
          }
         ],
         "scattercarpet": [
          {
           "marker": {
            "colorbar": {
             "outlinewidth": 0,
             "ticks": ""
            }
           },
           "type": "scattercarpet"
          }
         ],
         "scattergeo": [
          {
           "marker": {
            "colorbar": {
             "outlinewidth": 0,
             "ticks": ""
            }
           },
           "type": "scattergeo"
          }
         ],
         "scattergl": [
          {
           "marker": {
            "colorbar": {
             "outlinewidth": 0,
             "ticks": ""
            }
           },
           "type": "scattergl"
          }
         ],
         "scattermapbox": [
          {
           "marker": {
            "colorbar": {
             "outlinewidth": 0,
             "ticks": ""
            }
           },
           "type": "scattermapbox"
          }
         ],
         "scatterpolar": [
          {
           "marker": {
            "colorbar": {
             "outlinewidth": 0,
             "ticks": ""
            }
           },
           "type": "scatterpolar"
          }
         ],
         "scatterpolargl": [
          {
           "marker": {
            "colorbar": {
             "outlinewidth": 0,
             "ticks": ""
            }
           },
           "type": "scatterpolargl"
          }
         ],
         "scatterternary": [
          {
           "marker": {
            "colorbar": {
             "outlinewidth": 0,
             "ticks": ""
            }
           },
           "type": "scatterternary"
          }
         ],
         "surface": [
          {
           "colorbar": {
            "outlinewidth": 0,
            "ticks": ""
           },
           "colorscale": [
            [
             0,
             "#0d0887"
            ],
            [
             0.1111111111111111,
             "#46039f"
            ],
            [
             0.2222222222222222,
             "#7201a8"
            ],
            [
             0.3333333333333333,
             "#9c179e"
            ],
            [
             0.4444444444444444,
             "#bd3786"
            ],
            [
             0.5555555555555556,
             "#d8576b"
            ],
            [
             0.6666666666666666,
             "#ed7953"
            ],
            [
             0.7777777777777778,
             "#fb9f3a"
            ],
            [
             0.8888888888888888,
             "#fdca26"
            ],
            [
             1,
             "#f0f921"
            ]
           ],
           "type": "surface"
          }
         ],
         "table": [
          {
           "cells": {
            "fill": {
             "color": "#EBF0F8"
            },
            "line": {
             "color": "white"
            }
           },
           "header": {
            "fill": {
             "color": "#C8D4E3"
            },
            "line": {
             "color": "white"
            }
           },
           "type": "table"
          }
         ]
        },
        "layout": {
         "annotationdefaults": {
          "arrowcolor": "#2a3f5f",
          "arrowhead": 0,
          "arrowwidth": 1
         },
         "autotypenumbers": "strict",
         "coloraxis": {
          "colorbar": {
           "outlinewidth": 0,
           "ticks": ""
          }
         },
         "colorscale": {
          "diverging": [
           [
            0,
            "#8e0152"
           ],
           [
            0.1,
            "#c51b7d"
           ],
           [
            0.2,
            "#de77ae"
           ],
           [
            0.3,
            "#f1b6da"
           ],
           [
            0.4,
            "#fde0ef"
           ],
           [
            0.5,
            "#f7f7f7"
           ],
           [
            0.6,
            "#e6f5d0"
           ],
           [
            0.7,
            "#b8e186"
           ],
           [
            0.8,
            "#7fbc41"
           ],
           [
            0.9,
            "#4d9221"
           ],
           [
            1,
            "#276419"
           ]
          ],
          "sequential": [
           [
            0,
            "#0d0887"
           ],
           [
            0.1111111111111111,
            "#46039f"
           ],
           [
            0.2222222222222222,
            "#7201a8"
           ],
           [
            0.3333333333333333,
            "#9c179e"
           ],
           [
            0.4444444444444444,
            "#bd3786"
           ],
           [
            0.5555555555555556,
            "#d8576b"
           ],
           [
            0.6666666666666666,
            "#ed7953"
           ],
           [
            0.7777777777777778,
            "#fb9f3a"
           ],
           [
            0.8888888888888888,
            "#fdca26"
           ],
           [
            1,
            "#f0f921"
           ]
          ],
          "sequentialminus": [
           [
            0,
            "#0d0887"
           ],
           [
            0.1111111111111111,
            "#46039f"
           ],
           [
            0.2222222222222222,
            "#7201a8"
           ],
           [
            0.3333333333333333,
            "#9c179e"
           ],
           [
            0.4444444444444444,
            "#bd3786"
           ],
           [
            0.5555555555555556,
            "#d8576b"
           ],
           [
            0.6666666666666666,
            "#ed7953"
           ],
           [
            0.7777777777777778,
            "#fb9f3a"
           ],
           [
            0.8888888888888888,
            "#fdca26"
           ],
           [
            1,
            "#f0f921"
           ]
          ]
         },
         "colorway": [
          "#636efa",
          "#EF553B",
          "#00cc96",
          "#ab63fa",
          "#FFA15A",
          "#19d3f3",
          "#FF6692",
          "#B6E880",
          "#FF97FF",
          "#FECB52"
         ],
         "font": {
          "color": "#2a3f5f"
         },
         "geo": {
          "bgcolor": "white",
          "lakecolor": "white",
          "landcolor": "#E5ECF6",
          "showlakes": true,
          "showland": true,
          "subunitcolor": "white"
         },
         "hoverlabel": {
          "align": "left"
         },
         "hovermode": "closest",
         "mapbox": {
          "style": "light"
         },
         "paper_bgcolor": "white",
         "plot_bgcolor": "#E5ECF6",
         "polar": {
          "angularaxis": {
           "gridcolor": "white",
           "linecolor": "white",
           "ticks": ""
          },
          "bgcolor": "#E5ECF6",
          "radialaxis": {
           "gridcolor": "white",
           "linecolor": "white",
           "ticks": ""
          }
         },
         "scene": {
          "xaxis": {
           "backgroundcolor": "#E5ECF6",
           "gridcolor": "white",
           "gridwidth": 2,
           "linecolor": "white",
           "showbackground": true,
           "ticks": "",
           "zerolinecolor": "white"
          },
          "yaxis": {
           "backgroundcolor": "#E5ECF6",
           "gridcolor": "white",
           "gridwidth": 2,
           "linecolor": "white",
           "showbackground": true,
           "ticks": "",
           "zerolinecolor": "white"
          },
          "zaxis": {
           "backgroundcolor": "#E5ECF6",
           "gridcolor": "white",
           "gridwidth": 2,
           "linecolor": "white",
           "showbackground": true,
           "ticks": "",
           "zerolinecolor": "white"
          }
         },
         "shapedefaults": {
          "line": {
           "color": "#2a3f5f"
          }
         },
         "ternary": {
          "aaxis": {
           "gridcolor": "white",
           "linecolor": "white",
           "ticks": ""
          },
          "baxis": {
           "gridcolor": "white",
           "linecolor": "white",
           "ticks": ""
          },
          "bgcolor": "#E5ECF6",
          "caxis": {
           "gridcolor": "white",
           "linecolor": "white",
           "ticks": ""
          }
         },
         "title": {
          "x": 0.05
         },
         "xaxis": {
          "automargin": true,
          "gridcolor": "white",
          "linecolor": "white",
          "ticks": "",
          "title": {
           "standoff": 15
          },
          "zerolinecolor": "white",
          "zerolinewidth": 2
         },
         "yaxis": {
          "automargin": true,
          "gridcolor": "white",
          "linecolor": "white",
          "ticks": "",
          "title": {
           "standoff": 15
          },
          "zerolinecolor": "white",
          "zerolinewidth": 2
         }
        }
       },
       "xaxis": {
        "anchor": "y",
        "domain": [
         0,
         1
        ],
        "gridcolor": "Gainsboro",
        "linecolor": "Grey",
        "matches": "x4",
        "rangeslider": {
         "visible": false
        },
        "showticklabels": false,
        "title": {
         "font": {
          "size": 12
         },
         "standoff": 7,
         "text": "Price"
        }
       },
       "xaxis2": {
        "anchor": "y2",
        "domain": [
         0,
         1
        ],
        "gridcolor": "Gainsboro",
        "linecolor": "Grey",
        "matches": "x4",
        "showticklabels": false,
        "title": {
         "font": {
          "size": 12
         },
         "standoff": 7,
         "text": "Volume"
        }
       },
       "xaxis3": {
        "anchor": "y3",
        "domain": [
         0,
         1
        ],
        "gridcolor": "Gainsboro",
        "linecolor": "Grey",
        "matches": "x4",
        "showticklabels": false,
        "title": {
         "font": {
          "size": 12
         },
         "standoff": 7,
         "text": "Performance"
        }
       },
       "xaxis4": {
        "anchor": "y4",
        "domain": [
         0,
         1
        ],
        "gridcolor": "Gainsboro",
        "linecolor": "Grey",
        "title": {
         "font": {
          "size": 12
         },
         "standoff": 7,
         "text": "Net Worth"
        }
       },
       "yaxis": {
        "anchor": "x",
        "domain": [
         0.49950000000000006,
         1
        ],
        "gridcolor": "Gainsboro",
        "linecolor": "Grey"
       },
       "yaxis2": {
        "anchor": "x2",
        "domain": [
         0.333,
         0.46950000000000003
        ],
        "gridcolor": "Gainsboro",
        "linecolor": "Grey"
       },
       "yaxis3": {
        "anchor": "x3",
        "domain": [
         0.1665,
         0.30300000000000005
        ],
        "gridcolor": "Gainsboro",
        "linecolor": "Grey"
       },
       "yaxis4": {
        "anchor": "x4",
        "domain": [
         0,
         0.1365
        ],
        "gridcolor": "Gainsboro",
        "linecolor": "Grey"
       }
      },
      "_model_module": "jupyterlab-plotly",
      "_model_module_version": "^5.3.1",
      "_model_name": "FigureModel",
      "_py2js_addTraces": {},
      "_py2js_animate": {},
      "_py2js_deleteTraces": {},
      "_py2js_moveTraces": {},
      "_py2js_relayout": null,
      "_py2js_removeLayoutProps": {},
      "_py2js_removeTraceProps": {},
      "_py2js_restyle": {},
      "_py2js_update": null,
      "_view_count": 0,
      "_view_module": "jupyterlab-plotly",
      "_view_module_version": "^5.3.1",
      "_view_name": "FigureView"
     }
    }
   }
  }
 },
 "nbformat": 4,
 "nbformat_minor": 4
}
